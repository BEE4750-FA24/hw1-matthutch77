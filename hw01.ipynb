{
  "cells": [
    {
      "cell_type": "markdown",
      "id": "9097e2ab-6249-4b31-9a2f-00089c083b72",
      "metadata": {},
      "source": [
        "# BEE 4750 Homework 1: Introduction to Using Julia\n",
        "\n",
        "**Name**:\n",
        "\n",
        "**ID**:\n",
        "\n",
        "> **Due Date**\n",
        ">\n",
        "> Thursday, 9/5/24, 9:00pm\n",
        "\n",
        "## Overview\n",
        "\n",
        "### Instructions\n",
        "\n",
        "-   Problem 1 consist of a series of code snippets for you to interpret\n",
        "    and debug. You will be asked to identify relevant error(s) and fix\n",
        "    the code.\n",
        "-   Problem 2 gives you some code that works as intended; your goal is\n",
        "    to identify the code’s purpose by following its logic.\n",
        "-   Problem 3 asks you to write code to generate a random vector and\n",
        "    subtract off its mean, using a Julia syntax called broadcasting.\n",
        "-   Problem 4 asks you to convert a verbal description of a wastewater\n",
        "    treatment system into a Julia function, and then to use that\n",
        "    function to explore the impact of different wastewater allocation\n",
        "    strategies.\n",
        "-   Problem 5 (5750 only) asks you to use more advanced Julia\n",
        "    techniques.\n",
        "\n",
        "### Load Environment\n",
        "\n",
        "The following code loads the environment and makes sure all needed\n",
        "packages are installed. This should be at the start of most Julia\n",
        "scripts."
      ]
    },
    {
      "cell_type": "code",
      "execution_count": 1,
      "id": "2",
      "metadata": {},
      "outputs": [
        {
          "name": "stderr",
          "output_type": "stream",
          "text": [
            "\u001b[32m\u001b[1m  Activating\u001b[22m\u001b[39m project at `~/Desktop/BEE4750/Homeworks/hw1-matthutch77`\n",
            "\u001b[32m\u001b[1m   Installed\u001b[22m\u001b[39m GR_jll ────────────────────── v0.73.5+0\n",
            "\u001b[32m\u001b[1m   Installed\u001b[22m\u001b[39m ConcurrentUtilities ───────── v2.4.1\n",
            "\u001b[32m\u001b[1m   Installed\u001b[22m\u001b[39m NetworkLayout ─────────────── v0.4.6\n",
            "\u001b[32m\u001b[1m   Installed\u001b[22m\u001b[39m ArnoldiMethod ─────────────── v0.4.0\n",
            "\u001b[32m\u001b[1m   Installed\u001b[22m\u001b[39m EarCut_jll ────────────────── v2.2.4+0\n",
            "\u001b[32m\u001b[1m   Installed\u001b[22m\u001b[39m StaticArrays ──────────────── v1.9.4\n",
            "\u001b[32m\u001b[1m   Installed\u001b[22m\u001b[39m GLFW_jll ──────────────────── v3.3.9+0\n",
            "\u001b[32m\u001b[1m   Installed\u001b[22m\u001b[39m StaticArraysCore ──────────── v1.4.2\n",
            "\u001b[32m\u001b[1m   Installed\u001b[22m\u001b[39m IJulia ────────────────────── v1.24.2\n",
            "\u001b[32m\u001b[1m   Installed\u001b[22m\u001b[39m TranscodingStreams ────────── v0.10.9\n",
            "\u001b[32m\u001b[1m   Installed\u001b[22m\u001b[39m Graphs ────────────────────── v1.11.0\n",
            "\u001b[32m\u001b[1m   Installed\u001b[22m\u001b[39m OffsetArrays ──────────────── v1.14.0\n",
            "\u001b[32m\u001b[1m   Installed\u001b[22m\u001b[39m CodecZlib ─────────────────── v0.7.4\n",
            "\u001b[32m\u001b[1m   Installed\u001b[22m\u001b[39m Ratios ────────────────────── v0.4.5\n",
            "\u001b[32m\u001b[1m   Installed\u001b[22m\u001b[39m Xorg_libxcb_jll ───────────── v1.15.0+0\n",
            "\u001b[32m\u001b[1m   Installed\u001b[22m\u001b[39m GeometryTypes ─────────────── v0.8.5\n",
            "\u001b[32m\u001b[1m   Installed\u001b[22m\u001b[39m Conda ─────────────────────── v1.10.0\n",
            "\u001b[32m\u001b[1m   Installed\u001b[22m\u001b[39m GraphRecipes ──────────────── v0.5.13\n",
            "\u001b[32m\u001b[1m   Installed\u001b[22m\u001b[39m TableTraits ───────────────── v1.0.1\n",
            "\u001b[32m\u001b[1m   Installed\u001b[22m\u001b[39m Inflate ───────────────────── v0.1.5\n",
            "\u001b[32m\u001b[1m   Installed\u001b[22m\u001b[39m ZMQ ───────────────────────── v1.2.5\n",
            "\u001b[32m\u001b[1m   Installed\u001b[22m\u001b[39m Plots ─────────────────────── v1.40.4\n",
            "\u001b[32m\u001b[1m   Installed\u001b[22m\u001b[39m Extents ───────────────────── v0.1.2\n",
            "\u001b[32m\u001b[1m   Installed\u001b[22m\u001b[39m ConstructionBase ──────────── v1.5.5\n",
            "\u001b[32m\u001b[1m   Installed\u001b[22m\u001b[39m LogExpFunctions ───────────── v0.3.27\n",
            "\u001b[32m\u001b[1m   Installed\u001b[22m\u001b[39m DataValueInterfaces ───────── v1.0.0\n",
            "\u001b[32m\u001b[1m   Installed\u001b[22m\u001b[39m XSLT_jll ──────────────────── v1.1.34+0\n",
            "\u001b[32m\u001b[1m   Installed\u001b[22m\u001b[39m AbstractTrees ─────────────── v0.4.5\n",
            "\u001b[32m\u001b[1m   Installed\u001b[22m\u001b[39m SimpleTraits ──────────────── v0.9.4\n",
            "\u001b[32m\u001b[1m   Installed\u001b[22m\u001b[39m Adapt ─────────────────────── v4.0.4\n",
            "\u001b[32m\u001b[1m   Installed\u001b[22m\u001b[39m ChainRulesCore ────────────── v1.23.0\n",
            "\u001b[32m\u001b[1m   Installed\u001b[22m\u001b[39m Interpolations ────────────── v0.15.1\n",
            "\u001b[32m\u001b[1m   Installed\u001b[22m\u001b[39m XML2_jll ──────────────────── v2.12.7+0\n",
            "\u001b[32m\u001b[1m   Installed\u001b[22m\u001b[39m IterTools ─────────────────── v1.10.0\n",
            "\u001b[32m\u001b[1m   Installed\u001b[22m\u001b[39m Latexify ──────────────────── v0.16.3\n",
            "\u001b[32m\u001b[1m   Installed\u001b[22m\u001b[39m OpenSSL_jll ───────────────── v3.0.13+1\n",
            "\u001b[32m\u001b[1m   Installed\u001b[22m\u001b[39m BitFlags ──────────────────── v0.1.8\n",
            "\u001b[32m\u001b[1m   Installed\u001b[22m\u001b[39m GeometryBasics ────────────── v0.4.11\n",
            "\u001b[32m\u001b[1m   Installed\u001b[22m\u001b[39m Tables ────────────────────── v1.11.1\n",
            "\u001b[32m\u001b[1m   Installed\u001b[22m\u001b[39m Qt6Base_jll ───────────────── v6.5.3+1\n",
            "\u001b[32m\u001b[1m   Installed\u001b[22m\u001b[39m AxisAlgorithms ────────────── v1.1.0\n",
            "\u001b[32m\u001b[1m   Installed\u001b[22m\u001b[39m IteratorInterfaceExtensions ─ v1.0.0\n",
            "\u001b[32m\u001b[1m   Installed\u001b[22m\u001b[39m StructArrays ──────────────── v0.6.18\n",
            "\u001b[32m\u001b[1m   Installed\u001b[22m\u001b[39m GeoInterface ──────────────── v1.3.4\n",
            "\u001b[32m\u001b[1m   Installed\u001b[22m\u001b[39m WoodburyMatrices ──────────── v1.0.0\n",
            "\u001b[32m\u001b[1m   Installed\u001b[22m\u001b[39m UnitfulLatexify ───────────── v1.6.3\n",
            "\u001b[32m\u001b[1m   Installed\u001b[22m\u001b[39m GR ────────────────────────── v0.73.5\n",
            "\u001b[32m\u001b[1m    Building\u001b[22m\u001b[39m Conda ─→ `~/.julia/scratchspaces/44cfe95a-1eb2-52ea-b672-e2afdf69b78f/51cab8e982c5b598eea9c8ceaced4b58d9dd37c9/build.log`\n",
            "\u001b[32m\u001b[1m    Building\u001b[22m\u001b[39m IJulia → `~/.julia/scratchspaces/44cfe95a-1eb2-52ea-b672-e2afdf69b78f/47ac8cc196b81001a711f4b2c12c97372338f00c/build.log`\n",
            "\u001b[32m\u001b[1mPrecompiling\u001b[22m\u001b[39m project...\n",
            "\u001b[32m  ✓ \u001b[39m\u001b[90mIteratorInterfaceExtensions\u001b[39m\n",
            "\u001b[32m  ✓ \u001b[39m\u001b[90mDataValueInterfaces\u001b[39m\n",
            "\u001b[32m  ✓ \u001b[39m\u001b[90mIterTools\u001b[39m\n",
            "\u001b[32m  ✓ \u001b[39m\u001b[90mConcurrentUtilities\u001b[39m\n",
            "\u001b[32m  ✓ \u001b[39m\u001b[90mOffsetArrays\u001b[39m\n",
            "\u001b[32m  ✓ \u001b[39m\u001b[90mAbstractTrees\u001b[39m\n",
            "\u001b[32m  ✓ \u001b[39m\u001b[90mExtents\u001b[39m\n",
            "\u001b[32m  ✓ \u001b[39m\u001b[90mRatios\u001b[39m\n",
            "\u001b[32m  ✓ \u001b[39m\u001b[90mTranscodingStreams\u001b[39m\n",
            "\u001b[32m  ✓ \u001b[39m\u001b[90mInflate\u001b[39m\n",
            "\u001b[32m  ✓ \u001b[39m\u001b[90mChainRulesCore\u001b[39m\n",
            "\u001b[32m  ✓ \u001b[39m\u001b[90mConstructionBase\u001b[39m\n",
            "\u001b[32m  ✓ \u001b[39m\u001b[90mAdapt\u001b[39m\n",
            "\u001b[32m  ✓ \u001b[39m\u001b[90mBitFlags\u001b[39m\n",
            "\u001b[32m  ✓ \u001b[39m\u001b[90mLogExpFunctions\u001b[39m\n",
            "\u001b[32m  ✓ \u001b[39m\u001b[90mStaticArraysCore\u001b[39m\n",
            "\u001b[32m  ✓ \u001b[39m\u001b[90mLatexify\u001b[39m\n",
            "\u001b[32m  ✓ \u001b[39m\u001b[90mSimpleTraits\u001b[39m\n",
            "\u001b[32m  ✓ \u001b[39m\u001b[90mWoodburyMatrices\u001b[39m\n",
            "\u001b[32m  ✓ \u001b[39m\u001b[90mOpenSSL_jll\u001b[39m\n",
            "\u001b[32m  ✓ \u001b[39m\u001b[90mEarCut_jll\u001b[39m\n",
            "\u001b[32m  ✓ \u001b[39m\u001b[90mXML2_jll\u001b[39m\n",
            "\u001b[32m  ✓ \u001b[39m\u001b[90mConda\u001b[39m\n",
            "\u001b[32m  ✓ \u001b[39m\u001b[90mTableTraits\u001b[39m\n",
            "\u001b[32m  ✓ \u001b[39m\u001b[90mRatios → RatiosFixedPointNumbersExt\u001b[39m\n",
            "\u001b[32m  ✓ \u001b[39m\u001b[90mGeoInterface\u001b[39m\n",
            "\u001b[32m  ✓ \u001b[39m\u001b[90mZMQ\u001b[39m\n",
            "\u001b[32m  ✓ \u001b[39m\u001b[90mChainRulesCore → ChainRulesCoreSparseArraysExt\u001b[39m\n",
            "\u001b[32m  ✓ \u001b[39m\u001b[90mTranscodingStreams → TestExt\u001b[39m\n",
            "\u001b[32m  ✓ \u001b[39m\u001b[90mUnitful → ConstructionBaseUnitfulExt\u001b[39m\n",
            "\u001b[32m  ✓ \u001b[39m\u001b[90mOffsetArrays → OffsetArraysAdaptExt\u001b[39m\n",
            "\u001b[32m  ✓ \u001b[39m\u001b[90mLogExpFunctions → LogExpFunctionsChainRulesCoreExt\u001b[39m\n",
            "\u001b[32m  ✓ \u001b[39m\u001b[90mAxisAlgorithms\u001b[39m\n",
            "\u001b[32m  ✓ \u001b[39m\u001b[90mGettext_jll\u001b[39m\n",
            "\u001b[32m  ✓ \u001b[39m\u001b[90mXSLT_jll\u001b[39m\n",
            "\u001b[32m  ✓ \u001b[39m\u001b[90mCodecZlib\u001b[39m\n",
            "\u001b[32m  ✓ \u001b[39m\u001b[90mTables\u001b[39m\n",
            "\u001b[32m  ✓ \u001b[39m\u001b[90mOpenSSL\u001b[39m\n",
            "\u001b[32m  ✓ \u001b[39m\u001b[90mUnitfulLatexify\u001b[39m\n",
            "\u001b[32m  ✓ \u001b[39m\u001b[90mGlib_jll\u001b[39m\n",
            "\u001b[32m  ✓ \u001b[39mIJulia\n",
            "\u001b[32m  ✓ \u001b[39m\u001b[90mXorg_libxcb_jll\u001b[39m\n",
            "\u001b[32m  ✓ \u001b[39m\u001b[90mStatsBase\u001b[39m\n",
            "\u001b[32m  ✓ \u001b[39m\u001b[90mGLFW_jll\u001b[39m\n",
            "\u001b[32m  ✓ \u001b[39m\u001b[90mCairo_jll\u001b[39m\n",
            "\u001b[32m  ✓ \u001b[39m\u001b[90mQt6Base_jll\u001b[39m\n",
            "\u001b[32m  ✓ \u001b[39m\u001b[90mStaticArrays\u001b[39m\n",
            "\u001b[32m  ✓ \u001b[39m\u001b[90mHarfBuzz_jll\u001b[39m\n",
            "\u001b[32m  ✓ \u001b[39m\u001b[90mAdapt → AdaptStaticArraysExt\u001b[39m\n",
            "\u001b[32m  ✓ \u001b[39m\u001b[90mConstructionBase → ConstructionBaseStaticArraysExt\u001b[39m\n",
            "\u001b[32m  ✓ \u001b[39m\u001b[90mStaticArrays → StaticArraysStatisticsExt\u001b[39m\n",
            "\u001b[32m  ✓ \u001b[39m\u001b[90mStaticArrays → StaticArraysChainRulesCoreExt\u001b[39m\n",
            "\u001b[32m  ✓ \u001b[39m\u001b[90mlibass_jll\u001b[39m\n",
            "\u001b[32m  ✓ \u001b[39m\u001b[90mHTTP\u001b[39m\n",
            "\u001b[32m  ✓ \u001b[39m\u001b[90mStructArrays\u001b[39m\n",
            "\u001b[32m  ✓ \u001b[39m\u001b[90mArnoldiMethod\u001b[39m\n",
            "\u001b[32m  ✓ \u001b[39m\u001b[90mStructArrays → StructArraysAdaptExt\u001b[39m\n",
            "\u001b[32m  ✓ \u001b[39m\u001b[90mFFMPEG_jll\u001b[39m\n",
            "\u001b[32m  ✓ \u001b[39m\u001b[90mStructArrays → StructArraysSparseArraysExt\u001b[39m\n",
            "\u001b[32m  ✓ \u001b[39m\u001b[90mGeometryTypes\u001b[39m\n",
            "\u001b[32m  ✓ \u001b[39m\u001b[90mStructArrays → StructArraysStaticArraysExt\u001b[39m\n",
            "\u001b[32m  ✓ \u001b[39m\u001b[90mFFMPEG\u001b[39m\n",
            "\u001b[32m  ✓ \u001b[39m\u001b[90mInterpolations\u001b[39m\n",
            "\u001b[32m  ✓ \u001b[39m\u001b[90mInterpolations → InterpolationsUnitfulExt\u001b[39m\n",
            "\u001b[32m  ✓ \u001b[39m\u001b[90mGraphs\u001b[39m\n",
            "\u001b[32m  ✓ \u001b[39m\u001b[90mGR_jll\u001b[39m\n",
            "\u001b[32m  ✓ \u001b[39m\u001b[90mGeometryBasics\u001b[39m\n",
            "\u001b[32m  ✓ \u001b[39m\u001b[90mNetworkLayout\u001b[39m\n",
            "\u001b[32m  ✓ \u001b[39m\u001b[90mGR\u001b[39m\n",
            "\u001b[32m  ✓ \u001b[39m\u001b[90mNetworkLayout → NetworkLayoutGraphsExt\u001b[39m\n",
            "\u001b[32m  ✓ \u001b[39mGraphRecipes\n",
            "\u001b[32m  ✓ \u001b[39mPlots\n",
            "\u001b[32m  ✓ \u001b[39m\u001b[90mPlots → UnitfulExt\u001b[39m\n",
            "\u001b[32m  ✓ \u001b[39m\u001b[90mPlots → IJuliaExt\u001b[39m\n",
            "\u001b[32m  ✓ \u001b[39m\u001b[90mPlots → GeometryBasicsExt\u001b[39m\n",
            "  75 dependencies successfully precompiled in 47 seconds. 126 already precompiled.\n"
          ]
        }
      ],
      "source": [
        "import Pkg\n",
        "Pkg.activate(@__DIR__)\n",
        "Pkg.instantiate()"
      ]
    },
    {
      "cell_type": "markdown",
      "id": "0e3bcb27-26cb-4cdd-a824-b55031e01b4e",
      "metadata": {},
      "source": [
        "Standard Julia practice is to load all needed packages at the top of a\n",
        "file. If you need to load any additional packages in any assignments\n",
        "beyond those which are loaded by default, feel free to add a `using`\n",
        "statement, though [you may need to install the\n",
        "package](https://viveks.me/environmental-systems-analysis/tutorials/julia-basics.html#package-management)."
      ]
    },
    {
      "cell_type": "code",
      "execution_count": 2,
      "id": "4",
      "metadata": {},
      "outputs": [],
      "source": [
        "using Random\n",
        "using Plots\n",
        "using GraphRecipes\n",
        "using LaTeXStrings"
      ]
    },
    {
      "cell_type": "code",
      "execution_count": 3,
      "id": "6",
      "metadata": {},
      "outputs": [
        {
          "data": {
            "text/plain": [
              "TaskLocalRNG()"
            ]
          },
          "metadata": {},
          "output_type": "display_data"
        }
      ],
      "source": [
        "# this sets a random seed, which ensures reproducibility of random number generation. You should always set a seed when working with random numbers.\n",
        "Random.seed!(1)"
      ]
    },
    {
      "cell_type": "markdown",
      "id": "02482a14-41e8-43bd-afa1-eee124ce54b3",
      "metadata": {},
      "source": [
        "## Problems (Total: 50/60 Points)\n",
        "\n",
        "### Problem 1 (15 points)\n",
        "\n",
        "The following subproblems all involve code snippets that require\n",
        "debugging.\n",
        "\n",
        "**For each of them**:\n",
        "\n",
        "-   identify and describe the logic and/or syntax error;\n",
        "-   write a fixed version of the function;\n",
        "-   use your fixed function to solve the problem.\n",
        "\n",
        "#### Problem 1.1\n",
        "\n",
        "You’ve been tasked with writing code to identify the minimum value in an\n",
        "array. You cannot use a predefined function. Your colleague suggested\n",
        "the function below, but it does not return the minimum value."
      ]
    },
    {
      "cell_type": "markdown",
      "id": "f9f8b025",
      "metadata": {},
      "source": [
        "## Problems (Total: 50/60 Points)\n",
        "\n",
        "### Problem 1 (15 points)\n",
        "\n",
        "The following subproblems all involve code snippets that require\n",
        "debugging.\n",
        "\n",
        "**For each of them**:\n",
        "\n",
        "-   identify and describe the logic and/or syntax error;\n",
        "-   write a fixed version of the function;\n",
        "-   use your fixed function to solve the problem.\n",
        "\n",
        "#### Problem 1.1\n",
        "\n",
        "You’ve been tasked with writing code to identify the minimum value in an\n",
        "array. You cannot use a predefined function. Your colleague suggested\n",
        "the function below, but it does not return the minimum value."
      ]
    },
    {
      "cell_type": "markdown",
      "id": "080d8aab",
      "metadata": {},
      "source": [
        "Changed min_value from 0 to 100 as it will only return values less than min_value\n",
        "so we need that value to be larger than values in the array I chose largest number in array to be safe"
      ]
    },
    {
      "cell_type": "code",
      "execution_count": 134,
      "id": "8",
      "metadata": {},
      "outputs": [
        {
          "name": "stdout",
          "output_type": "stream",
          "text": [
            "minimum(array_values) = 78\n"
          ]
        }
      ],
      "source": [
        "function minimum(array)\n",
        "    min_value = 100 \n",
        "    for i in 1:length(array)\n",
        "        if array[i] < min_value\n",
        "            min_value = array[i]\n",
        "        end\n",
        "    end\n",
        "    return min_value\n",
        "end\n",
        "\n",
        "array_values = [89, 90, 95, 100, 100, 78, 99, 98, 100, 95]\n",
        "@show minimum(array_values);"
      ]
    },
    {
      "cell_type": "markdown",
      "id": "b64501cb-369d-464d-94f4-7fa51072cd2b",
      "metadata": {},
      "source": [
        "#### Problem 1.2\n",
        "\n",
        "Your team is trying to compute the average grade for your class, but the\n",
        "following code produces an error."
      ]
    },
    {
      "cell_type": "markdown",
      "id": "f4dd054f",
      "metadata": {},
      "source": [
        "Originally recieved error that average_grade is not defined\n",
        "this was because you were trying to call student_grades \n",
        "within a function which wasn't definied. You first have to define the function and \n",
        "then call it. Because mean wasn't a function I did the sum devided by length which \n",
        "will in turn give mean. Then I called the average_grade function \n",
        "with the student_grades data which is what we wanted\n"
      ]
    },
    {
      "cell_type": "code",
      "execution_count": 140,
      "id": "10",
      "metadata": {},
      "outputs": [
        {
          "data": {
            "text/plain": [
              "94.4"
            ]
          },
          "metadata": {},
          "output_type": "display_data"
        }
      ],
      "source": [
        "student_grades = [89, 90, 95, 100, 100, 78, 99, 98, 100, 95]\n",
        "function class_average(grades)\n",
        "  average_grade = sum(grades)/length(grades)\n",
        "  return average_grade\n",
        "end\n",
        "\n",
        "return class_average(student_grades)\n",
        "\n",
        "\n"
      ]
    },
    {
      "cell_type": "markdown",
      "id": "5c97a0dc-97bd-43b2-8caa-a1628f47f932",
      "metadata": {},
      "source": [
        "#### Problem 1.3\n",
        "\n",
        "Your team wants to know the expected payout of an old Italian dice game\n",
        "called *passadieci* (which was analyzed by Galileo as one of the first\n",
        "examples of a rigorous study of probability). The goal of passadieci is\n",
        "to get at least an 11 from rolling three fair, six-sided dice. Your\n",
        "strategy is to compute the average wins from 1,000 trials, but the code\n",
        "you’ve written below produces an error."
      ]
    },
    {
      "cell_type": "markdown",
      "id": "cd517c7e",
      "metadata": {},
      "source": [
        "Changed zero to zeros which solved the Method error which was because zero was giving a single int value, 0, instead of an array. Zeros return desired array of zeros of length 1000"
      ]
    },
    {
      "cell_type": "code",
      "execution_count": 108,
      "id": "12",
      "metadata": {},
      "outputs": [
        {
          "data": {
            "text/plain": [
              "0.487"
            ]
          },
          "metadata": {},
          "output_type": "display_data"
        }
      ],
      "source": [
        "function passadieci()\n",
        "    # this rand() call samples 3 values from the vector [1, 6]\n",
        "    roll = rand(1:6, 3) \n",
        "    return roll\n",
        "    end\n",
        "n_trials = 1000\n",
        "outcomes = zeros(n_trials) \n",
        "for i = 1:n_trials\n",
        "    outcomes[i] =(sum(passadieci()) > 10) \n",
        "end\n",
        "win_prob = sum(outcomes) / n_trials # compute average number of wins\n",
        "return (win_prob)\n"
      ]
    },
    {
      "cell_type": "markdown",
      "id": "250cde8c-cd2b-4ace-b3ca-245b59e4a445",
      "metadata": {},
      "source": [
        "### Problem 2 (5 points)\n",
        "\n",
        "You’ve been handed some code to analyze. The original coder was not very\n",
        "considerate of other potential users: the function is called\n",
        "`mystery_function` and there are no comments explaining the purpose of\n",
        "the code. It appears to take in an array and return some numbers, and\n",
        "you’ve been assured that the code works as intended."
      ]
    },
    {
      "cell_type": "markdown",
      "id": "e041ffca",
      "metadata": {},
      "source": [
        "The function removes duplictaes from list while maintaining original order of\n",
        "the list"
      ]
    },
    {
      "cell_type": "code",
      "execution_count": 111,
      "id": "14",
      "metadata": {},
      "outputs": [
        {
          "name": "stdout",
          "output_type": "stream",
          "text": [
            "mystery_function(list_of_values) = Any[1, 2, 3, 4]\n"
          ]
        }
      ],
      "source": [
        "function mystery_function(values)\n",
        "    y = [] #creates empty list which can hold unique values\n",
        "    for v in values \n",
        "        if !(v in y) #checks if v is not already in list y\n",
        "            append!(y, v)  #it then adds v into end of list y if not there already \n",
        "        end\n",
        "    end\n",
        "    return y #returns list y after going through all v within list values \n",
        "end\n",
        "\n",
        "list_of_values = [1, 2, 3, 4, 3, 4, 2, 1]\n",
        "@show mystery_function(list_of_values);"
      ]
    },
    {
      "cell_type": "markdown",
      "id": "cb4eae67",
      "metadata": {},
      "source": [
        " Julia has the function unique which does the same as mystery_function"
      ]
    },
    {
      "cell_type": "code",
      "execution_count": 110,
      "id": "01c50d47",
      "metadata": {},
      "outputs": [
        {
          "data": {
            "text/plain": [
              "4-element Vector{Int64}:\n",
              " 1\n",
              " 2\n",
              " 3\n",
              " 4"
            ]
          },
          "metadata": {},
          "output_type": "display_data"
        }
      ],
      "source": [
        "list_of_values= [1, 2, 3, 4, 3, 4, 2, 1]\n",
        "@show unique(list_of_values)"
      ]
    },
    {
      "cell_type": "markdown",
      "id": "5473439c-157a-498d-9433-f7faa08dc359",
      "metadata": {},
      "source": [
        "**In this problem**:\n",
        "\n",
        "-   Explain the purpose of `mystery_function`.\n",
        "-   Add comments to the code, explaining why and how it works. Refer to\n",
        "    [“Best Practices for Writing Code\n",
        "    Comments”](https://stackoverflow.blog/2021/12/23/best-practices-for-writing-code-comments/),\n",
        "    and remember that bad comments can be just as bad as no comments at\n",
        "    all. You do not need to add comments to every line (in fact, this is\n",
        "    very bad practice), but you should note the *purpose* of every\n",
        "    “section” of code, and add comments explaining any code sequences\n",
        "    that you don’t immediately understand.\n",
        "-   Is there a built-in Julia function that does the same thing as\n",
        "    `mystery_function`? If so, what is it? Use it to do the same thing\n",
        "    as the code above.\n",
        "\n",
        "### Problem 3 (10 points)\n",
        "\n",
        "You’re interested in writing some code to remove the mean of a vector.\n",
        "\n",
        "**In this problem**:\n",
        "\n",
        "-   Write a function `compute_mean(v)` which sums all of the elements of\n",
        "    a vector `v` using a `for` loop and computes the mean.\n",
        "-   Make a random vector `random_vect` of length 10 using Julia’s\n",
        "    `rand()` function. Use your `compute_mean()` function to calculate\n",
        "    its mean and subtract it from `random_vect` **without a loop**\n",
        "    (using a Julia technique called *broadcasting*; feel free to consult\n",
        "    the Julia documentation and search as necessary). Check that the new\n",
        "    vector has mean zero.\n"
      ]
    },
    {
      "cell_type": "code",
      "execution_count": 141,
      "id": "19b5312a",
      "metadata": {},
      "outputs": [
        {
          "data": {
            "text/plain": [
              "10-element Vector{Float64}:\n",
              "  0.030403566604187193\n",
              "  0.10664163246360558\n",
              " -0.16737766666433873\n",
              " -0.3196483712316567\n",
              " -0.30010277832370935\n",
              " -0.06520612510416557\n",
              " -0.06279170126713063\n",
              " -0.22959666402546064\n",
              "  0.5773964950218008\n",
              "  0.43028161252686814"
            ]
          },
          "metadata": {},
          "output_type": "display_data"
        }
      ],
      "source": [
        "function compute_mean(v)\n",
        "    mean=sum(v)/length(v)\n",
        "    return mean \n",
        "end\n",
        "\n",
        "random_vect= rand(10) #creates a vector of random values of length 10\n",
        "mean_vect=compute_mean(random_vect) #calls the compute_mean function for random vector \n",
        "\n",
        "\n",
        "new_vect= random_vect.-mean_vect #subtracts mean value from each value in random vector\n",
        "return new_vect\n"
      ]
    },
    {
      "cell_type": "code",
      "execution_count": 142,
      "id": "1b7253a7",
      "metadata": {},
      "outputs": [
        {
          "data": {
            "text/plain": [
              "0.0"
            ]
          },
          "metadata": {},
          "output_type": "display_data"
        }
      ],
      "source": [
        "\n",
        "compute_mean(new_vect) #calls compute_mean function for new_vector of random vector minus average\n",
        "\n"
      ]
    },
    {
      "cell_type": "markdown",
      "id": "84053faf",
      "metadata": {},
      "source": [
        "\n",
        "### Problem 4 (20 points)\n",
        "\n",
        "Cheap Plastic Products, Inc. is operating a plant that produces\n",
        "$100 \\text{m}^3\\text{/day}$ of wastewater that is discharged into\n",
        "Pristine Brook. The wastewater contains $1 \\text{kg/m}^3$ of YUK, a\n",
        "toxic substance. The US Environmental Protection Agency has imposed an\n",
        "effluent standard on the plant prohibiting discharge of more than\n",
        "$20 \\text{kg/day}$ of YUK into Pristine Brook.\n",
        "\n",
        "Cheap Plastic Products has analyzed two methods for reducing its\n",
        "discharges of YUK. Method 1 is land disposal, which costs $X_1^2/20$\n",
        "dollars per day, where $X_1$ is the amount of wastewater disposed of on\n",
        "the land ($\\text{m}^3\\text{/day}$). With this method, 20% of the YUK\n",
        "applied to the land will eventually drain into the stream (*i.e.*, 80%\n",
        "of the YUK is removed by the soil).\n",
        "\n",
        "Method 2 is a chemical treatment procedure which costs \\$1.50 per\n",
        "$\\text{m}^3$ of wastewater treated. The chemical treatment has an\n",
        "efficiency of $e= 1 - 0.005X_2$, where $X_2$ is the quantity of\n",
        "wastewater ($\\text{m}^3\\text{/day}$) treated. For example, if\n",
        "$X_2 = 50 \\text{m}^3\\text{/day}$, then $e = 1 - 0.005(50) = 0.75$, so\n",
        "that 75% of the YUK is removed.\n",
        "\n",
        "Cheap Plastic Products is wondering how to allocate their wastewater\n",
        "between these three disposal and treatment methods (land disposal, and\n",
        "chemical treatment, and direct disposal) to meet the effluent standard\n",
        "while keeping costs manageable.\n",
        "\n",
        "The flow of wastewater through this treatment system is shown in\n",
        "<a href=\"#fig-wastewater\" class=\"quarto-xref\">Figure 1</a>. Modify the\n",
        "edge labels (by editing the `edge_labels` dictionary in the code\n",
        "producing <a href=\"#fig-wastewater\" class=\"quarto-xref\">Figure 1</a>) to\n",
        "show how the wastewater allocations result in the final YUK discharge\n",
        "into Pristine Brook. For the `edge_label` dictionary, the tuple $(i, j)$\n",
        "corresponds to the arrow going from node $i$ to node $j$. The syntax for\n",
        "any entry is `(i, j) => \"label text\"`, and the label text can include\n",
        "mathematical notation if the string is prefaced with an `L`, as in\n",
        "`L\"x_1\"` will produce $x_1$."
      ]
    },
    {
      "cell_type": "markdown",
      "id": "5b846445",
      "metadata": {},
      "source": []
    },
    {
      "cell_type": "code",
      "execution_count": 158,
      "id": "cell-fig-wastewater",
      "metadata": {},
      "outputs": [
        {
          "data": {
            "image/png": "[encoded data removed]",
            "image/svg+xml": [
              "<?xml version=\"1.0\" encoding=\"utf-8\"?>\n",
              "<svg xmlns=\"http://www.w3.org/2000/svg\" xmlns:xlink=\"http://www.w3.org/1999/xlink\" width=\"600\" height=\"400\" viewBox=\"0 0 2400 1600\">\n",
              "<defs>\n",
              "  <clipPath id=\"clip520\">\n",
              "    <rect x=\"0\" y=\"0\" width=\"2400\" height=\"1600\"/>\n",
              "  </clipPath>\n",
              "</defs>\n",
              "<path clip-path=\"url(#clip520)\" d=\"M0 1600 L2400 1600 L2400 8.88178e-14 L0 8.88178e-14  Z\" fill=\"#ffffff\" fill-rule=\"evenodd\" fill-opacity=\"1\"/>\n",
              "<defs>\n",
              "  <clipPath id=\"clip521\">\n",
              "    <rect x=\"480\" y=\"0\" width=\"1681\" height=\"1600\"/>\n",
              "  </clipPath>\n",
              "</defs>\n",
              "<path clip-path=\"url(#clip520)\" d=\"M259.055 1552.76 L2140.94 1552.76 L2140.94 47.2441 L259.055 47.2441  Z\" fill=\"#ffffff\" fill-rule=\"evenodd\" fill-opacity=\"1\"/>\n",
              "<defs>\n",
              "  <clipPath id=\"clip522\">\n",
              "    <rect x=\"259\" y=\"47\" width=\"1883\" height=\"1507\"/>\n",
              "  </clipPath>\n",
              "</defs>\n",
              "<polyline clip-path=\"url(#clip522)\" style=\"stroke:#000000; stroke-linecap:round; stroke-linejoin:round; stroke-width:4; stroke-opacity:1; fill:none\" points=\"1334.42,262.317 1318.22,275.046 1302.02,287.766 1285.83,300.469 1269.64,313.146 1253.48,325.79 1237.33,338.392 1221.2,350.944 1205.09,363.436 1189.02,375.861 1172.97,388.21 1156.96,400.474 1140.99,412.646 1125.07,424.716 1109.18,436.677 1093.35,448.52 1077.57,460.237 1061.85,471.818 1046.18,483.256 1030.58,494.543 1015.05,505.669 999.586,516.626 984.197,527.407 968.885,538.002 953.655,548.402 938.509,558.601 923.447,568.598 908.467,578.401 893.564,588.018 878.735,597.459 863.976,606.73 849.284,615.842 834.656,624.801 820.088,633.617 805.576,642.299 791.117,650.853 776.707,659.29 762.343,667.617 748.021,675.843 733.738,683.976 719.49,692.025 705.274,699.998 691.087,707.903 676.923,715.75 662.781,723.546 648.657,731.299 634.547,739.019 620.447,746.714 606.354,754.392 592.265,762.061 \"/>\n",
              "<polyline clip-path=\"url(#clip522)\" style=\"stroke:#000000; stroke-linecap:round; stroke-linejoin:round; stroke-width:4; stroke-opacity:1; fill:none\" points=\"632.49,760.659 592.265,762.061 615.278,729.04 \"/>\n",
              "<polyline clip-path=\"url(#clip522)\" style=\"stroke:#000000; stroke-linecap:round; stroke-linejoin:round; stroke-width:4; stroke-opacity:1; fill:none\" points=\"592.265,762.061 606.354,754.392 \"/>\n",
              "<polyline clip-path=\"url(#clip522)\" style=\"stroke:#000000; stroke-linecap:round; stroke-linejoin:round; stroke-width:4; stroke-opacity:1; fill:none\" points=\"1334.42,262.317 1333.14,274.076 1331.85,285.829 1330.55,297.572 1329.24,309.3 1327.92,321.006 1326.57,332.687 1325.21,344.336 1323.81,355.949 1322.38,367.521 1320.92,379.045 1319.42,390.518 1317.88,401.933 1316.28,413.286 1314.64,424.572 1312.94,435.784 1311.18,446.919 1309.36,457.97 1307.47,468.933 1305.51,479.803 1303.48,490.573 1301.37,501.24 1299.17,511.797 1296.89,522.24 1294.51,532.564 1292.05,542.763 1289.48,552.837 1286.83,562.792 1284.09,572.632 1281.27,582.363 1278.37,591.99 1275.39,601.518 1272.34,610.953 1269.23,620.299 1266.05,629.562 1262.81,638.747 1259.52,647.86 1256.18,656.904 1252.79,665.887 1249.35,674.812 1245.88,683.685 1242.37,692.511 1238.83,701.296 1235.26,710.044 1231.67,718.762 1228.06,727.453 1224.43,736.123 1220.79,744.778 1217.14,753.422 1213.49,762.061 \"/>\n",
              "<polyline clip-path=\"url(#clip522)\" style=\"stroke:#000000; stroke-linecap:round; stroke-linejoin:round; stroke-width:4; stroke-opacity:1; fill:none\" points=\"1244.09,735.908 1213.49,762.061 1210.93,721.894 \"/>\n",
              "<polyline clip-path=\"url(#clip522)\" style=\"stroke:#000000; stroke-linecap:round; stroke-linejoin:round; stroke-width:4; stroke-opacity:1; fill:none\" points=\"1213.49,762.061 1217.14,753.422 \"/>\n",
              "<polyline clip-path=\"url(#clip522)\" style=\"stroke:#000000; stroke-linecap:round; stroke-linejoin:round; stroke-width:4; stroke-opacity:1; fill:none\" points=\"1334.42,262.317 1344.89,286.727 1355.34,311.117 1365.79,335.467 1376.23,359.758 1386.65,383.97 1397.04,408.083 1407.41,432.078 1417.74,455.935 1428.03,479.633 1438.28,503.154 1448.49,526.477 1458.64,549.583 1468.73,572.452 1478.77,595.064 1488.74,617.4 1498.63,639.44 1508.45,661.163 1518.19,682.551 1527.85,703.583 1537.41,724.24 1546.88,744.502 1556.25,764.349 1565.52,783.762 1574.68,802.72 1583.72,821.205 1592.66,839.218 1601.48,856.775 1610.2,873.899 1618.82,890.607 1627.34,906.921 1635.77,922.859 1644.12,938.442 1652.39,953.689 1660.58,968.62 1668.71,983.254 1676.76,997.613 1684.76,1011.71 1692.69,1025.58 1700.58,1039.23 1708.42,1052.68 1716.21,1065.95 1723.97,1079.06 1731.7,1092.04 1739.39,1104.89 1747.06,1117.65 1754.72,1130.33 1762.36,1142.95 1769.99,1155.53 1777.61,1168.09 \"/>\n",
              "<polyline clip-path=\"url(#clip522)\" style=\"stroke:#000000; stroke-linecap:round; stroke-linejoin:round; stroke-width:4; stroke-opacity:1; fill:none\" points=\"1774.32,1127.98 1777.61,1168.09 1743.54,1146.66 \"/>\n",
              "<polyline clip-path=\"url(#clip522)\" style=\"stroke:#000000; stroke-linecap:round; stroke-linejoin:round; stroke-width:4; stroke-opacity:1; fill:none\" points=\"1777.61,1168.09 1769.99,1155.53 \"/>\n",
              "<polyline clip-path=\"url(#clip522)\" style=\"stroke:#000000; stroke-linecap:round; stroke-linejoin:round; stroke-width:4; stroke-opacity:1; fill:none\" points=\"527.897,800 556.372,813.092 584.833,826.172 613.265,839.231 641.653,852.257 669.983,865.238 698.241,878.165 726.411,891.025 754.48,903.809 782.433,916.504 810.255,929.1 837.931,941.587 865.449,953.951 892.791,966.184 919.946,978.274 946.896,990.209 973.629,1001.98 1000.13,1013.57 1026.38,1024.98 1052.38,1036.19 1078.09,1047.19 1103.52,1057.97 1128.64,1068.52 1153.44,1078.82 1177.91,1088.87 1202.03,1098.66 1225.8,1108.19 1249.24,1117.46 1272.36,1126.49 1295.18,1135.29 1317.7,1143.87 1339.95,1152.23 1361.93,1160.4 1383.67,1168.39 1405.18,1176.19 1426.47,1183.84 1447.56,1191.32 1468.45,1198.67 1489.18,1205.88 1509.74,1212.97 1530.16,1219.95 1550.45,1226.84 1570.62,1233.63 1590.69,1240.35 1610.67,1247 1630.58,1253.59 1650.43,1260.15 1670.24,1266.66 1690.02,1273.16 1709.79,1279.65 \"/>\n",
              "<polyline clip-path=\"url(#clip522)\" style=\"stroke:#000000; stroke-linecap:round; stroke-linejoin:round; stroke-width:4; stroke-opacity:1; fill:none\" points=\"1681.19,1251.32 1709.79,1279.65 1669.97,1285.52 \"/>\n",
              "<polyline clip-path=\"url(#clip522)\" style=\"stroke:#000000; stroke-linecap:round; stroke-linejoin:round; stroke-width:4; stroke-opacity:1; fill:none\" points=\"1709.79,1279.65 1690.02,1273.16 \"/>\n",
              "<polyline clip-path=\"url(#clip522)\" style=\"stroke:#000000; stroke-linecap:round; stroke-linejoin:round; stroke-width:4; stroke-opacity:1; fill:none\" points=\"1200,800 1214.11,813.255 1228.21,826.495 1242.28,839.707 1256.32,852.876 1270.32,865.988 1284.27,879.029 1298.15,891.984 1311.96,904.839 1325.68,917.58 1339.3,930.193 1352.82,942.663 1366.21,954.976 1379.48,967.118 1392.61,979.075 1405.58,990.831 1418.39,1002.37 1431.04,1013.69 1443.49,1024.76 1455.76,1035.58 1467.82,1046.12 1479.66,1056.38 1491.28,1066.34 1502.66,1075.99 1513.79,1085.3 1524.66,1094.28 1535.28,1102.91 1545.64,1111.22 1555.77,1119.21 1565.67,1126.9 1575.36,1134.31 1584.84,1141.45 1594.13,1148.33 1603.24,1154.96 1612.17,1161.37 1620.94,1167.57 1629.56,1173.56 1638.04,1179.37 1646.39,1185.01 1654.62,1190.49 1662.74,1195.83 1670.77,1201.04 1678.71,1206.14 1686.57,1211.14 1694.37,1216.05 1702.12,1220.89 1709.82,1225.67 1717.49,1230.41 1725.14,1235.12 1732.78,1239.82 \"/>\n",
              "<polyline clip-path=\"url(#clip522)\" style=\"stroke:#000000; stroke-linecap:round; stroke-linejoin:round; stroke-width:4; stroke-opacity:1; fill:none\" points=\"1711.54,1205.63 1732.78,1239.82 1692.69,1236.29 \"/>\n",
              "<polyline clip-path=\"url(#clip522)\" style=\"stroke:#000000; stroke-linecap:round; stroke-linejoin:round; stroke-width:4; stroke-opacity:1; fill:none\" points=\"1732.78,1239.82 1725.14,1235.12 \"/>\n",
              "<path clip-path=\"url(#clip522)\" d=\"M905.153 571.594 L986.99 571.594 L986.99 535.461 L905.153 535.461 L905.153 571.594 L905.153 571.594  Z\" fill=\"#ffffff\" fill-rule=\"evenodd\" fill-opacity=\"1\"/>\n",
              "<polyline clip-path=\"url(#clip522)\" style=\"stroke:#000000; stroke-linecap:round; stroke-linejoin:round; stroke-width:0; stroke-opacity:0; fill:none\" points=\"905.153,571.594 986.99,571.594 986.99,535.461 905.153,535.461 905.153,571.594 \"/>\n",
              "<path clip-path=\"url(#clip522)\" d=\"M1252.37 555.745 L1334.21 555.745 L1334.21 519.613 L1252.37 519.613 L1252.37 555.745 L1252.37 555.745  Z\" fill=\"#ffffff\" fill-rule=\"evenodd\" fill-opacity=\"1\"/>\n",
              "<polyline clip-path=\"url(#clip522)\" style=\"stroke:#000000; stroke-linecap:round; stroke-linejoin:round; stroke-width:0; stroke-opacity:0; fill:none\" points=\"1252.37,555.745 1334.21,555.745 1334.21,519.613 1252.37,519.613 1252.37,555.745 \"/>\n",
              "<path clip-path=\"url(#clip522)\" d=\"M1538.3 830.089 L1620.13 830.089 L1620.13 793.957 L1538.3 793.957 L1538.3 830.089 L1538.3 830.089  Z\" fill=\"#ffffff\" fill-rule=\"evenodd\" fill-opacity=\"1\"/>\n",
              "<polyline clip-path=\"url(#clip522)\" style=\"stroke:#000000; stroke-linecap:round; stroke-linejoin:round; stroke-width:0; stroke-opacity:0; fill:none\" points=\"1538.3,830.089 1620.13,830.089 1620.13,793.957 1538.3,793.957 1538.3,830.089 \"/>\n",
              "<path clip-path=\"url(#clip522)\" d=\"M1130.42 1111.87 L1249.61 1111.87 L1249.61 1075.74 L1130.42 1075.74 L1130.42 1111.87 L1130.42 1111.87  Z\" fill=\"#ffffff\" fill-rule=\"evenodd\" fill-opacity=\"1\"/>\n",
              "<polyline clip-path=\"url(#clip522)\" style=\"stroke:#000000; stroke-linecap:round; stroke-linejoin:round; stroke-width:0; stroke-opacity:0; fill:none\" points=\"1130.42,1111.87 1249.61,1111.87 1249.61,1075.74 1130.42,1075.74 1130.42,1111.87 \"/>\n",
              "<path clip-path=\"url(#clip522)\" d=\"M1442.37 1107.9 L1596.15 1107.9 L1596.15 1071.77 L1442.37 1071.77 L1442.37 1107.9 L1442.37 1107.9  Z\" fill=\"#ffffff\" fill-rule=\"evenodd\" fill-opacity=\"1\"/>\n",
              "<polyline clip-path=\"url(#clip522)\" style=\"stroke:#000000; stroke-linecap:round; stroke-linejoin:round; stroke-width:0; stroke-opacity:0; fill:none\" points=\"1442.37,1107.9 1596.15,1107.9 1596.15,1071.77 1442.37,1071.77 1442.37,1107.9 \"/>\n",
              "<path clip-path=\"url(#clip522)\" d=\"M1420.35 262.317 L1377.39 187.9 L1291.46 187.9 L1248.49 262.317 L1291.46 336.734 L1377.39 336.734 L1420.35 262.317 L1420.35 262.317  Z\" fill=\"#ffffff\" fill-rule=\"evenodd\" fill-opacity=\"1\"/>\n",
              "<polyline clip-path=\"url(#clip522)\" style=\"stroke:#000000; stroke-linecap:round; stroke-linejoin:round; stroke-width:4; stroke-opacity:1; fill:none\" points=\"1420.35,262.317 1377.39,187.9 1291.46,187.9 1248.49,262.317 1291.46,336.734 1377.39,336.734 1420.35,262.317 \"/>\n",
              "<path clip-path=\"url(#clip522)\" d=\"M332.072 837.939 L723.721 837.939 L723.721 762.061 L332.072 762.061 L332.072 837.939 L332.072 837.939  Z\" fill=\"#ffffff\" fill-rule=\"evenodd\" fill-opacity=\"1\"/>\n",
              "<polyline clip-path=\"url(#clip522)\" style=\"stroke:#000000; stroke-linecap:round; stroke-linejoin:round; stroke-width:4; stroke-opacity:1; fill:none\" points=\"332.072,837.939 723.721,837.939 723.721,762.061 332.072,762.061 332.072,837.939 \"/>\n",
              "<path clip-path=\"url(#clip522)\" d=\"M1004.18 837.939 L1395.82 837.939 L1395.82 762.061 L1004.18 762.061 L1004.18 837.939 L1004.18 837.939  Z\" fill=\"#ffffff\" fill-rule=\"evenodd\" fill-opacity=\"1\"/>\n",
              "<polyline clip-path=\"url(#clip522)\" style=\"stroke:#000000; stroke-linecap:round; stroke-linejoin:round; stroke-width:4; stroke-opacity:1; fill:none\" points=\"1004.18,837.939 1395.82,837.939 1395.82,762.061 1004.18,762.061 1004.18,837.939 \"/>\n",
              "<path clip-path=\"url(#clip522)\" d=\"M2067.93 1337.68 L1970.02 1168.09 L1774.19 1168.09 L1676.28 1337.68 L1774.19 1507.27 L1970.02 1507.27 L2067.93 1337.68 L2067.93 1337.68  Z\" fill=\"#ffffff\" fill-rule=\"evenodd\" fill-opacity=\"1\"/>\n",
              "<polyline clip-path=\"url(#clip522)\" style=\"stroke:#000000; stroke-linecap:round; stroke-linejoin:round; stroke-width:4; stroke-opacity:1; fill:none\" points=\"2067.93,1337.68 1970.02,1168.09 1774.19,1168.09 1676.28,1337.68 1774.19,1507.27 1970.02,1507.27 2067.93,1337.68 \"/>\n",
              "<circle clip-path=\"url(#clip522)\" style=\"fill:#ffffff; stroke:none; fill-opacity:0\" cx=\"1334.42\" cy=\"262.317\" r=\"2\"/>\n",
              "<circle clip-path=\"url(#clip522)\" style=\"fill:#ffffff; stroke:none; fill-opacity:0\" cx=\"527.897\" cy=\"800\" r=\"2\"/>\n",
              "<circle clip-path=\"url(#clip522)\" style=\"fill:#ffffff; stroke:none; fill-opacity:0\" cx=\"1200\" cy=\"800\" r=\"2\"/>\n",
              "<circle clip-path=\"url(#clip522)\" style=\"fill:#ffffff; stroke:none; fill-opacity:0\" cx=\"1872.1\" cy=\"1337.68\" r=\"2\"/>\n",
              "<path clip-path=\"url(#clip520)\" d=\"M947.35 540.878 Q947.35 542.025 946.633 542.681 Q945.916 543.316 945.096 543.316 Q944.317 543.316 943.907 542.866 Q943.497 542.415 943.497 541.841 Q943.497 541.062 944.071 540.386 Q944.645 539.709 945.506 539.566 Q944.666 539.033 943.415 539.033 Q942.596 539.033 941.878 539.463 Q941.182 539.894 940.751 540.447 Q940.341 541.001 939.972 541.8 Q939.624 542.579 939.481 543.05 Q939.358 543.501 939.255 543.993 L937.82 549.731 Q937.124 552.457 937.124 553.42 Q937.124 554.609 937.697 555.408 Q938.271 556.187 939.419 556.187 Q939.87 556.187 940.382 556.064 Q940.895 555.921 941.55 555.552 Q942.227 555.162 942.821 554.589 Q943.436 553.994 944.03 552.99 Q944.625 551.986 945.014 550.695 Q945.137 550.244 945.547 550.244 Q946.059 550.244 946.059 550.654 Q946.059 551.002 945.772 551.74 Q945.506 552.457 944.912 553.4 Q944.338 554.322 943.579 555.162 Q942.821 555.982 941.694 556.556 Q940.567 557.13 939.337 557.13 Q937.575 557.13 936.406 556.187 Q935.238 555.244 934.808 553.933 Q934.705 554.117 934.562 554.363 Q934.418 554.609 933.988 555.162 Q933.578 555.695 933.107 556.105 Q932.635 556.495 931.898 556.802 Q931.18 557.13 930.401 557.13 Q929.418 557.13 928.536 556.843 Q927.676 556.556 927.061 555.9 Q926.446 555.244 926.446 554.343 Q926.446 553.338 927.122 552.642 Q927.819 551.924 928.762 551.924 Q929.356 551.924 929.828 552.273 Q930.319 552.621 930.319 553.379 Q930.319 554.22 929.746 554.855 Q929.172 555.49 928.352 555.654 Q929.192 556.187 930.442 556.187 Q931.795 556.187 932.861 554.998 Q933.926 553.81 934.439 551.822 Q935.71 547.047 936.201 544.915 Q936.693 542.763 936.693 541.841 Q936.693 540.98 936.468 540.386 Q936.242 539.791 935.853 539.525 Q935.484 539.238 935.136 539.136 Q934.808 539.033 934.439 539.033 Q933.824 539.033 933.127 539.279 Q932.451 539.525 931.631 540.099 Q930.832 540.652 930.073 541.8 Q929.315 542.948 928.803 544.526 Q928.7 544.997 928.249 544.997 Q927.758 544.977 927.758 544.567 Q927.758 544.218 928.024 543.501 Q928.311 542.763 928.885 541.841 Q929.479 540.919 930.237 540.099 Q931.016 539.259 932.143 538.685 Q933.291 538.111 934.521 538.111 Q935.074 538.111 935.607 538.234 Q936.16 538.336 936.816 538.644 Q937.493 538.951 938.087 539.627 Q938.681 540.304 939.05 541.288 Q939.296 540.816 939.624 540.365 Q939.972 539.914 940.505 539.361 Q941.059 538.787 941.817 538.459 Q942.596 538.111 943.456 538.111 Q944.297 538.111 945.117 538.336 Q945.936 538.541 946.633 539.218 Q947.35 539.873 947.35 540.878 Z\" fill=\"#000000\" fill-rule=\"nonzero\" fill-opacity=\"1\" /><path clip-path=\"url(#clip520)\" d=\"M951.613 551.985 L951.613 551.067 Q955.143 551.067 956.965 549.188 Q957.467 549.188 957.553 549.302 Q957.639 549.417 957.639 549.948 L957.639 566.432 Q957.639 567.307 958.069 567.58 Q958.5 567.852 960.379 567.852 L961.311 567.852 L961.311 568.756 Q960.279 568.67 956.549 568.67 Q952.819 568.67 951.8 568.756 L951.8 567.852 L952.732 567.852 Q954.583 567.852 955.028 567.594 Q955.473 567.321 955.473 566.432 L955.473 551.211 Q953.938 551.985 951.613 551.985 Z\" fill=\"#000000\" fill-rule=\"nonzero\" fill-opacity=\"1\" /><path clip-path=\"url(#clip520)\" d=\"M1293.56 525.029 Q1293.56 526.177 1292.85 526.833 Q1292.13 527.468 1291.31 527.468 Q1290.53 527.468 1290.12 527.017 Q1289.71 526.566 1289.71 525.992 Q1289.71 525.213 1290.29 524.537 Q1290.86 523.861 1291.72 523.717 Q1290.88 523.185 1289.63 523.185 Q1288.81 523.185 1288.09 523.615 Q1287.4 524.045 1286.97 524.599 Q1286.56 525.152 1286.19 525.951 Q1285.84 526.73 1285.69 527.201 Q1285.57 527.652 1285.47 528.144 L1284.03 533.883 Q1283.34 536.609 1283.34 537.572 Q1283.34 538.76 1283.91 539.56 Q1284.49 540.339 1285.63 540.339 Q1286.08 540.339 1286.6 540.216 Q1287.11 540.072 1287.76 539.703 Q1288.44 539.314 1289.04 538.74 Q1289.65 538.146 1290.24 537.141 Q1290.84 536.137 1291.23 534.846 Q1291.35 534.395 1291.76 534.395 Q1292.27 534.395 1292.27 534.805 Q1292.27 535.153 1291.99 535.891 Q1291.72 536.609 1291.13 537.551 Q1290.55 538.474 1289.79 539.314 Q1289.04 540.134 1287.91 540.707 Q1286.78 541.281 1285.55 541.281 Q1283.79 541.281 1282.62 540.339 Q1281.45 539.396 1281.02 538.084 Q1280.92 538.269 1280.78 538.515 Q1280.63 538.76 1280.2 539.314 Q1279.79 539.847 1279.32 540.257 Q1278.85 540.646 1278.11 540.953 Q1277.39 541.281 1276.62 541.281 Q1275.63 541.281 1274.75 540.994 Q1273.89 540.707 1273.28 540.052 Q1272.66 539.396 1272.66 538.494 Q1272.66 537.49 1273.34 536.793 Q1274.03 536.076 1274.98 536.076 Q1275.57 536.076 1276.04 536.424 Q1276.53 536.772 1276.53 537.531 Q1276.53 538.371 1275.96 539.006 Q1275.39 539.642 1274.57 539.806 Q1275.41 540.339 1276.66 540.339 Q1278.01 540.339 1279.08 539.15 Q1280.14 537.961 1280.65 535.973 Q1281.92 531.198 1282.42 529.066 Q1282.91 526.915 1282.91 525.992 Q1282.91 525.132 1282.68 524.537 Q1282.46 523.943 1282.07 523.676 Q1281.7 523.389 1281.35 523.287 Q1281.02 523.185 1280.65 523.185 Q1280.04 523.185 1279.34 523.43 Q1278.67 523.676 1277.85 524.25 Q1277.05 524.804 1276.29 525.951 Q1275.53 527.099 1275.02 528.677 Q1274.91 529.148 1274.46 529.148 Q1273.97 529.128 1273.97 528.718 Q1273.97 528.37 1274.24 527.652 Q1274.53 526.915 1275.1 525.992 Q1275.69 525.07 1276.45 524.25 Q1277.23 523.41 1278.36 522.836 Q1279.51 522.262 1280.74 522.262 Q1281.29 522.262 1281.82 522.385 Q1282.37 522.488 1283.03 522.795 Q1283.71 523.103 1284.3 523.779 Q1284.9 524.455 1285.26 525.439 Q1285.51 524.968 1285.84 524.517 Q1286.19 524.066 1286.72 523.512 Q1287.27 522.939 1288.03 522.611 Q1288.81 522.262 1289.67 522.262 Q1290.51 522.262 1291.33 522.488 Q1292.15 522.693 1292.85 523.369 Q1293.56 524.025 1293.56 525.029 Z\" fill=\"#000000\" fill-rule=\"nonzero\" fill-opacity=\"1\" /><path clip-path=\"url(#clip520)\" d=\"M1297.83 552.907 Q1297.83 552.377 1297.87 552.219 Q1297.93 552.061 1298.16 551.817 L1303.8 545.533 Q1306.88 542.062 1306.88 539.035 Q1306.88 537.069 1305.85 535.663 Q1304.83 534.257 1302.95 534.257 Q1301.66 534.257 1300.57 535.046 Q1299.48 535.835 1298.98 537.241 Q1299.06 537.213 1299.36 537.213 Q1300.09 537.213 1300.5 537.672 Q1300.91 538.131 1300.91 538.748 Q1300.91 539.537 1300.4 539.924 Q1299.89 540.297 1299.39 540.297 Q1299.19 540.297 1298.92 540.254 Q1298.66 540.211 1298.24 539.809 Q1297.83 539.393 1297.83 538.662 Q1297.83 536.61 1299.38 534.975 Q1300.94 533.339 1303.32 533.339 Q1306.02 533.339 1307.78 534.946 Q1309.56 536.538 1309.56 539.035 Q1309.56 539.91 1309.29 540.713 Q1309.03 541.502 1308.67 542.119 Q1308.33 542.736 1307.38 543.726 Q1306.44 544.716 1305.68 545.419 Q1304.91 546.122 1303.21 547.614 L1300.09 550.641 L1305.39 550.641 Q1307.97 550.641 1308.17 550.411 Q1308.46 549.995 1308.82 547.8 L1309.56 547.8 L1308.73 552.907 L1297.83 552.907 Z\" fill=\"#000000\" fill-rule=\"nonzero\" fill-opacity=\"1\" /><path clip-path=\"url(#clip520)\" d=\"M1579.26 799.056 Q1579.26 800.204 1578.54 800.859 Q1577.82 801.495 1577.01 801.495 Q1576.23 801.495 1575.82 801.044 Q1575.41 800.593 1575.41 800.019 Q1575.41 799.24 1575.98 798.564 Q1576.55 797.888 1577.41 797.744 Q1576.57 797.211 1575.32 797.211 Q1574.5 797.211 1573.79 797.642 Q1573.09 798.072 1572.66 798.625 Q1572.25 799.179 1571.88 799.978 Q1571.53 800.757 1571.39 801.228 Q1571.27 801.679 1571.16 802.171 L1569.73 807.91 Q1569.03 810.635 1569.03 811.599 Q1569.03 812.787 1569.61 813.587 Q1570.18 814.365 1571.33 814.365 Q1571.78 814.365 1572.29 814.242 Q1572.8 814.099 1573.46 813.73 Q1574.14 813.341 1574.73 812.767 Q1575.34 812.172 1575.94 811.168 Q1576.53 810.164 1576.92 808.873 Q1577.05 808.422 1577.46 808.422 Q1577.97 808.422 1577.97 808.832 Q1577.97 809.18 1577.68 809.918 Q1577.41 810.635 1576.82 811.578 Q1576.25 812.5 1575.49 813.341 Q1574.73 814.16 1573.6 814.734 Q1572.48 815.308 1571.25 815.308 Q1569.48 815.308 1568.32 814.365 Q1567.15 813.423 1566.72 812.111 Q1566.61 812.295 1566.47 812.541 Q1566.33 812.787 1565.9 813.341 Q1565.49 813.873 1565.02 814.283 Q1564.54 814.673 1563.81 814.98 Q1563.09 815.308 1562.31 815.308 Q1561.33 815.308 1560.45 815.021 Q1559.58 814.734 1558.97 814.078 Q1558.35 813.423 1558.35 812.521 Q1558.35 811.517 1559.03 810.82 Q1559.73 810.102 1560.67 810.102 Q1561.27 810.102 1561.74 810.451 Q1562.23 810.799 1562.23 811.558 Q1562.23 812.398 1561.65 813.033 Q1561.08 813.669 1560.26 813.832 Q1561.1 814.365 1562.35 814.365 Q1563.7 814.365 1564.77 813.177 Q1565.84 811.988 1566.35 810 Q1567.62 805.225 1568.11 803.093 Q1568.6 800.941 1568.6 800.019 Q1568.6 799.158 1568.38 798.564 Q1568.15 797.97 1567.76 797.703 Q1567.39 797.416 1567.04 797.314 Q1566.72 797.211 1566.35 797.211 Q1565.73 797.211 1565.04 797.457 Q1564.36 797.703 1563.54 798.277 Q1562.74 798.83 1561.98 799.978 Q1561.22 801.126 1560.71 802.704 Q1560.61 803.175 1560.16 803.175 Q1559.67 803.155 1559.67 802.745 Q1559.67 802.396 1559.93 801.679 Q1560.22 800.941 1560.79 800.019 Q1561.39 799.097 1562.15 798.277 Q1562.93 797.437 1564.05 796.863 Q1565.2 796.289 1566.43 796.289 Q1566.98 796.289 1567.52 796.412 Q1568.07 796.514 1568.73 796.822 Q1569.4 797.129 1570 797.806 Q1570.59 798.482 1570.96 799.466 Q1571.21 798.994 1571.53 798.543 Q1571.88 798.093 1572.41 797.539 Q1572.97 796.965 1573.73 796.637 Q1574.5 796.289 1575.37 796.289 Q1576.21 796.289 1577.03 796.514 Q1577.85 796.719 1578.54 797.396 Q1579.26 798.052 1579.26 799.056 Z\" fill=\"#000000\" fill-rule=\"nonzero\" fill-opacity=\"1\" /><path clip-path=\"url(#clip520)\" d=\"M1583.52 822.975 Q1583.52 822.1 1584.02 821.683 Q1584.53 821.267 1585.17 821.267 Q1585.85 821.267 1586.32 821.712 Q1586.81 822.143 1586.81 822.903 Q1586.81 823.721 1586.23 824.18 Q1585.67 824.639 1584.87 824.524 Q1585.57 825.7 1586.87 826.231 Q1588.17 826.762 1589.38 826.762 Q1590.64 826.762 1591.66 825.672 Q1592.69 824.581 1592.69 821.913 Q1592.69 819.646 1591.8 818.341 Q1590.93 817.035 1589.19 817.035 L1587.9 817.035 Q1587.45 817.035 1587.32 816.992 Q1587.2 816.949 1587.2 816.705 Q1587.2 816.418 1587.64 816.361 Q1588.08 816.361 1588.79 816.275 Q1590.49 816.218 1591.4 814.74 Q1592.22 813.363 1592.22 811.397 Q1592.22 809.604 1591.36 808.858 Q1590.51 808.098 1589.4 808.098 Q1588.37 808.098 1587.24 808.528 Q1586.1 808.958 1585.49 809.92 Q1587.31 809.92 1587.31 811.397 Q1587.31 812.043 1586.89 812.473 Q1586.49 812.889 1585.82 812.889 Q1585.17 812.889 1584.74 812.488 Q1584.31 812.071 1584.31 811.369 Q1584.31 809.69 1585.8 808.528 Q1587.31 807.366 1589.52 807.366 Q1591.7 807.366 1593.31 808.514 Q1594.93 809.661 1594.93 811.426 Q1594.93 813.162 1593.78 814.582 Q1592.63 816.002 1590.81 816.591 Q1593.05 817.035 1594.38 818.556 Q1595.72 820.062 1595.72 821.913 Q1595.72 824.208 1593.91 825.901 Q1592.1 827.58 1589.46 827.58 Q1587.02 827.58 1585.27 826.26 Q1583.52 824.94 1583.52 822.975 Z\" fill=\"#000000\" fill-rule=\"nonzero\" fill-opacity=\"1\" /><path clip-path=\"url(#clip520)\" d=\"M1143.84 1088.17 Q1143.84 1082 1145.39 1078.64 Q1147.57 1073.64 1152.69 1073.64 Q1153.78 1073.64 1154.9 1073.95 Q1156.05 1074.24 1157.48 1075.36 Q1158.94 1076.49 1159.82 1078.34 Q1161.5 1081.9 1161.5 1088.17 Q1161.5 1094.3 1159.94 1097.64 Q1157.67 1102.52 1152.65 1102.52 Q1150.76 1102.52 1148.84 1101.56 Q1146.93 1100.59 1145.72 1098.28 Q1143.84 1094.81 1143.84 1088.17 M1147.32 1087.66 Q1147.32 1093.99 1147.77 1096.52 Q1148.28 1099.24 1149.68 1100.43 Q1151.09 1101.6 1152.65 1101.6 Q1154.33 1101.6 1155.72 1100.35 Q1157.14 1099.08 1157.57 1096.35 Q1158.04 1093.67 1158.02 1087.66 Q1158.02 1081.82 1157.61 1079.48 Q1157.05 1076.76 1155.58 1075.67 Q1154.12 1074.57 1152.65 1074.57 Q1152.09 1074.57 1151.5 1074.73 Q1150.93 1074.89 1150.09 1075.36 Q1149.25 1075.84 1148.59 1077 Q1147.95 1078.17 1147.65 1079.93 Q1147.32 1082.21 1147.32 1087.66 Z\" fill=\"#000000\" fill-rule=\"nonzero\" fill-opacity=\"1\" /><path clip-path=\"url(#clip520)\" d=\"M1165.25 1100.92 Q1164.62 1100.25 1164.62 1099.36 Q1164.62 1098.48 1165.25 1097.85 Q1165.89 1097.19 1166.85 1097.19 Q1167.77 1097.19 1168.39 1097.81 Q1169.02 1098.4 1169.02 1099.38 Q1169.02 1100.35 1168.35 1100.98 Q1167.69 1101.6 1166.85 1101.6 Q1165.89 1101.6 1165.25 1100.92 Z\" fill=\"#000000\" fill-rule=\"nonzero\" fill-opacity=\"1\" /><path clip-path=\"url(#clip520)\" d=\"M1176.16 1101.6 Q1176.16 1100.84 1176.23 1100.61 Q1176.31 1100.39 1176.64 1100.04 L1184.69 1091.06 Q1189.1 1086.1 1189.1 1081.78 Q1189.1 1078.97 1187.62 1076.96 Q1186.17 1074.95 1183.48 1074.95 Q1181.64 1074.95 1180.08 1076.08 Q1178.52 1077.21 1177.8 1079.22 Q1177.93 1079.18 1178.36 1079.18 Q1179.4 1079.18 1179.98 1079.83 Q1180.57 1080.49 1180.57 1081.37 Q1180.57 1082.5 1179.83 1083.05 Q1179.12 1083.58 1178.4 1083.58 Q1178.11 1083.58 1177.72 1083.52 Q1177.35 1083.46 1176.76 1082.89 Q1176.16 1082.29 1176.16 1081.25 Q1176.16 1078.32 1178.38 1075.98 Q1180.61 1073.64 1184.01 1073.64 Q1187.87 1073.64 1190.39 1075.94 Q1192.93 1078.21 1192.93 1081.78 Q1192.93 1083.03 1192.54 1084.18 Q1192.17 1085.3 1191.66 1086.19 Q1191.17 1087.07 1189.81 1088.48 Q1188.46 1089.9 1187.37 1090.9 Q1186.29 1091.9 1183.85 1094.04 L1179.4 1098.36 L1186.96 1098.36 Q1190.65 1098.36 1190.94 1098.03 Q1191.35 1097.44 1191.86 1094.3 L1192.93 1094.3 L1191.74 1101.6 L1176.16 1101.6 Z\" fill=\"#000000\" fill-rule=\"nonzero\" fill-opacity=\"1\" /><path clip-path=\"url(#clip520)\" d=\"M1217.85 1085.82 Q1217.85 1086.96 1217.13 1087.62 Q1216.42 1088.26 1215.6 1088.26 Q1214.82 1088.26 1214.41 1087.8 Q1214 1087.35 1214 1086.78 Q1214 1086 1214.57 1085.32 Q1215.14 1084.65 1216.01 1084.51 Q1215.16 1083.97 1213.91 1083.97 Q1213.09 1083.97 1212.38 1084.4 Q1211.68 1084.83 1211.25 1085.39 Q1210.84 1085.94 1210.47 1086.74 Q1210.12 1087.52 1209.98 1087.99 Q1209.86 1088.44 1209.75 1088.93 L1208.32 1094.67 Q1207.62 1097.4 1207.62 1098.36 Q1207.62 1099.55 1208.2 1100.35 Q1208.77 1101.13 1209.92 1101.13 Q1210.37 1101.13 1210.88 1101 Q1211.39 1100.86 1212.05 1100.49 Q1212.73 1100.1 1213.32 1099.53 Q1213.94 1098.93 1214.53 1097.93 Q1215.12 1096.92 1215.51 1095.63 Q1215.64 1095.18 1216.05 1095.18 Q1216.56 1095.18 1216.56 1095.59 Q1216.56 1095.94 1216.27 1096.68 Q1216.01 1097.4 1215.41 1098.34 Q1214.84 1099.26 1214.08 1100.1 Q1213.32 1100.92 1212.19 1101.5 Q1211.07 1102.07 1209.84 1102.07 Q1208.07 1102.07 1206.91 1101.13 Q1205.74 1100.18 1205.31 1098.87 Q1205.2 1099.06 1205.06 1099.3 Q1204.92 1099.55 1204.49 1100.1 Q1204.08 1100.63 1203.61 1101.04 Q1203.13 1101.43 1202.4 1101.74 Q1201.68 1102.07 1200.9 1102.07 Q1199.92 1102.07 1199.04 1101.78 Q1198.17 1101.5 1197.56 1100.84 Q1196.95 1100.18 1196.95 1099.28 Q1196.95 1098.28 1197.62 1097.58 Q1198.32 1096.86 1199.26 1096.86 Q1199.86 1096.86 1200.33 1097.21 Q1200.82 1097.56 1200.82 1098.32 Q1200.82 1099.16 1200.24 1099.79 Q1199.67 1100.43 1198.85 1100.59 Q1199.69 1101.13 1200.94 1101.13 Q1202.29 1101.13 1203.36 1099.94 Q1204.43 1098.75 1204.94 1096.76 Q1206.21 1091.99 1206.7 1089.85 Q1207.19 1087.7 1207.19 1086.78 Q1207.19 1085.92 1206.97 1085.32 Q1206.74 1084.73 1206.35 1084.46 Q1205.98 1084.18 1205.63 1084.07 Q1205.31 1083.97 1204.94 1083.97 Q1204.32 1083.97 1203.63 1084.22 Q1202.95 1084.46 1202.13 1085.04 Q1201.33 1085.59 1200.57 1086.74 Q1199.81 1087.89 1199.3 1089.46 Q1199.2 1089.94 1198.75 1089.94 Q1198.26 1089.92 1198.26 1089.51 Q1198.26 1089.16 1198.52 1088.44 Q1198.81 1087.7 1199.38 1086.78 Q1199.98 1085.86 1200.74 1085.04 Q1201.52 1084.2 1202.64 1083.62 Q1203.79 1083.05 1205.02 1083.05 Q1205.57 1083.05 1206.11 1083.17 Q1206.66 1083.28 1207.32 1083.58 Q1207.99 1083.89 1208.59 1084.57 Q1209.18 1085.24 1209.55 1086.23 Q1209.8 1085.76 1210.12 1085.3 Q1210.47 1084.85 1211 1084.3 Q1211.56 1083.73 1212.32 1083.4 Q1213.09 1083.05 1213.96 1083.05 Q1214.8 1083.05 1215.62 1083.28 Q1216.44 1083.48 1217.13 1084.16 Q1217.85 1084.81 1217.85 1085.82 Z\" fill=\"#000000\" fill-rule=\"nonzero\" fill-opacity=\"1\" /><path clip-path=\"url(#clip520)\" d=\"M1222.11 1096.92 L1222.11 1096.01 Q1225.64 1096.01 1227.46 1094.13 Q1227.97 1094.13 1228.05 1094.24 Q1228.14 1094.36 1228.14 1094.89 L1228.14 1111.37 Q1228.14 1112.25 1228.57 1112.52 Q1229 1112.79 1230.88 1112.79 L1231.81 1112.79 L1231.81 1113.7 Q1230.78 1113.61 1227.05 1113.61 Q1223.32 1113.61 1222.3 1113.7 L1222.3 1112.79 L1223.23 1112.79 Q1225.08 1112.79 1225.53 1112.53 Q1225.97 1112.26 1225.97 1111.37 L1225.97 1096.15 Q1224.44 1096.92 1222.11 1096.92 Z\" fill=\"#000000\" fill-rule=\"nonzero\" fill-opacity=\"1\" /><path clip-path=\"url(#clip520)\" d=\"M1456.58 1099.07 Q1455.94 1098.4 1455.94 1097.51 Q1455.94 1096.63 1456.58 1096 Q1457.22 1095.34 1458.18 1095.34 Q1459.1 1095.34 1459.72 1095.96 Q1460.35 1096.55 1460.35 1097.54 Q1460.35 1098.5 1459.67 1099.13 Q1459.02 1099.75 1458.18 1099.75 Q1457.22 1099.75 1456.58 1099.07 Z\" fill=\"#000000\" fill-rule=\"nonzero\" fill-opacity=\"1\" /><path clip-path=\"url(#clip520)\" d=\"M1474.15 1086.32 Q1474.15 1080.16 1475.7 1076.79 Q1477.88 1071.79 1483 1071.79 Q1484.09 1071.79 1485.21 1072.1 Q1486.36 1072.39 1487.8 1073.52 Q1489.25 1074.64 1490.13 1076.49 Q1491.81 1080.05 1491.81 1086.32 Q1491.81 1092.45 1490.26 1095.79 Q1487.98 1100.67 1482.96 1100.67 Q1481.07 1100.67 1479.15 1099.71 Q1477.24 1098.74 1476.03 1096.43 Q1474.15 1092.97 1474.15 1086.32 M1477.63 1085.81 Q1477.63 1092.15 1478.08 1094.67 Q1478.59 1097.39 1479.99 1098.58 Q1481.4 1099.75 1482.96 1099.75 Q1484.64 1099.75 1486.03 1098.5 Q1487.45 1097.23 1487.88 1094.5 Q1488.35 1091.82 1488.33 1085.81 Q1488.33 1079.97 1487.92 1077.64 Q1487.37 1074.91 1485.89 1073.82 Q1484.44 1072.72 1482.96 1072.72 Q1482.41 1072.72 1481.81 1072.88 Q1481.24 1073.04 1480.4 1073.52 Q1479.56 1073.99 1478.9 1075.16 Q1478.27 1076.32 1477.96 1078.09 Q1477.63 1080.36 1477.63 1085.81 Z\" fill=\"#000000\" fill-rule=\"nonzero\" fill-opacity=\"1\" /><path clip-path=\"url(#clip520)\" d=\"M1495.1 1086.32 Q1495.1 1080.16 1496.65 1076.79 Q1498.83 1071.79 1503.95 1071.79 Q1505.04 1071.79 1506.16 1072.1 Q1507.31 1072.39 1508.75 1073.52 Q1510.2 1074.64 1511.08 1076.49 Q1512.76 1080.05 1512.76 1086.32 Q1512.76 1092.45 1511.2 1095.79 Q1508.93 1100.67 1503.91 1100.67 Q1502.02 1100.67 1500.1 1099.71 Q1498.19 1098.74 1496.98 1096.43 Q1495.1 1092.97 1495.1 1086.32 M1498.58 1085.81 Q1498.58 1092.15 1499.03 1094.67 Q1499.54 1097.39 1500.94 1098.58 Q1502.35 1099.75 1503.91 1099.75 Q1505.59 1099.75 1506.98 1098.5 Q1508.4 1097.23 1508.83 1094.5 Q1509.3 1091.82 1509.28 1085.81 Q1509.28 1079.97 1508.87 1077.64 Q1508.32 1074.91 1506.84 1073.82 Q1505.38 1072.72 1503.91 1072.72 Q1503.36 1072.72 1502.76 1072.88 Q1502.19 1073.04 1501.35 1073.52 Q1500.51 1073.99 1499.85 1075.16 Q1499.22 1076.32 1498.91 1078.09 Q1498.58 1080.36 1498.58 1085.81 Z\" fill=\"#000000\" fill-rule=\"nonzero\" fill-opacity=\"1\" /><path clip-path=\"url(#clip520)\" d=\"M1516.05 1092.99 Q1516.05 1091.74 1516.72 1091.26 Q1517.4 1090.77 1518.12 1090.77 Q1519.08 1090.77 1519.63 1091.39 Q1520.21 1091.98 1520.21 1092.82 Q1520.21 1093.66 1519.63 1094.28 Q1519.08 1094.87 1518.12 1094.87 Q1517.64 1094.87 1517.4 1094.79 Q1517.95 1096.72 1519.63 1098.11 Q1521.33 1099.5 1523.57 1099.5 Q1526.37 1099.5 1528.06 1096.78 Q1529.06 1095.01 1529.06 1091.02 Q1529.06 1087.49 1528.3 1085.73 Q1527.13 1083.05 1524.74 1083.05 Q1521.33 1083.05 1519.32 1085.98 Q1519.08 1086.35 1518.79 1086.37 Q1518.38 1086.37 1518.28 1086.14 Q1518.2 1085.89 1518.2 1085.26 L1518.2 1072.84 Q1518.2 1071.84 1518.61 1071.84 Q1518.77 1071.84 1519.12 1071.96 Q1521.76 1073.13 1524.69 1073.15 Q1527.71 1073.15 1530.41 1071.92 Q1530.62 1071.79 1530.74 1071.79 Q1531.15 1071.79 1531.17 1072.27 Q1531.17 1072.43 1530.82 1072.92 Q1530.49 1073.39 1529.78 1074.03 Q1529.06 1074.64 1528.14 1075.24 Q1527.22 1075.83 1525.86 1076.24 Q1524.53 1076.63 1523.05 1076.63 Q1521.29 1076.63 1519.49 1076.08 L1519.49 1084.25 Q1521.66 1082.12 1524.82 1082.12 Q1528.18 1082.12 1530.49 1084.83 Q1532.81 1087.53 1532.81 1091.3 Q1532.81 1095.26 1530.06 1097.97 Q1527.34 1100.67 1523.65 1100.67 Q1520.29 1100.67 1518.16 1098.27 Q1516.05 1095.88 1516.05 1092.99 Z\" fill=\"#000000\" fill-rule=\"nonzero\" fill-opacity=\"1\" /><path clip-path=\"url(#clip520)\" d=\"M1557.73 1083.97 Q1557.73 1085.12 1557.01 1085.77 Q1556.3 1086.41 1555.48 1086.41 Q1554.7 1086.41 1554.29 1085.96 Q1553.88 1085.5 1553.88 1084.93 Q1553.88 1084.15 1554.45 1083.48 Q1555.03 1082.8 1555.89 1082.66 Q1555.05 1082.12 1553.8 1082.12 Q1552.98 1082.12 1552.26 1082.55 Q1551.56 1082.98 1551.13 1083.54 Q1550.72 1084.09 1550.35 1084.89 Q1550 1085.67 1549.86 1086.14 Q1549.74 1086.59 1549.64 1087.08 L1548.2 1092.82 Q1547.5 1095.55 1547.5 1096.51 Q1547.5 1097.7 1548.08 1098.5 Q1548.65 1099.28 1549.8 1099.28 Q1550.25 1099.28 1550.76 1099.15 Q1551.28 1099.01 1551.93 1098.64 Q1552.61 1098.25 1553.2 1097.68 Q1553.82 1097.08 1554.41 1096.08 Q1555.01 1095.08 1555.39 1093.78 Q1555.52 1093.33 1555.93 1093.33 Q1556.44 1093.33 1556.44 1093.74 Q1556.44 1094.09 1556.15 1094.83 Q1555.89 1095.55 1555.29 1096.49 Q1554.72 1097.41 1553.96 1098.25 Q1553.2 1099.07 1552.07 1099.65 Q1550.95 1100.22 1549.72 1100.22 Q1547.96 1100.22 1546.79 1099.28 Q1545.62 1098.33 1545.19 1097.02 Q1545.09 1097.21 1544.94 1097.45 Q1544.8 1097.7 1544.37 1098.25 Q1543.96 1098.79 1543.49 1099.2 Q1543.02 1099.58 1542.28 1099.89 Q1541.56 1100.22 1540.78 1100.22 Q1539.8 1100.22 1538.92 1099.93 Q1538.06 1099.65 1537.44 1098.99 Q1536.83 1098.33 1536.83 1097.43 Q1536.83 1096.43 1537.5 1095.73 Q1538.2 1095.01 1539.14 1095.01 Q1539.74 1095.01 1540.21 1095.36 Q1540.7 1095.71 1540.7 1096.47 Q1540.7 1097.31 1540.13 1097.95 Q1539.55 1098.58 1538.73 1098.74 Q1539.57 1099.28 1540.82 1099.28 Q1542.18 1099.28 1543.24 1098.09 Q1544.31 1096.9 1544.82 1094.91 Q1546.09 1090.14 1546.58 1088.01 Q1547.07 1085.85 1547.07 1084.93 Q1547.07 1084.07 1546.85 1083.48 Q1546.62 1082.88 1546.23 1082.62 Q1545.86 1082.33 1545.52 1082.23 Q1545.19 1082.12 1544.82 1082.12 Q1544.2 1082.12 1543.51 1082.37 Q1542.83 1082.62 1542.01 1083.19 Q1541.21 1083.74 1540.45 1084.89 Q1539.7 1086.04 1539.18 1087.62 Q1539.08 1088.09 1538.63 1088.09 Q1538.14 1088.07 1538.14 1087.66 Q1538.14 1087.31 1538.4 1086.59 Q1538.69 1085.85 1539.27 1084.93 Q1539.86 1084.01 1540.62 1083.19 Q1541.4 1082.35 1542.52 1081.77 Q1543.67 1081.2 1544.9 1081.2 Q1545.45 1081.2 1545.99 1081.32 Q1546.54 1081.43 1547.2 1081.73 Q1547.87 1082.04 1548.47 1082.72 Q1549.06 1083.39 1549.43 1084.38 Q1549.68 1083.91 1550 1083.46 Q1550.35 1083 1550.89 1082.45 Q1551.44 1081.88 1552.2 1081.55 Q1552.98 1081.2 1553.84 1081.2 Q1554.68 1081.2 1555.5 1081.43 Q1556.32 1081.63 1557.01 1082.31 Q1557.73 1082.96 1557.73 1083.97 Z\" fill=\"#000000\" fill-rule=\"nonzero\" fill-opacity=\"1\" /><path clip-path=\"url(#clip520)\" d=\"M1561.99 1111.85 Q1561.99 1111.32 1562.04 1111.16 Q1562.09 1111 1562.32 1110.76 L1567.96 1104.47 Q1571.05 1101 1571.05 1097.97 Q1571.05 1096.01 1570.01 1094.6 Q1569 1093.2 1567.12 1093.2 Q1565.82 1093.2 1564.73 1093.99 Q1563.64 1094.77 1563.14 1096.18 Q1563.23 1096.15 1563.53 1096.15 Q1564.26 1096.15 1564.66 1096.61 Q1565.08 1097.07 1565.08 1097.69 Q1565.08 1098.48 1564.56 1098.86 Q1564.06 1099.24 1563.56 1099.24 Q1563.36 1099.24 1563.08 1099.19 Q1562.83 1099.15 1562.41 1098.75 Q1561.99 1098.33 1561.99 1097.6 Q1561.99 1095.55 1563.54 1093.91 Q1565.11 1092.28 1567.49 1092.28 Q1570.19 1092.28 1571.95 1093.88 Q1573.73 1095.48 1573.73 1097.97 Q1573.73 1098.85 1573.46 1099.65 Q1573.2 1100.44 1572.84 1101.06 Q1572.5 1101.67 1571.55 1102.66 Q1570.6 1103.65 1569.84 1104.36 Q1569.08 1105.06 1567.37 1106.55 L1564.26 1109.58 L1569.55 1109.58 Q1572.14 1109.58 1572.34 1109.35 Q1572.62 1108.93 1572.98 1106.74 L1573.73 1106.74 L1572.9 1111.85 L1561.99 1111.85 Z\" fill=\"#000000\" fill-rule=\"nonzero\" fill-opacity=\"1\" /><path clip-path=\"url(#clip520)\" d=\"M1561.99 1087.2 Q1561.99 1086.67 1562.04 1086.52 Q1562.09 1086.36 1562.32 1086.11 L1567.96 1079.83 Q1571.05 1076.36 1571.05 1073.33 Q1571.05 1071.37 1570.01 1069.96 Q1569 1068.55 1567.12 1068.55 Q1565.82 1068.55 1564.73 1069.34 Q1563.64 1070.13 1563.14 1071.54 Q1563.23 1071.51 1563.53 1071.51 Q1564.26 1071.51 1564.66 1071.97 Q1565.08 1072.43 1565.08 1073.04 Q1565.08 1073.83 1564.56 1074.22 Q1564.06 1074.59 1563.56 1074.59 Q1563.36 1074.59 1563.08 1074.55 Q1562.83 1074.51 1562.41 1074.11 Q1561.99 1073.69 1561.99 1072.96 Q1561.99 1070.91 1563.54 1069.27 Q1565.11 1067.64 1567.49 1067.64 Q1570.19 1067.64 1571.95 1069.24 Q1573.73 1070.83 1573.73 1073.33 Q1573.73 1074.21 1573.46 1075.01 Q1573.2 1075.8 1572.84 1076.42 Q1572.5 1077.03 1571.55 1078.02 Q1570.6 1079.01 1569.84 1079.72 Q1569.08 1080.42 1567.37 1081.91 L1564.26 1084.94 L1569.55 1084.94 Q1572.14 1084.94 1572.34 1084.71 Q1572.62 1084.29 1572.98 1082.1 L1573.73 1082.1 L1572.9 1087.2 L1561.99 1087.2 Z\" fill=\"#000000\" fill-rule=\"nonzero\" fill-opacity=\"1\" /><path clip-path=\"url(#clip520)\" d=\"M1288.79 250.559 L1288.79 261.922 L1293.93 261.922 Q1296.79 261.922 1298.35 260.444 Q1299.91 258.965 1299.91 256.231 Q1299.91 253.517 1298.35 252.038 Q1296.79 250.559 1293.93 250.559 L1288.79 250.559 M1284.7 247.197 L1293.93 247.197 Q1299.02 247.197 1301.61 249.506 Q1304.22 251.795 1304.22 256.231 Q1304.22 260.707 1301.61 262.996 Q1299.02 265.284 1293.93 265.284 L1288.79 265.284 L1288.79 277.437 L1284.7 277.437 L1284.7 247.197 Z\" fill=\"#000000\" fill-rule=\"nonzero\" fill-opacity=\"1\" /><path clip-path=\"url(#clip520)\" d=\"M1309.55 245.921 L1313.27 245.921 L1313.27 277.437 L1309.55 277.437 L1309.55 245.921 Z\" fill=\"#000000\" fill-rule=\"nonzero\" fill-opacity=\"1\" /><path clip-path=\"url(#clip520)\" d=\"M1331.38 266.034 Q1326.87 266.034 1325.12 267.067 Q1323.38 268.1 1323.38 270.591 Q1323.38 272.576 1324.68 273.751 Q1325.99 274.905 1328.24 274.905 Q1331.34 274.905 1333.21 272.718 Q1335.09 270.51 1335.09 266.864 L1335.09 266.034 L1331.38 266.034 M1338.82 264.495 L1338.82 277.437 L1335.09 277.437 L1335.09 273.994 Q1333.81 276.06 1331.91 277.052 Q1330.01 278.025 1327.25 278.025 Q1323.77 278.025 1321.7 276.08 Q1319.66 274.115 1319.66 270.834 Q1319.66 267.006 1322.21 265.062 Q1324.78 263.117 1329.86 263.117 L1335.09 263.117 L1335.09 262.753 Q1335.09 260.18 1333.39 258.783 Q1331.71 257.365 1328.65 257.365 Q1326.7 257.365 1324.86 257.831 Q1323.02 258.297 1321.32 259.228 L1321.32 255.785 Q1323.36 254.995 1325.29 254.61 Q1327.21 254.205 1329.03 254.205 Q1333.95 254.205 1336.39 256.757 Q1338.82 259.309 1338.82 264.495 Z\" fill=\"#000000\" fill-rule=\"nonzero\" fill-opacity=\"1\" /><path clip-path=\"url(#clip520)\" d=\"M1365.35 263.745 L1365.35 277.437 L1361.62 277.437 L1361.62 263.867 Q1361.62 260.646 1360.37 259.046 Q1359.11 257.446 1356.6 257.446 Q1353.58 257.446 1351.84 259.37 Q1350.1 261.294 1350.1 264.616 L1350.1 277.437 L1346.35 277.437 L1346.35 254.752 L1350.1 254.752 L1350.1 258.276 Q1351.43 256.231 1353.24 255.218 Q1355.06 254.205 1357.43 254.205 Q1361.34 254.205 1363.34 256.636 Q1365.35 259.046 1365.35 263.745 Z\" fill=\"#000000\" fill-rule=\"nonzero\" fill-opacity=\"1\" /><path clip-path=\"url(#clip520)\" d=\"M1376.47 248.311 L1376.47 254.752 L1384.15 254.752 L1384.15 257.649 L1376.47 257.649 L1376.47 269.963 Q1376.47 272.738 1377.22 273.528 Q1377.99 274.318 1380.32 274.318 L1384.15 274.318 L1384.15 277.437 L1380.32 277.437 Q1376 277.437 1374.36 275.837 Q1372.72 274.217 1372.72 269.963 L1372.72 257.649 L1369.99 257.649 L1369.99 254.752 L1372.72 254.752 L1372.72 248.311 L1376.47 248.311 Z\" fill=\"#000000\" fill-rule=\"nonzero\" fill-opacity=\"1\" /><path clip-path=\"url(#clip520)\" d=\"M367.724 784.88 L371.815 784.88 L371.815 811.677 L386.54 811.677 L386.54 815.12 L367.724 815.12 L367.724 784.88 Z\" fill=\"#000000\" fill-rule=\"nonzero\" fill-opacity=\"1\" /><path clip-path=\"url(#clip520)\" d=\"M400.982 803.717 Q396.465 803.717 394.723 804.75 Q392.981 805.783 392.981 808.274 Q392.981 810.259 394.277 811.434 Q395.594 812.588 397.842 812.588 Q400.941 812.588 402.805 810.401 Q404.688 808.193 404.688 804.547 L404.688 803.717 L400.982 803.717 M408.415 802.177 L408.415 815.12 L404.688 815.12 L404.688 811.677 Q403.412 813.743 401.508 814.735 Q399.604 815.707 396.85 815.707 Q393.366 815.707 391.3 813.763 Q389.254 811.798 389.254 808.517 Q389.254 804.689 391.806 802.744 Q394.379 800.8 399.463 800.8 L404.688 800.8 L404.688 800.435 Q404.688 797.863 402.987 796.466 Q401.306 795.048 398.247 795.048 Q396.303 795.048 394.46 795.514 Q392.617 795.979 390.915 796.911 L390.915 793.468 Q392.961 792.678 394.885 792.293 Q396.809 791.888 398.632 791.888 Q403.554 791.888 405.985 794.44 Q408.415 796.992 408.415 802.177 Z\" fill=\"#000000\" fill-rule=\"nonzero\" fill-opacity=\"1\" /><path clip-path=\"url(#clip520)\" d=\"M434.949 801.428 L434.949 815.12 L431.222 815.12 L431.222 801.549 Q431.222 798.329 429.966 796.729 Q428.71 795.129 426.199 795.129 Q423.181 795.129 421.439 797.053 Q419.697 798.977 419.697 802.299 L419.697 815.12 L415.95 815.12 L415.95 792.435 L419.697 792.435 L419.697 795.959 Q421.034 793.914 422.836 792.901 Q424.659 791.888 427.029 791.888 Q430.938 791.888 432.943 794.319 Q434.949 796.729 434.949 801.428 Z\" fill=\"#000000\" fill-rule=\"nonzero\" fill-opacity=\"1\" /><path clip-path=\"url(#clip520)\" d=\"M457.31 795.878 L457.31 783.604 L461.036 783.604 L461.036 815.12 L457.31 815.12 L457.31 811.717 Q456.135 813.743 454.332 814.735 Q452.55 815.707 450.038 815.707 Q445.926 815.707 443.334 812.426 Q440.762 809.145 440.762 803.798 Q440.762 798.451 443.334 795.169 Q445.926 791.888 450.038 791.888 Q452.55 791.888 454.332 792.881 Q456.135 793.853 457.31 795.878 M444.61 803.798 Q444.61 807.909 446.291 810.259 Q447.992 812.588 450.95 812.588 Q453.907 812.588 455.608 810.259 Q457.31 807.909 457.31 803.798 Q457.31 799.686 455.608 797.357 Q453.907 795.007 450.95 795.007 Q447.992 795.007 446.291 797.357 Q444.61 799.686 444.61 803.798 Z\" fill=\"#000000\" fill-rule=\"nonzero\" fill-opacity=\"1\" /><path clip-path=\"url(#clip520)\" d=\"M477.868 784.88 L503.449 784.88 L503.449 788.323 L492.714 788.323 L492.714 815.12 L488.603 815.12 L488.603 788.323 L477.868 788.323 L477.868 784.88 Z\" fill=\"#000000\" fill-rule=\"nonzero\" fill-opacity=\"1\" /><path clip-path=\"url(#clip520)\" d=\"M514.285 795.919 Q513.658 795.554 512.908 795.392 Q512.179 795.21 511.288 795.21 Q508.128 795.21 506.427 797.276 Q504.746 799.321 504.746 803.17 L504.746 815.12 L500.999 815.12 L500.999 792.435 L504.746 792.435 L504.746 795.959 Q505.92 793.893 507.804 792.901 Q509.688 791.888 512.382 791.888 Q512.766 791.888 513.232 791.949 Q513.698 791.989 514.265 792.091 L514.285 795.919 Z\" fill=\"#000000\" fill-rule=\"nonzero\" fill-opacity=\"1\" /><path clip-path=\"url(#clip520)\" d=\"M536.687 802.846 L536.687 804.669 L519.552 804.669 Q519.795 808.517 521.861 810.542 Q523.947 812.548 527.653 812.548 Q529.8 812.548 531.806 812.021 Q533.831 811.494 535.816 810.441 L535.816 813.965 Q533.811 814.816 531.704 815.262 Q529.598 815.707 527.431 815.707 Q522.002 815.707 518.822 812.548 Q515.663 809.388 515.663 804 Q515.663 798.43 518.66 795.169 Q521.678 791.888 526.783 791.888 Q531.36 791.888 534.013 794.845 Q536.687 797.782 536.687 802.846 M532.96 801.752 Q532.92 798.694 531.239 796.871 Q529.578 795.048 526.823 795.048 Q523.704 795.048 521.82 796.81 Q519.957 798.572 519.673 801.772 L532.96 801.752 Z\" fill=\"#000000\" fill-rule=\"nonzero\" fill-opacity=\"1\" /><path clip-path=\"url(#clip520)\" d=\"M553.113 803.717 Q548.597 803.717 546.855 804.75 Q545.113 805.783 545.113 808.274 Q545.113 810.259 546.409 811.434 Q547.726 812.588 549.974 812.588 Q553.073 812.588 554.936 810.401 Q556.82 808.193 556.82 804.547 L556.82 803.717 L553.113 803.717 M560.547 802.177 L560.547 815.12 L556.82 815.12 L556.82 811.677 Q555.544 813.743 553.64 814.735 Q551.736 815.707 548.981 815.707 Q545.498 815.707 543.432 813.763 Q541.386 811.798 541.386 808.517 Q541.386 804.689 543.938 802.744 Q546.51 800.8 551.594 800.8 L556.82 800.8 L556.82 800.435 Q556.82 797.863 555.119 796.466 Q553.437 795.048 550.379 795.048 Q548.435 795.048 546.591 795.514 Q544.748 795.979 543.047 796.911 L543.047 793.468 Q545.093 792.678 547.017 792.293 Q548.941 791.888 550.764 791.888 Q555.686 791.888 558.116 794.44 Q560.547 796.992 560.547 802.177 Z\" fill=\"#000000\" fill-rule=\"nonzero\" fill-opacity=\"1\" /><path clip-path=\"url(#clip520)\" d=\"M571.91 785.994 L571.91 792.435 L579.586 792.435 L579.586 795.331 L571.91 795.331 L571.91 807.646 Q571.91 810.421 572.659 811.211 Q573.429 812.001 575.758 812.001 L579.586 812.001 L579.586 815.12 L575.758 815.12 Q571.444 815.12 569.803 813.52 Q568.163 811.9 568.163 807.646 L568.163 795.331 L565.428 795.331 L565.428 792.435 L568.163 792.435 L568.163 785.994 L571.91 785.994 Z\" fill=\"#000000\" fill-rule=\"nonzero\" fill-opacity=\"1\" /><path clip-path=\"url(#clip520)\" d=\"M602.15 796.79 Q603.547 794.278 605.492 793.083 Q607.436 791.888 610.069 791.888 Q613.614 791.888 615.538 794.379 Q617.462 796.85 617.462 801.428 L617.462 815.12 L613.715 815.12 L613.715 801.549 Q613.715 798.288 612.56 796.709 Q611.406 795.129 609.036 795.129 Q606.14 795.129 604.459 797.053 Q602.777 798.977 602.777 802.299 L602.777 815.12 L599.03 815.12 L599.03 801.549 Q599.03 798.268 597.876 796.709 Q596.721 795.129 594.311 795.129 Q591.455 795.129 589.774 797.073 Q588.093 798.997 588.093 802.299 L588.093 815.12 L584.346 815.12 L584.346 792.435 L588.093 792.435 L588.093 795.959 Q589.369 793.873 591.151 792.881 Q592.934 791.888 595.385 791.888 Q597.856 791.888 599.577 793.144 Q601.319 794.4 602.15 796.79 Z\" fill=\"#000000\" fill-rule=\"nonzero\" fill-opacity=\"1\" /><path clip-path=\"url(#clip520)\" d=\"M644.299 802.846 L644.299 804.669 L627.164 804.669 Q627.407 808.517 629.473 810.542 Q631.559 812.548 635.266 812.548 Q637.413 812.548 639.418 812.021 Q641.443 811.494 643.428 810.441 L643.428 813.965 Q641.423 814.816 639.317 815.262 Q637.21 815.707 635.043 815.707 Q629.615 815.707 626.435 812.548 Q623.275 809.388 623.275 804 Q623.275 798.43 626.273 795.169 Q629.291 791.888 634.395 791.888 Q638.972 791.888 641.626 794.845 Q644.299 797.782 644.299 802.846 M640.572 801.752 Q640.532 798.694 638.851 796.871 Q637.19 795.048 634.435 795.048 Q631.316 795.048 629.432 796.81 Q627.569 798.572 627.285 801.772 L640.572 801.752 Z\" fill=\"#000000\" fill-rule=\"nonzero\" fill-opacity=\"1\" /><path clip-path=\"url(#clip520)\" d=\"M669.273 801.428 L669.273 815.12 L665.546 815.12 L665.546 801.549 Q665.546 798.329 664.29 796.729 Q663.035 795.129 660.523 795.129 Q657.505 795.129 655.763 797.053 Q654.021 798.977 654.021 802.299 L654.021 815.12 L650.274 815.12 L650.274 792.435 L654.021 792.435 L654.021 795.959 Q655.358 793.914 657.161 792.901 Q658.984 791.888 661.354 791.888 Q665.263 791.888 667.268 794.319 Q669.273 796.729 669.273 801.428 Z\" fill=\"#000000\" fill-rule=\"nonzero\" fill-opacity=\"1\" /><path clip-path=\"url(#clip520)\" d=\"M680.393 785.994 L680.393 792.435 L688.069 792.435 L688.069 795.331 L680.393 795.331 L680.393 807.646 Q680.393 810.421 681.142 811.211 Q681.912 812.001 684.241 812.001 L688.069 812.001 L688.069 815.12 L684.241 815.12 Q679.927 815.12 678.286 813.52 Q676.646 811.9 676.646 807.646 L676.646 795.331 L673.911 795.331 L673.911 792.435 L676.646 792.435 L676.646 785.994 L680.393 785.994 Z\" fill=\"#000000\" fill-rule=\"nonzero\" fill-opacity=\"1\" /><path clip-path=\"url(#clip520)\" d=\"M1053.33 787.209 L1053.33 791.523 Q1051.26 789.599 1048.91 788.647 Q1046.58 787.695 1043.95 787.695 Q1038.76 787.695 1036.01 790.875 Q1033.25 794.035 1033.25 800.03 Q1033.25 806.005 1036.01 809.185 Q1038.76 812.345 1043.95 812.345 Q1046.58 812.345 1048.91 811.393 Q1051.26 810.441 1053.33 808.517 L1053.33 812.791 Q1051.18 814.249 1048.77 814.978 Q1046.38 815.707 1043.71 815.707 Q1036.84 815.707 1032.89 811.515 Q1028.94 807.302 1028.94 800.03 Q1028.94 792.739 1032.89 788.546 Q1036.84 784.333 1043.71 784.333 Q1046.42 784.333 1048.81 785.062 Q1051.22 785.771 1053.33 787.209 Z\" fill=\"#000000\" fill-rule=\"nonzero\" fill-opacity=\"1\" /><path clip-path=\"url(#clip520)\" d=\"M1078.34 801.428 L1078.34 815.12 L1074.61 815.12 L1074.61 801.549 Q1074.61 798.329 1073.36 796.729 Q1072.1 795.129 1069.59 795.129 Q1066.57 795.129 1064.83 797.053 Q1063.09 798.977 1063.09 802.299 L1063.09 815.12 L1059.34 815.12 L1059.34 783.604 L1063.09 783.604 L1063.09 795.959 Q1064.43 793.914 1066.23 792.901 Q1068.05 791.888 1070.42 791.888 Q1074.33 791.888 1076.34 794.319 Q1078.34 796.729 1078.34 801.428 Z\" fill=\"#000000\" fill-rule=\"nonzero\" fill-opacity=\"1\" /><path clip-path=\"url(#clip520)\" d=\"M1105.18 802.846 L1105.18 804.669 L1088.04 804.669 Q1088.29 808.517 1090.35 810.542 Q1092.44 812.548 1096.14 812.548 Q1098.29 812.548 1100.3 812.021 Q1102.32 811.494 1104.31 810.441 L1104.31 813.965 Q1102.3 814.816 1100.2 815.262 Q1098.09 815.707 1095.92 815.707 Q1090.49 815.707 1087.31 812.548 Q1084.15 809.388 1084.15 804 Q1084.15 798.43 1087.15 795.169 Q1090.17 791.888 1095.27 791.888 Q1099.85 791.888 1102.5 794.845 Q1105.18 797.782 1105.18 802.846 M1101.45 801.752 Q1101.41 798.694 1099.73 796.871 Q1098.07 795.048 1095.31 795.048 Q1092.2 795.048 1090.31 796.81 Q1088.45 798.572 1088.16 801.772 L1101.45 801.752 Z\" fill=\"#000000\" fill-rule=\"nonzero\" fill-opacity=\"1\" /><path clip-path=\"url(#clip520)\" d=\"M1128.96 796.79 Q1130.35 794.278 1132.3 793.083 Q1134.24 791.888 1136.88 791.888 Q1140.42 791.888 1142.35 794.379 Q1144.27 796.85 1144.27 801.428 L1144.27 815.12 L1140.52 815.12 L1140.52 801.549 Q1140.52 798.288 1139.37 796.709 Q1138.21 795.129 1135.84 795.129 Q1132.95 795.129 1131.27 797.053 Q1129.59 798.977 1129.59 802.299 L1129.59 815.12 L1125.84 815.12 L1125.84 801.549 Q1125.84 798.268 1124.68 796.709 Q1123.53 795.129 1121.12 795.129 Q1118.26 795.129 1116.58 797.073 Q1114.9 798.997 1114.9 802.299 L1114.9 815.12 L1111.15 815.12 L1111.15 792.435 L1114.9 792.435 L1114.9 795.959 Q1116.18 793.873 1117.96 792.881 Q1119.74 791.888 1122.19 791.888 Q1124.66 791.888 1126.38 793.144 Q1128.13 794.4 1128.96 796.79 Z\" fill=\"#000000\" fill-rule=\"nonzero\" fill-opacity=\"1\" /><path clip-path=\"url(#clip520)\" d=\"M1160.86 784.88 L1186.44 784.88 L1186.44 788.323 L1175.7 788.323 L1175.7 815.12 L1171.59 815.12 L1171.59 788.323 L1160.86 788.323 L1160.86 784.88 Z\" fill=\"#000000\" fill-rule=\"nonzero\" fill-opacity=\"1\" /><path clip-path=\"url(#clip520)\" d=\"M1197.28 795.919 Q1196.65 795.554 1195.9 795.392 Q1195.17 795.21 1194.28 795.21 Q1191.12 795.21 1189.42 797.276 Q1187.74 799.321 1187.74 803.17 L1187.74 815.12 L1183.99 815.12 L1183.99 792.435 L1187.74 792.435 L1187.74 795.959 Q1188.91 793.893 1190.79 792.901 Q1192.68 791.888 1195.37 791.888 Q1195.76 791.888 1196.22 791.949 Q1196.69 791.989 1197.26 792.091 L1197.28 795.919 Z\" fill=\"#000000\" fill-rule=\"nonzero\" fill-opacity=\"1\" /><path clip-path=\"url(#clip520)\" d=\"M1219.68 802.846 L1219.68 804.669 L1202.54 804.669 Q1202.78 808.517 1204.85 810.542 Q1206.94 812.548 1210.64 812.548 Q1212.79 812.548 1214.8 812.021 Q1216.82 811.494 1218.81 810.441 L1218.81 813.965 Q1216.8 814.816 1214.69 815.262 Q1212.59 815.707 1210.42 815.707 Q1204.99 815.707 1201.81 812.548 Q1198.65 809.388 1198.65 804 Q1198.65 798.43 1201.65 795.169 Q1204.67 791.888 1209.77 791.888 Q1214.35 791.888 1217 794.845 Q1219.68 797.782 1219.68 802.846 M1215.95 801.752 Q1215.91 798.694 1214.23 796.871 Q1212.57 795.048 1209.81 795.048 Q1206.69 795.048 1204.81 796.81 Q1202.95 798.572 1202.66 801.772 L1215.95 801.752 Z\" fill=\"#000000\" fill-rule=\"nonzero\" fill-opacity=\"1\" /><path clip-path=\"url(#clip520)\" d=\"M1236.1 803.717 Q1231.59 803.717 1229.85 804.75 Q1228.1 805.783 1228.1 808.274 Q1228.1 810.259 1229.4 811.434 Q1230.72 812.588 1232.96 812.588 Q1236.06 812.588 1237.93 810.401 Q1239.81 808.193 1239.81 804.547 L1239.81 803.717 L1236.1 803.717 M1243.54 802.177 L1243.54 815.12 L1239.81 815.12 L1239.81 811.677 Q1238.53 813.743 1236.63 814.735 Q1234.73 815.707 1231.97 815.707 Q1228.49 815.707 1226.42 813.763 Q1224.38 811.798 1224.38 808.517 Q1224.38 804.689 1226.93 802.744 Q1229.5 800.8 1234.58 800.8 L1239.81 800.8 L1239.81 800.435 Q1239.81 797.863 1238.11 796.466 Q1236.43 795.048 1233.37 795.048 Q1231.42 795.048 1229.58 795.514 Q1227.74 795.979 1226.04 796.911 L1226.04 793.468 Q1228.08 792.678 1230.01 792.293 Q1231.93 791.888 1233.75 791.888 Q1238.68 791.888 1241.11 794.44 Q1243.54 796.992 1243.54 802.177 Z\" fill=\"#000000\" fill-rule=\"nonzero\" fill-opacity=\"1\" /><path clip-path=\"url(#clip520)\" d=\"M1254.9 785.994 L1254.9 792.435 L1262.58 792.435 L1262.58 795.331 L1254.9 795.331 L1254.9 807.646 Q1254.9 810.421 1255.65 811.211 Q1256.42 812.001 1258.75 812.001 L1262.58 812.001 L1262.58 815.12 L1258.75 815.12 Q1254.43 815.12 1252.79 813.52 Q1251.15 811.9 1251.15 807.646 L1251.15 795.331 L1248.42 795.331 L1248.42 792.435 L1251.15 792.435 L1251.15 785.994 L1254.9 785.994 Z\" fill=\"#000000\" fill-rule=\"nonzero\" fill-opacity=\"1\" /><path clip-path=\"url(#clip520)\" d=\"M1285.14 796.79 Q1286.54 794.278 1288.48 793.083 Q1290.43 791.888 1293.06 791.888 Q1296.6 791.888 1298.53 794.379 Q1300.45 796.85 1300.45 801.428 L1300.45 815.12 L1296.71 815.12 L1296.71 801.549 Q1296.71 798.288 1295.55 796.709 Q1294.4 795.129 1292.03 795.129 Q1289.13 795.129 1287.45 797.053 Q1285.77 798.977 1285.77 802.299 L1285.77 815.12 L1282.02 815.12 L1282.02 801.549 Q1282.02 798.268 1280.87 796.709 Q1279.71 795.129 1277.3 795.129 Q1274.45 795.129 1272.76 797.073 Q1271.08 798.997 1271.08 802.299 L1271.08 815.12 L1267.34 815.12 L1267.34 792.435 L1271.08 792.435 L1271.08 795.959 Q1272.36 793.873 1274.14 792.881 Q1275.92 791.888 1278.37 791.888 Q1280.85 791.888 1282.57 793.144 Q1284.31 794.4 1285.14 796.79 Z\" fill=\"#000000\" fill-rule=\"nonzero\" fill-opacity=\"1\" /><path clip-path=\"url(#clip520)\" d=\"M1327.29 802.846 L1327.29 804.669 L1310.15 804.669 Q1310.4 808.517 1312.46 810.542 Q1314.55 812.548 1318.26 812.548 Q1320.4 812.548 1322.41 812.021 Q1324.43 811.494 1326.42 810.441 L1326.42 813.965 Q1324.41 814.816 1322.31 815.262 Q1320.2 815.707 1318.03 815.707 Q1312.61 815.707 1309.43 812.548 Q1306.27 809.388 1306.27 804 Q1306.27 798.43 1309.26 795.169 Q1312.28 791.888 1317.39 791.888 Q1321.96 791.888 1324.62 794.845 Q1327.29 797.782 1327.29 802.846 M1323.56 801.752 Q1323.52 798.694 1321.84 796.871 Q1320.18 795.048 1317.43 795.048 Q1314.31 795.048 1312.42 796.81 Q1310.56 798.572 1310.28 801.772 L1323.56 801.752 Z\" fill=\"#000000\" fill-rule=\"nonzero\" fill-opacity=\"1\" /><path clip-path=\"url(#clip520)\" d=\"M1352.26 801.428 L1352.26 815.12 L1348.54 815.12 L1348.54 801.549 Q1348.54 798.329 1347.28 796.729 Q1346.02 795.129 1343.51 795.129 Q1340.5 795.129 1338.75 797.053 Q1337.01 798.977 1337.01 802.299 L1337.01 815.12 L1333.26 815.12 L1333.26 792.435 L1337.01 792.435 L1337.01 795.959 Q1338.35 793.914 1340.15 792.901 Q1341.97 791.888 1344.34 791.888 Q1348.25 791.888 1350.26 794.319 Q1352.26 796.729 1352.26 801.428 Z\" fill=\"#000000\" fill-rule=\"nonzero\" fill-opacity=\"1\" /><path clip-path=\"url(#clip520)\" d=\"M1363.38 785.994 L1363.38 792.435 L1371.06 792.435 L1371.06 795.331 L1363.38 795.331 L1363.38 807.646 Q1363.38 810.421 1364.13 811.211 Q1364.9 812.001 1367.23 812.001 L1371.06 812.001 L1371.06 815.12 L1367.23 815.12 Q1362.92 815.12 1361.28 813.52 Q1359.64 811.9 1359.64 807.646 L1359.64 795.331 L1356.9 795.331 L1356.9 792.435 L1359.64 792.435 L1359.64 785.994 L1363.38 785.994 Z\" fill=\"#000000\" fill-rule=\"nonzero\" fill-opacity=\"1\" /><path clip-path=\"url(#clip520)\" d=\"M1734.97 1325.93 L1734.97 1337.29 L1740.11 1337.29 Q1742.97 1337.29 1744.53 1335.81 Q1746.09 1334.33 1746.09 1331.6 Q1746.09 1328.88 1744.53 1327.4 Q1742.97 1325.93 1740.11 1325.93 L1734.97 1325.93 M1730.88 1322.56 L1740.11 1322.56 Q1745.2 1322.56 1747.79 1324.87 Q1750.4 1327.16 1750.4 1331.6 Q1750.4 1336.07 1747.79 1338.36 Q1745.2 1340.65 1740.11 1340.65 L1734.97 1340.65 L1734.97 1352.8 L1730.88 1352.8 L1730.88 1322.56 Z\" fill=\"#000000\" fill-rule=\"nonzero\" fill-opacity=\"1\" /><path clip-path=\"url(#clip520)\" d=\"M1768.15 1333.6 Q1767.52 1333.24 1766.77 1333.07 Q1766.04 1332.89 1765.15 1332.89 Q1761.99 1332.89 1760.29 1334.96 Q1758.61 1337 1758.61 1340.85 L1758.61 1352.8 L1754.86 1352.8 L1754.86 1330.12 L1758.61 1330.12 L1758.61 1333.64 Q1759.78 1331.58 1761.67 1330.58 Q1763.55 1329.57 1766.24 1329.57 Q1766.63 1329.57 1767.09 1329.63 Q1767.56 1329.67 1768.13 1329.77 L1768.15 1333.6 Z\" fill=\"#000000\" fill-rule=\"nonzero\" fill-opacity=\"1\" /><path clip-path=\"url(#clip520)\" d=\"M1772.06 1330.12 L1775.78 1330.12 L1775.78 1352.8 L1772.06 1352.8 L1772.06 1330.12 M1772.06 1321.29 L1775.78 1321.29 L1775.78 1326.01 L1772.06 1326.01 L1772.06 1321.29 Z\" fill=\"#000000\" fill-rule=\"nonzero\" fill-opacity=\"1\" /><path clip-path=\"url(#clip520)\" d=\"M1798.04 1330.79 L1798.04 1334.31 Q1796.46 1333.5 1794.76 1333.1 Q1793.06 1332.69 1791.24 1332.69 Q1788.46 1332.69 1787.06 1333.54 Q1785.69 1334.39 1785.69 1336.09 Q1785.69 1337.39 1786.68 1338.14 Q1787.67 1338.87 1790.67 1339.54 L1791.95 1339.82 Q1795.92 1340.67 1797.58 1342.23 Q1799.26 1343.77 1799.26 1346.54 Q1799.26 1349.7 1796.75 1351.55 Q1794.26 1353.39 1789.88 1353.39 Q1788.06 1353.39 1786.07 1353.03 Q1784.11 1352.68 1781.92 1351.97 L1781.92 1348.12 Q1783.99 1349.2 1785.99 1349.74 Q1788 1350.27 1789.96 1350.27 Q1792.59 1350.27 1794.01 1349.38 Q1795.43 1348.47 1795.43 1346.83 Q1795.43 1345.31 1794.4 1344.5 Q1793.38 1343.69 1789.92 1342.94 L1788.62 1342.64 Q1785.16 1341.91 1783.62 1340.41 Q1782.08 1338.89 1782.08 1336.25 Q1782.08 1333.05 1784.35 1331.31 Q1786.62 1329.57 1790.79 1329.57 Q1792.86 1329.57 1794.68 1329.87 Q1796.5 1330.18 1798.04 1330.79 Z\" fill=\"#000000\" fill-rule=\"nonzero\" fill-opacity=\"1\" /><path clip-path=\"url(#clip520)\" d=\"M1808.88 1323.68 L1808.88 1330.12 L1816.56 1330.12 L1816.56 1333.01 L1808.88 1333.01 L1808.88 1345.33 Q1808.88 1348.1 1809.63 1348.89 Q1810.4 1349.68 1812.73 1349.68 L1816.56 1349.68 L1816.56 1352.8 L1812.73 1352.8 Q1808.41 1352.8 1806.77 1351.2 Q1805.13 1349.58 1805.13 1345.33 L1805.13 1333.01 L1802.4 1333.01 L1802.4 1330.12 L1805.13 1330.12 L1805.13 1323.68 L1808.88 1323.68 Z\" fill=\"#000000\" fill-rule=\"nonzero\" fill-opacity=\"1\" /><path clip-path=\"url(#clip520)\" d=\"M1821.46 1330.12 L1825.18 1330.12 L1825.18 1352.8 L1821.46 1352.8 L1821.46 1330.12 M1821.46 1321.29 L1825.18 1321.29 L1825.18 1326.01 L1821.46 1326.01 L1821.46 1321.29 Z\" fill=\"#000000\" fill-rule=\"nonzero\" fill-opacity=\"1\" /><path clip-path=\"url(#clip520)\" d=\"M1851.84 1339.11 L1851.84 1352.8 L1848.11 1352.8 L1848.11 1339.23 Q1848.11 1336.01 1846.86 1334.41 Q1845.6 1332.81 1843.09 1332.81 Q1840.07 1332.81 1838.33 1334.74 Q1836.59 1336.66 1836.59 1339.98 L1836.59 1352.8 L1832.84 1352.8 L1832.84 1330.12 L1836.59 1330.12 L1836.59 1333.64 Q1837.92 1331.6 1839.73 1330.58 Q1841.55 1329.57 1843.92 1329.57 Q1847.83 1329.57 1849.83 1332 Q1851.84 1334.41 1851.84 1339.11 Z\" fill=\"#000000\" fill-rule=\"nonzero\" fill-opacity=\"1\" /><path clip-path=\"url(#clip520)\" d=\"M1878.68 1340.53 L1878.68 1342.35 L1861.54 1342.35 Q1861.78 1346.2 1863.85 1348.23 Q1865.94 1350.23 1869.64 1350.23 Q1871.79 1350.23 1873.79 1349.7 Q1875.82 1349.18 1877.81 1348.12 L1877.81 1351.65 Q1875.8 1352.5 1873.69 1352.94 Q1871.59 1353.39 1869.42 1353.39 Q1863.99 1353.39 1860.81 1350.23 Q1857.65 1347.07 1857.65 1341.68 Q1857.65 1336.11 1860.65 1332.85 Q1863.67 1329.57 1868.77 1329.57 Q1873.35 1329.57 1876 1332.53 Q1878.68 1335.46 1878.68 1340.53 M1874.95 1339.43 Q1874.91 1336.38 1873.23 1334.55 Q1871.57 1332.73 1868.81 1332.73 Q1865.69 1332.73 1863.81 1334.49 Q1861.95 1336.25 1861.66 1339.46 L1874.95 1339.43 Z\" fill=\"#000000\" fill-rule=\"nonzero\" fill-opacity=\"1\" /><path clip-path=\"url(#clip520)\" d=\"M1902.23 1338.36 L1902.23 1349.44 L1908.79 1349.44 Q1912.1 1349.44 1913.68 1348.08 Q1915.28 1346.71 1915.28 1343.89 Q1915.28 1341.06 1913.68 1339.72 Q1912.1 1338.36 1908.79 1338.36 L1902.23 1338.36 M1902.23 1325.93 L1902.23 1335.04 L1908.29 1335.04 Q1911.29 1335.04 1912.74 1333.93 Q1914.22 1332.79 1914.22 1330.48 Q1914.22 1328.19 1912.74 1327.06 Q1911.29 1325.93 1908.29 1325.93 L1902.23 1325.93 M1898.14 1322.56 L1908.59 1322.56 Q1913.27 1322.56 1915.8 1324.51 Q1918.33 1326.45 1918.33 1330.04 Q1918.33 1332.81 1917.04 1334.45 Q1915.74 1336.09 1913.23 1336.5 Q1916.25 1337.15 1917.91 1339.21 Q1919.59 1341.26 1919.59 1344.34 Q1919.59 1348.39 1916.84 1350.6 Q1914.08 1352.8 1909 1352.8 L1898.14 1352.8 L1898.14 1322.56 Z\" fill=\"#000000\" fill-rule=\"nonzero\" fill-opacity=\"1\" /><path clip-path=\"url(#clip520)\" d=\"M1939.58 1333.6 Q1938.95 1333.24 1938.2 1333.07 Q1937.47 1332.89 1936.58 1332.89 Q1933.42 1332.89 1931.72 1334.96 Q1930.04 1337 1930.04 1340.85 L1930.04 1352.8 L1926.29 1352.8 L1926.29 1330.12 L1930.04 1330.12 L1930.04 1333.64 Q1931.22 1331.58 1933.1 1330.58 Q1934.98 1329.57 1937.68 1329.57 Q1938.06 1329.57 1938.53 1329.63 Q1938.99 1329.67 1939.56 1329.77 L1939.58 1333.6 Z\" fill=\"#000000\" fill-rule=\"nonzero\" fill-opacity=\"1\" /><path clip-path=\"url(#clip520)\" d=\"M1951.37 1332.73 Q1948.37 1332.73 1946.63 1335.08 Q1944.89 1337.41 1944.89 1341.48 Q1944.89 1345.55 1946.61 1347.9 Q1948.35 1350.23 1951.37 1350.23 Q1954.35 1350.23 1956.09 1347.88 Q1957.83 1345.53 1957.83 1341.48 Q1957.83 1337.45 1956.09 1335.1 Q1954.35 1332.73 1951.37 1332.73 M1951.37 1329.57 Q1956.23 1329.57 1959.01 1332.73 Q1961.78 1335.89 1961.78 1341.48 Q1961.78 1347.05 1959.01 1350.23 Q1956.23 1353.39 1951.37 1353.39 Q1946.49 1353.39 1943.71 1350.23 Q1940.96 1347.05 1940.96 1341.48 Q1940.96 1335.89 1943.71 1332.73 Q1946.49 1329.57 1951.37 1329.57 Z\" fill=\"#000000\" fill-rule=\"nonzero\" fill-opacity=\"1\" /><path clip-path=\"url(#clip520)\" d=\"M1976.75 1332.73 Q1973.75 1332.73 1972.01 1335.08 Q1970.27 1337.41 1970.27 1341.48 Q1970.27 1345.55 1971.99 1347.9 Q1973.73 1350.23 1976.75 1350.23 Q1979.73 1350.23 1981.47 1347.88 Q1983.21 1345.53 1983.21 1341.48 Q1983.21 1337.45 1981.47 1335.1 Q1979.73 1332.73 1976.75 1332.73 M1976.75 1329.57 Q1981.61 1329.57 1984.38 1332.73 Q1987.16 1335.89 1987.16 1341.48 Q1987.16 1347.05 1984.38 1350.23 Q1981.61 1353.39 1976.75 1353.39 Q1971.87 1353.39 1969.09 1350.23 Q1966.34 1347.05 1966.34 1341.48 Q1966.34 1335.89 1969.09 1332.73 Q1971.87 1329.57 1976.75 1329.57 Z\" fill=\"#000000\" fill-rule=\"nonzero\" fill-opacity=\"1\" /><path clip-path=\"url(#clip520)\" d=\"M1993.2 1321.29 L1996.94 1321.29 L1996.94 1339.9 L2008.06 1330.12 L2012.82 1330.12 L2000.79 1340.73 L2013.33 1352.8 L2008.47 1352.8 L1996.94 1341.72 L1996.94 1352.8 L1993.2 1352.8 L1993.2 1321.29 Z\" fill=\"#000000\" fill-rule=\"nonzero\" fill-opacity=\"1\" /></svg>\n"
            ],
            "text/html": [
              "<?xml version=\"1.0\" encoding=\"utf-8\"?>\n",
              "<svg xmlns=\"http://www.w3.org/2000/svg\" xmlns:xlink=\"http://www.w3.org/1999/xlink\" width=\"600\" height=\"400\" viewBox=\"0 0 2400 1600\">\n",
              "<defs>\n",
              "  <clipPath id=\"clip550\">\n",
              "    <rect x=\"0\" y=\"0\" width=\"2400\" height=\"1600\"/>\n",
              "  </clipPath>\n",
              "</defs>\n",
              "<path clip-path=\"url(#clip550)\" d=\"M0 1600 L2400 1600 L2400 8.88178e-14 L0 8.88178e-14  Z\" fill=\"#ffffff\" fill-rule=\"evenodd\" fill-opacity=\"1\"/>\n",
              "<defs>\n",
              "  <clipPath id=\"clip551\">\n",
              "    <rect x=\"480\" y=\"0\" width=\"1681\" height=\"1600\"/>\n",
              "  </clipPath>\n",
              "</defs>\n",
              "<path clip-path=\"url(#clip550)\" d=\"M259.055 1552.76 L2140.94 1552.76 L2140.94 47.2441 L259.055 47.2441  Z\" fill=\"#ffffff\" fill-rule=\"evenodd\" fill-opacity=\"1\"/>\n",
              "<defs>\n",
              "  <clipPath id=\"clip552\">\n",
              "    <rect x=\"259\" y=\"47\" width=\"1883\" height=\"1507\"/>\n",
              "  </clipPath>\n",
              "</defs>\n",
              "<polyline clip-path=\"url(#clip552)\" style=\"stroke:#000000; stroke-linecap:round; stroke-linejoin:round; stroke-width:4; stroke-opacity:1; fill:none\" points=\"1334.42,262.317 1318.22,275.046 1302.02,287.766 1285.83,300.469 1269.64,313.146 1253.48,325.79 1237.33,338.392 1221.2,350.944 1205.09,363.436 1189.02,375.861 1172.97,388.21 1156.96,400.474 1140.99,412.646 1125.07,424.716 1109.18,436.677 1093.35,448.52 1077.57,460.237 1061.85,471.818 1046.18,483.256 1030.58,494.543 1015.05,505.669 999.586,516.626 984.197,527.407 968.885,538.002 953.655,548.402 938.509,558.601 923.447,568.598 908.467,578.401 893.564,588.018 878.735,597.459 863.976,606.73 849.284,615.842 834.656,624.801 820.088,633.617 805.576,642.299 791.117,650.853 776.707,659.29 762.343,667.617 748.021,675.843 733.738,683.976 719.49,692.025 705.274,699.998 691.087,707.903 676.923,715.75 662.781,723.546 648.657,731.299 634.547,739.019 620.447,746.714 606.354,754.392 592.265,762.061 \"/>\n",
              "<polyline clip-path=\"url(#clip552)\" style=\"stroke:#000000; stroke-linecap:round; stroke-linejoin:round; stroke-width:4; stroke-opacity:1; fill:none\" points=\"632.49,760.659 592.265,762.061 615.278,729.04 \"/>\n",
              "<polyline clip-path=\"url(#clip552)\" style=\"stroke:#000000; stroke-linecap:round; stroke-linejoin:round; stroke-width:4; stroke-opacity:1; fill:none\" points=\"592.265,762.061 606.354,754.392 \"/>\n",
              "<polyline clip-path=\"url(#clip552)\" style=\"stroke:#000000; stroke-linecap:round; stroke-linejoin:round; stroke-width:4; stroke-opacity:1; fill:none\" points=\"1334.42,262.317 1333.14,274.076 1331.85,285.829 1330.55,297.572 1329.24,309.3 1327.92,321.006 1326.57,332.687 1325.21,344.336 1323.81,355.949 1322.38,367.521 1320.92,379.045 1319.42,390.518 1317.88,401.933 1316.28,413.286 1314.64,424.572 1312.94,435.784 1311.18,446.919 1309.36,457.97 1307.47,468.933 1305.51,479.803 1303.48,490.573 1301.37,501.24 1299.17,511.797 1296.89,522.24 1294.51,532.564 1292.05,542.763 1289.48,552.837 1286.83,562.792 1284.09,572.632 1281.27,582.363 1278.37,591.99 1275.39,601.518 1272.34,610.953 1269.23,620.299 1266.05,629.562 1262.81,638.747 1259.52,647.86 1256.18,656.904 1252.79,665.887 1249.35,674.812 1245.88,683.685 1242.37,692.511 1238.83,701.296 1235.26,710.044 1231.67,718.762 1228.06,727.453 1224.43,736.123 1220.79,744.778 1217.14,753.422 1213.49,762.061 \"/>\n",
              "<polyline clip-path=\"url(#clip552)\" style=\"stroke:#000000; stroke-linecap:round; stroke-linejoin:round; stroke-width:4; stroke-opacity:1; fill:none\" points=\"1244.09,735.908 1213.49,762.061 1210.93,721.894 \"/>\n",
              "<polyline clip-path=\"url(#clip552)\" style=\"stroke:#000000; stroke-linecap:round; stroke-linejoin:round; stroke-width:4; stroke-opacity:1; fill:none\" points=\"1213.49,762.061 1217.14,753.422 \"/>\n",
              "<polyline clip-path=\"url(#clip552)\" style=\"stroke:#000000; stroke-linecap:round; stroke-linejoin:round; stroke-width:4; stroke-opacity:1; fill:none\" points=\"1334.42,262.317 1344.89,286.727 1355.34,311.117 1365.79,335.467 1376.23,359.758 1386.65,383.97 1397.04,408.083 1407.41,432.078 1417.74,455.935 1428.03,479.633 1438.28,503.154 1448.49,526.477 1458.64,549.583 1468.73,572.452 1478.77,595.064 1488.74,617.4 1498.63,639.44 1508.45,661.163 1518.19,682.551 1527.85,703.583 1537.41,724.24 1546.88,744.502 1556.25,764.349 1565.52,783.762 1574.68,802.72 1583.72,821.205 1592.66,839.218 1601.48,856.775 1610.2,873.899 1618.82,890.607 1627.34,906.921 1635.77,922.859 1644.12,938.442 1652.39,953.689 1660.58,968.62 1668.71,983.254 1676.76,997.613 1684.76,1011.71 1692.69,1025.58 1700.58,1039.23 1708.42,1052.68 1716.21,1065.95 1723.97,1079.06 1731.7,1092.04 1739.39,1104.89 1747.06,1117.65 1754.72,1130.33 1762.36,1142.95 1769.99,1155.53 1777.61,1168.09 \"/>\n",
              "<polyline clip-path=\"url(#clip552)\" style=\"stroke:#000000; stroke-linecap:round; stroke-linejoin:round; stroke-width:4; stroke-opacity:1; fill:none\" points=\"1774.32,1127.98 1777.61,1168.09 1743.54,1146.66 \"/>\n",
              "<polyline clip-path=\"url(#clip552)\" style=\"stroke:#000000; stroke-linecap:round; stroke-linejoin:round; stroke-width:4; stroke-opacity:1; fill:none\" points=\"1777.61,1168.09 1769.99,1155.53 \"/>\n",
              "<polyline clip-path=\"url(#clip552)\" style=\"stroke:#000000; stroke-linecap:round; stroke-linejoin:round; stroke-width:4; stroke-opacity:1; fill:none\" points=\"527.897,800 556.372,813.092 584.833,826.172 613.265,839.231 641.653,852.257 669.983,865.238 698.241,878.165 726.411,891.025 754.48,903.809 782.433,916.504 810.255,929.1 837.931,941.587 865.449,953.951 892.791,966.184 919.946,978.274 946.896,990.209 973.629,1001.98 1000.13,1013.57 1026.38,1024.98 1052.38,1036.19 1078.09,1047.19 1103.52,1057.97 1128.64,1068.52 1153.44,1078.82 1177.91,1088.87 1202.03,1098.66 1225.8,1108.19 1249.24,1117.46 1272.36,1126.49 1295.18,1135.29 1317.7,1143.87 1339.95,1152.23 1361.93,1160.4 1383.67,1168.39 1405.18,1176.19 1426.47,1183.84 1447.56,1191.32 1468.45,1198.67 1489.18,1205.88 1509.74,1212.97 1530.16,1219.95 1550.45,1226.84 1570.62,1233.63 1590.69,1240.35 1610.67,1247 1630.58,1253.59 1650.43,1260.15 1670.24,1266.66 1690.02,1273.16 1709.79,1279.65 \"/>\n",
              "<polyline clip-path=\"url(#clip552)\" style=\"stroke:#000000; stroke-linecap:round; stroke-linejoin:round; stroke-width:4; stroke-opacity:1; fill:none\" points=\"1681.19,1251.32 1709.79,1279.65 1669.97,1285.52 \"/>\n",
              "<polyline clip-path=\"url(#clip552)\" style=\"stroke:#000000; stroke-linecap:round; stroke-linejoin:round; stroke-width:4; stroke-opacity:1; fill:none\" points=\"1709.79,1279.65 1690.02,1273.16 \"/>\n",
              "<polyline clip-path=\"url(#clip552)\" style=\"stroke:#000000; stroke-linecap:round; stroke-linejoin:round; stroke-width:4; stroke-opacity:1; fill:none\" points=\"1200,800 1214.11,813.255 1228.21,826.495 1242.28,839.707 1256.32,852.876 1270.32,865.988 1284.27,879.029 1298.15,891.984 1311.96,904.839 1325.68,917.58 1339.3,930.193 1352.82,942.663 1366.21,954.976 1379.48,967.118 1392.61,979.075 1405.58,990.831 1418.39,1002.37 1431.04,1013.69 1443.49,1024.76 1455.76,1035.58 1467.82,1046.12 1479.66,1056.38 1491.28,1066.34 1502.66,1075.99 1513.79,1085.3 1524.66,1094.28 1535.28,1102.91 1545.64,1111.22 1555.77,1119.21 1565.67,1126.9 1575.36,1134.31 1584.84,1141.45 1594.13,1148.33 1603.24,1154.96 1612.17,1161.37 1620.94,1167.57 1629.56,1173.56 1638.04,1179.37 1646.39,1185.01 1654.62,1190.49 1662.74,1195.83 1670.77,1201.04 1678.71,1206.14 1686.57,1211.14 1694.37,1216.05 1702.12,1220.89 1709.82,1225.67 1717.49,1230.41 1725.14,1235.12 1732.78,1239.82 \"/>\n",
              "<polyline clip-path=\"url(#clip552)\" style=\"stroke:#000000; stroke-linecap:round; stroke-linejoin:round; stroke-width:4; stroke-opacity:1; fill:none\" points=\"1711.54,1205.63 1732.78,1239.82 1692.69,1236.29 \"/>\n",
              "<polyline clip-path=\"url(#clip552)\" style=\"stroke:#000000; stroke-linecap:round; stroke-linejoin:round; stroke-width:4; stroke-opacity:1; fill:none\" points=\"1732.78,1239.82 1725.14,1235.12 \"/>\n",
              "<path clip-path=\"url(#clip552)\" d=\"M905.153 571.594 L986.99 571.594 L986.99 535.461 L905.153 535.461 L905.153 571.594 L905.153 571.594  Z\" fill=\"#ffffff\" fill-rule=\"evenodd\" fill-opacity=\"1\"/>\n",
              "<polyline clip-path=\"url(#clip552)\" style=\"stroke:#000000; stroke-linecap:round; stroke-linejoin:round; stroke-width:0; stroke-opacity:0; fill:none\" points=\"905.153,571.594 986.99,571.594 986.99,535.461 905.153,535.461 905.153,571.594 \"/>\n",
              "<path clip-path=\"url(#clip552)\" d=\"M1252.37 555.745 L1334.21 555.745 L1334.21 519.613 L1252.37 519.613 L1252.37 555.745 L1252.37 555.745  Z\" fill=\"#ffffff\" fill-rule=\"evenodd\" fill-opacity=\"1\"/>\n",
              "<polyline clip-path=\"url(#clip552)\" style=\"stroke:#000000; stroke-linecap:round; stroke-linejoin:round; stroke-width:0; stroke-opacity:0; fill:none\" points=\"1252.37,555.745 1334.21,555.745 1334.21,519.613 1252.37,519.613 1252.37,555.745 \"/>\n",
              "<path clip-path=\"url(#clip552)\" d=\"M1538.3 830.089 L1620.13 830.089 L1620.13 793.957 L1538.3 793.957 L1538.3 830.089 L1538.3 830.089  Z\" fill=\"#ffffff\" fill-rule=\"evenodd\" fill-opacity=\"1\"/>\n",
              "<polyline clip-path=\"url(#clip552)\" style=\"stroke:#000000; stroke-linecap:round; stroke-linejoin:round; stroke-width:0; stroke-opacity:0; fill:none\" points=\"1538.3,830.089 1620.13,830.089 1620.13,793.957 1538.3,793.957 1538.3,830.089 \"/>\n",
              "<path clip-path=\"url(#clip552)\" d=\"M1130.42 1111.87 L1249.61 1111.87 L1249.61 1075.74 L1130.42 1075.74 L1130.42 1111.87 L1130.42 1111.87  Z\" fill=\"#ffffff\" fill-rule=\"evenodd\" fill-opacity=\"1\"/>\n",
              "<polyline clip-path=\"url(#clip552)\" style=\"stroke:#000000; stroke-linecap:round; stroke-linejoin:round; stroke-width:0; stroke-opacity:0; fill:none\" points=\"1130.42,1111.87 1249.61,1111.87 1249.61,1075.74 1130.42,1075.74 1130.42,1111.87 \"/>\n",
              "<path clip-path=\"url(#clip552)\" d=\"M1442.37 1107.9 L1596.15 1107.9 L1596.15 1071.77 L1442.37 1071.77 L1442.37 1107.9 L1442.37 1107.9  Z\" fill=\"#ffffff\" fill-rule=\"evenodd\" fill-opacity=\"1\"/>\n",
              "<polyline clip-path=\"url(#clip552)\" style=\"stroke:#000000; stroke-linecap:round; stroke-linejoin:round; stroke-width:0; stroke-opacity:0; fill:none\" points=\"1442.37,1107.9 1596.15,1107.9 1596.15,1071.77 1442.37,1071.77 1442.37,1107.9 \"/>\n",
              "<path clip-path=\"url(#clip552)\" d=\"M1420.35 262.317 L1377.39 187.9 L1291.46 187.9 L1248.49 262.317 L1291.46 336.734 L1377.39 336.734 L1420.35 262.317 L1420.35 262.317  Z\" fill=\"#ffffff\" fill-rule=\"evenodd\" fill-opacity=\"1\"/>\n",
              "<polyline clip-path=\"url(#clip552)\" style=\"stroke:#000000; stroke-linecap:round; stroke-linejoin:round; stroke-width:4; stroke-opacity:1; fill:none\" points=\"1420.35,262.317 1377.39,187.9 1291.46,187.9 1248.49,262.317 1291.46,336.734 1377.39,336.734 1420.35,262.317 \"/>\n",
              "<path clip-path=\"url(#clip552)\" d=\"M332.072 837.939 L723.721 837.939 L723.721 762.061 L332.072 762.061 L332.072 837.939 L332.072 837.939  Z\" fill=\"#ffffff\" fill-rule=\"evenodd\" fill-opacity=\"1\"/>\n",
              "<polyline clip-path=\"url(#clip552)\" style=\"stroke:#000000; stroke-linecap:round; stroke-linejoin:round; stroke-width:4; stroke-opacity:1; fill:none\" points=\"332.072,837.939 723.721,837.939 723.721,762.061 332.072,762.061 332.072,837.939 \"/>\n",
              "<path clip-path=\"url(#clip552)\" d=\"M1004.18 837.939 L1395.82 837.939 L1395.82 762.061 L1004.18 762.061 L1004.18 837.939 L1004.18 837.939  Z\" fill=\"#ffffff\" fill-rule=\"evenodd\" fill-opacity=\"1\"/>\n",
              "<polyline clip-path=\"url(#clip552)\" style=\"stroke:#000000; stroke-linecap:round; stroke-linejoin:round; stroke-width:4; stroke-opacity:1; fill:none\" points=\"1004.18,837.939 1395.82,837.939 1395.82,762.061 1004.18,762.061 1004.18,837.939 \"/>\n",
              "<path clip-path=\"url(#clip552)\" d=\"M2067.93 1337.68 L1970.02 1168.09 L1774.19 1168.09 L1676.28 1337.68 L1774.19 1507.27 L1970.02 1507.27 L2067.93 1337.68 L2067.93 1337.68  Z\" fill=\"#ffffff\" fill-rule=\"evenodd\" fill-opacity=\"1\"/>\n",
              "<polyline clip-path=\"url(#clip552)\" style=\"stroke:#000000; stroke-linecap:round; stroke-linejoin:round; stroke-width:4; stroke-opacity:1; fill:none\" points=\"2067.93,1337.68 1970.02,1168.09 1774.19,1168.09 1676.28,1337.68 1774.19,1507.27 1970.02,1507.27 2067.93,1337.68 \"/>\n",
              "<circle clip-path=\"url(#clip552)\" style=\"fill:#ffffff; stroke:none; fill-opacity:0\" cx=\"1334.42\" cy=\"262.317\" r=\"2\"/>\n",
              "<circle clip-path=\"url(#clip552)\" style=\"fill:#ffffff; stroke:none; fill-opacity:0\" cx=\"527.897\" cy=\"800\" r=\"2\"/>\n",
              "<circle clip-path=\"url(#clip552)\" style=\"fill:#ffffff; stroke:none; fill-opacity:0\" cx=\"1200\" cy=\"800\" r=\"2\"/>\n",
              "<circle clip-path=\"url(#clip552)\" style=\"fill:#ffffff; stroke:none; fill-opacity:0\" cx=\"1872.1\" cy=\"1337.68\" r=\"2\"/>\n",
              "<path clip-path=\"url(#clip550)\" d=\"M947.35 540.878 Q947.35 542.025 946.633 542.681 Q945.916 543.316 945.096 543.316 Q944.317 543.316 943.907 542.866 Q943.497 542.415 943.497 541.841 Q943.497 541.062 944.071 540.386 Q944.645 539.709 945.506 539.566 Q944.666 539.033 943.415 539.033 Q942.596 539.033 941.878 539.463 Q941.182 539.894 940.751 540.447 Q940.341 541.001 939.972 541.8 Q939.624 542.579 939.481 543.05 Q939.358 543.501 939.255 543.993 L937.82 549.731 Q937.124 552.457 937.124 553.42 Q937.124 554.609 937.697 555.408 Q938.271 556.187 939.419 556.187 Q939.87 556.187 940.382 556.064 Q940.895 555.921 941.55 555.552 Q942.227 555.162 942.821 554.589 Q943.436 553.994 944.03 552.99 Q944.625 551.986 945.014 550.695 Q945.137 550.244 945.547 550.244 Q946.059 550.244 946.059 550.654 Q946.059 551.002 945.772 551.74 Q945.506 552.457 944.912 553.4 Q944.338 554.322 943.579 555.162 Q942.821 555.982 941.694 556.556 Q940.567 557.13 939.337 557.13 Q937.575 557.13 936.406 556.187 Q935.238 555.244 934.808 553.933 Q934.705 554.117 934.562 554.363 Q934.418 554.609 933.988 555.162 Q933.578 555.695 933.107 556.105 Q932.635 556.495 931.898 556.802 Q931.18 557.13 930.401 557.13 Q929.418 557.13 928.536 556.843 Q927.676 556.556 927.061 555.9 Q926.446 555.244 926.446 554.343 Q926.446 553.338 927.122 552.642 Q927.819 551.924 928.762 551.924 Q929.356 551.924 929.828 552.273 Q930.319 552.621 930.319 553.379 Q930.319 554.22 929.746 554.855 Q929.172 555.49 928.352 555.654 Q929.192 556.187 930.442 556.187 Q931.795 556.187 932.861 554.998 Q933.926 553.81 934.439 551.822 Q935.71 547.047 936.201 544.915 Q936.693 542.763 936.693 541.841 Q936.693 540.98 936.468 540.386 Q936.242 539.791 935.853 539.525 Q935.484 539.238 935.136 539.136 Q934.808 539.033 934.439 539.033 Q933.824 539.033 933.127 539.279 Q932.451 539.525 931.631 540.099 Q930.832 540.652 930.073 541.8 Q929.315 542.948 928.803 544.526 Q928.7 544.997 928.249 544.997 Q927.758 544.977 927.758 544.567 Q927.758 544.218 928.024 543.501 Q928.311 542.763 928.885 541.841 Q929.479 540.919 930.237 540.099 Q931.016 539.259 932.143 538.685 Q933.291 538.111 934.521 538.111 Q935.074 538.111 935.607 538.234 Q936.16 538.336 936.816 538.644 Q937.493 538.951 938.087 539.627 Q938.681 540.304 939.05 541.288 Q939.296 540.816 939.624 540.365 Q939.972 539.914 940.505 539.361 Q941.059 538.787 941.817 538.459 Q942.596 538.111 943.456 538.111 Q944.297 538.111 945.117 538.336 Q945.936 538.541 946.633 539.218 Q947.35 539.873 947.35 540.878 Z\" fill=\"#000000\" fill-rule=\"nonzero\" fill-opacity=\"1\" /><path clip-path=\"url(#clip550)\" d=\"M951.613 551.985 L951.613 551.067 Q955.143 551.067 956.965 549.188 Q957.467 549.188 957.553 549.302 Q957.639 549.417 957.639 549.948 L957.639 566.432 Q957.639 567.307 958.069 567.58 Q958.5 567.852 960.379 567.852 L961.311 567.852 L961.311 568.756 Q960.279 568.67 956.549 568.67 Q952.819 568.67 951.8 568.756 L951.8 567.852 L952.732 567.852 Q954.583 567.852 955.028 567.594 Q955.473 567.321 955.473 566.432 L955.473 551.211 Q953.938 551.985 951.613 551.985 Z\" fill=\"#000000\" fill-rule=\"nonzero\" fill-opacity=\"1\" /><path clip-path=\"url(#clip550)\" d=\"M1293.56 525.029 Q1293.56 526.177 1292.85 526.833 Q1292.13 527.468 1291.31 527.468 Q1290.53 527.468 1290.12 527.017 Q1289.71 526.566 1289.71 525.992 Q1289.71 525.213 1290.29 524.537 Q1290.86 523.861 1291.72 523.717 Q1290.88 523.185 1289.63 523.185 Q1288.81 523.185 1288.09 523.615 Q1287.4 524.045 1286.97 524.599 Q1286.56 525.152 1286.19 525.951 Q1285.84 526.73 1285.69 527.201 Q1285.57 527.652 1285.47 528.144 L1284.03 533.883 Q1283.34 536.609 1283.34 537.572 Q1283.34 538.76 1283.91 539.56 Q1284.49 540.339 1285.63 540.339 Q1286.08 540.339 1286.6 540.216 Q1287.11 540.072 1287.76 539.703 Q1288.44 539.314 1289.04 538.74 Q1289.65 538.146 1290.24 537.141 Q1290.84 536.137 1291.23 534.846 Q1291.35 534.395 1291.76 534.395 Q1292.27 534.395 1292.27 534.805 Q1292.27 535.153 1291.99 535.891 Q1291.72 536.609 1291.13 537.551 Q1290.55 538.474 1289.79 539.314 Q1289.04 540.134 1287.91 540.707 Q1286.78 541.281 1285.55 541.281 Q1283.79 541.281 1282.62 540.339 Q1281.45 539.396 1281.02 538.084 Q1280.92 538.269 1280.78 538.515 Q1280.63 538.76 1280.2 539.314 Q1279.79 539.847 1279.32 540.257 Q1278.85 540.646 1278.11 540.953 Q1277.39 541.281 1276.62 541.281 Q1275.63 541.281 1274.75 540.994 Q1273.89 540.707 1273.28 540.052 Q1272.66 539.396 1272.66 538.494 Q1272.66 537.49 1273.34 536.793 Q1274.03 536.076 1274.98 536.076 Q1275.57 536.076 1276.04 536.424 Q1276.53 536.772 1276.53 537.531 Q1276.53 538.371 1275.96 539.006 Q1275.39 539.642 1274.57 539.806 Q1275.41 540.339 1276.66 540.339 Q1278.01 540.339 1279.08 539.15 Q1280.14 537.961 1280.65 535.973 Q1281.92 531.198 1282.42 529.066 Q1282.91 526.915 1282.91 525.992 Q1282.91 525.132 1282.68 524.537 Q1282.46 523.943 1282.07 523.676 Q1281.7 523.389 1281.35 523.287 Q1281.02 523.185 1280.65 523.185 Q1280.04 523.185 1279.34 523.43 Q1278.67 523.676 1277.85 524.25 Q1277.05 524.804 1276.29 525.951 Q1275.53 527.099 1275.02 528.677 Q1274.91 529.148 1274.46 529.148 Q1273.97 529.128 1273.97 528.718 Q1273.97 528.37 1274.24 527.652 Q1274.53 526.915 1275.1 525.992 Q1275.69 525.07 1276.45 524.25 Q1277.23 523.41 1278.36 522.836 Q1279.51 522.262 1280.74 522.262 Q1281.29 522.262 1281.82 522.385 Q1282.37 522.488 1283.03 522.795 Q1283.71 523.103 1284.3 523.779 Q1284.9 524.455 1285.26 525.439 Q1285.51 524.968 1285.84 524.517 Q1286.19 524.066 1286.72 523.512 Q1287.27 522.939 1288.03 522.611 Q1288.81 522.262 1289.67 522.262 Q1290.51 522.262 1291.33 522.488 Q1292.15 522.693 1292.85 523.369 Q1293.56 524.025 1293.56 525.029 Z\" fill=\"#000000\" fill-rule=\"nonzero\" fill-opacity=\"1\" /><path clip-path=\"url(#clip550)\" d=\"M1297.83 552.907 Q1297.83 552.377 1297.87 552.219 Q1297.93 552.061 1298.16 551.817 L1303.8 545.533 Q1306.88 542.062 1306.88 539.035 Q1306.88 537.069 1305.85 535.663 Q1304.83 534.257 1302.95 534.257 Q1301.66 534.257 1300.57 535.046 Q1299.48 535.835 1298.98 537.241 Q1299.06 537.213 1299.36 537.213 Q1300.09 537.213 1300.5 537.672 Q1300.91 538.131 1300.91 538.748 Q1300.91 539.537 1300.4 539.924 Q1299.89 540.297 1299.39 540.297 Q1299.19 540.297 1298.92 540.254 Q1298.66 540.211 1298.24 539.809 Q1297.83 539.393 1297.83 538.662 Q1297.83 536.61 1299.38 534.975 Q1300.94 533.339 1303.32 533.339 Q1306.02 533.339 1307.78 534.946 Q1309.56 536.538 1309.56 539.035 Q1309.56 539.91 1309.29 540.713 Q1309.03 541.502 1308.67 542.119 Q1308.33 542.736 1307.38 543.726 Q1306.44 544.716 1305.68 545.419 Q1304.91 546.122 1303.21 547.614 L1300.09 550.641 L1305.39 550.641 Q1307.97 550.641 1308.17 550.411 Q1308.46 549.995 1308.82 547.8 L1309.56 547.8 L1308.73 552.907 L1297.83 552.907 Z\" fill=\"#000000\" fill-rule=\"nonzero\" fill-opacity=\"1\" /><path clip-path=\"url(#clip550)\" d=\"M1579.26 799.056 Q1579.26 800.204 1578.54 800.859 Q1577.82 801.495 1577.01 801.495 Q1576.23 801.495 1575.82 801.044 Q1575.41 800.593 1575.41 800.019 Q1575.41 799.24 1575.98 798.564 Q1576.55 797.888 1577.41 797.744 Q1576.57 797.211 1575.32 797.211 Q1574.5 797.211 1573.79 797.642 Q1573.09 798.072 1572.66 798.625 Q1572.25 799.179 1571.88 799.978 Q1571.53 800.757 1571.39 801.228 Q1571.27 801.679 1571.16 802.171 L1569.73 807.91 Q1569.03 810.635 1569.03 811.599 Q1569.03 812.787 1569.61 813.587 Q1570.18 814.365 1571.33 814.365 Q1571.78 814.365 1572.29 814.242 Q1572.8 814.099 1573.46 813.73 Q1574.14 813.341 1574.73 812.767 Q1575.34 812.172 1575.94 811.168 Q1576.53 810.164 1576.92 808.873 Q1577.05 808.422 1577.46 808.422 Q1577.97 808.422 1577.97 808.832 Q1577.97 809.18 1577.68 809.918 Q1577.41 810.635 1576.82 811.578 Q1576.25 812.5 1575.49 813.341 Q1574.73 814.16 1573.6 814.734 Q1572.48 815.308 1571.25 815.308 Q1569.48 815.308 1568.32 814.365 Q1567.15 813.423 1566.72 812.111 Q1566.61 812.295 1566.47 812.541 Q1566.33 812.787 1565.9 813.341 Q1565.49 813.873 1565.02 814.283 Q1564.54 814.673 1563.81 814.98 Q1563.09 815.308 1562.31 815.308 Q1561.33 815.308 1560.45 815.021 Q1559.58 814.734 1558.97 814.078 Q1558.35 813.423 1558.35 812.521 Q1558.35 811.517 1559.03 810.82 Q1559.73 810.102 1560.67 810.102 Q1561.27 810.102 1561.74 810.451 Q1562.23 810.799 1562.23 811.558 Q1562.23 812.398 1561.65 813.033 Q1561.08 813.669 1560.26 813.832 Q1561.1 814.365 1562.35 814.365 Q1563.7 814.365 1564.77 813.177 Q1565.84 811.988 1566.35 810 Q1567.62 805.225 1568.11 803.093 Q1568.6 800.941 1568.6 800.019 Q1568.6 799.158 1568.38 798.564 Q1568.15 797.97 1567.76 797.703 Q1567.39 797.416 1567.04 797.314 Q1566.72 797.211 1566.35 797.211 Q1565.73 797.211 1565.04 797.457 Q1564.36 797.703 1563.54 798.277 Q1562.74 798.83 1561.98 799.978 Q1561.22 801.126 1560.71 802.704 Q1560.61 803.175 1560.16 803.175 Q1559.67 803.155 1559.67 802.745 Q1559.67 802.396 1559.93 801.679 Q1560.22 800.941 1560.79 800.019 Q1561.39 799.097 1562.15 798.277 Q1562.93 797.437 1564.05 796.863 Q1565.2 796.289 1566.43 796.289 Q1566.98 796.289 1567.52 796.412 Q1568.07 796.514 1568.73 796.822 Q1569.4 797.129 1570 797.806 Q1570.59 798.482 1570.96 799.466 Q1571.21 798.994 1571.53 798.543 Q1571.88 798.093 1572.41 797.539 Q1572.97 796.965 1573.73 796.637 Q1574.5 796.289 1575.37 796.289 Q1576.21 796.289 1577.03 796.514 Q1577.85 796.719 1578.54 797.396 Q1579.26 798.052 1579.26 799.056 Z\" fill=\"#000000\" fill-rule=\"nonzero\" fill-opacity=\"1\" /><path clip-path=\"url(#clip550)\" d=\"M1583.52 822.975 Q1583.52 822.1 1584.02 821.683 Q1584.53 821.267 1585.17 821.267 Q1585.85 821.267 1586.32 821.712 Q1586.81 822.143 1586.81 822.903 Q1586.81 823.721 1586.23 824.18 Q1585.67 824.639 1584.87 824.524 Q1585.57 825.7 1586.87 826.231 Q1588.17 826.762 1589.38 826.762 Q1590.64 826.762 1591.66 825.672 Q1592.69 824.581 1592.69 821.913 Q1592.69 819.646 1591.8 818.341 Q1590.93 817.035 1589.19 817.035 L1587.9 817.035 Q1587.45 817.035 1587.32 816.992 Q1587.2 816.949 1587.2 816.705 Q1587.2 816.418 1587.64 816.361 Q1588.08 816.361 1588.79 816.275 Q1590.49 816.218 1591.4 814.74 Q1592.22 813.363 1592.22 811.397 Q1592.22 809.604 1591.36 808.858 Q1590.51 808.098 1589.4 808.098 Q1588.37 808.098 1587.24 808.528 Q1586.1 808.958 1585.49 809.92 Q1587.31 809.92 1587.31 811.397 Q1587.31 812.043 1586.89 812.473 Q1586.49 812.889 1585.82 812.889 Q1585.17 812.889 1584.74 812.488 Q1584.31 812.071 1584.31 811.369 Q1584.31 809.69 1585.8 808.528 Q1587.31 807.366 1589.52 807.366 Q1591.7 807.366 1593.31 808.514 Q1594.93 809.661 1594.93 811.426 Q1594.93 813.162 1593.78 814.582 Q1592.63 816.002 1590.81 816.591 Q1593.05 817.035 1594.38 818.556 Q1595.72 820.062 1595.72 821.913 Q1595.72 824.208 1593.91 825.901 Q1592.1 827.58 1589.46 827.58 Q1587.02 827.58 1585.27 826.26 Q1583.52 824.94 1583.52 822.975 Z\" fill=\"#000000\" fill-rule=\"nonzero\" fill-opacity=\"1\" /><path clip-path=\"url(#clip550)\" d=\"M1143.84 1088.17 Q1143.84 1082 1145.39 1078.64 Q1147.57 1073.64 1152.69 1073.64 Q1153.78 1073.64 1154.9 1073.95 Q1156.05 1074.24 1157.48 1075.36 Q1158.94 1076.49 1159.82 1078.34 Q1161.5 1081.9 1161.5 1088.17 Q1161.5 1094.3 1159.94 1097.64 Q1157.67 1102.52 1152.65 1102.52 Q1150.76 1102.52 1148.84 1101.56 Q1146.93 1100.59 1145.72 1098.28 Q1143.84 1094.81 1143.84 1088.17 M1147.32 1087.66 Q1147.32 1093.99 1147.77 1096.52 Q1148.28 1099.24 1149.68 1100.43 Q1151.09 1101.6 1152.65 1101.6 Q1154.33 1101.6 1155.72 1100.35 Q1157.14 1099.08 1157.57 1096.35 Q1158.04 1093.67 1158.02 1087.66 Q1158.02 1081.82 1157.61 1079.48 Q1157.05 1076.76 1155.58 1075.67 Q1154.12 1074.57 1152.65 1074.57 Q1152.09 1074.57 1151.5 1074.73 Q1150.93 1074.89 1150.09 1075.36 Q1149.25 1075.84 1148.59 1077 Q1147.95 1078.17 1147.65 1079.93 Q1147.32 1082.21 1147.32 1087.66 Z\" fill=\"#000000\" fill-rule=\"nonzero\" fill-opacity=\"1\" /><path clip-path=\"url(#clip550)\" d=\"M1165.25 1100.92 Q1164.62 1100.25 1164.62 1099.36 Q1164.62 1098.48 1165.25 1097.85 Q1165.89 1097.19 1166.85 1097.19 Q1167.77 1097.19 1168.39 1097.81 Q1169.02 1098.4 1169.02 1099.38 Q1169.02 1100.35 1168.35 1100.98 Q1167.69 1101.6 1166.85 1101.6 Q1165.89 1101.6 1165.25 1100.92 Z\" fill=\"#000000\" fill-rule=\"nonzero\" fill-opacity=\"1\" /><path clip-path=\"url(#clip550)\" d=\"M1176.16 1101.6 Q1176.16 1100.84 1176.23 1100.61 Q1176.31 1100.39 1176.64 1100.04 L1184.69 1091.06 Q1189.1 1086.1 1189.1 1081.78 Q1189.1 1078.97 1187.62 1076.96 Q1186.17 1074.95 1183.48 1074.95 Q1181.64 1074.95 1180.08 1076.08 Q1178.52 1077.21 1177.8 1079.22 Q1177.93 1079.18 1178.36 1079.18 Q1179.4 1079.18 1179.98 1079.83 Q1180.57 1080.49 1180.57 1081.37 Q1180.57 1082.5 1179.83 1083.05 Q1179.12 1083.58 1178.4 1083.58 Q1178.11 1083.58 1177.72 1083.52 Q1177.35 1083.46 1176.76 1082.89 Q1176.16 1082.29 1176.16 1081.25 Q1176.16 1078.32 1178.38 1075.98 Q1180.61 1073.64 1184.01 1073.64 Q1187.87 1073.64 1190.39 1075.94 Q1192.93 1078.21 1192.93 1081.78 Q1192.93 1083.03 1192.54 1084.18 Q1192.17 1085.3 1191.66 1086.19 Q1191.17 1087.07 1189.81 1088.48 Q1188.46 1089.9 1187.37 1090.9 Q1186.29 1091.9 1183.85 1094.04 L1179.4 1098.36 L1186.96 1098.36 Q1190.65 1098.36 1190.94 1098.03 Q1191.35 1097.44 1191.86 1094.3 L1192.93 1094.3 L1191.74 1101.6 L1176.16 1101.6 Z\" fill=\"#000000\" fill-rule=\"nonzero\" fill-opacity=\"1\" /><path clip-path=\"url(#clip550)\" d=\"M1217.85 1085.82 Q1217.85 1086.96 1217.13 1087.62 Q1216.42 1088.26 1215.6 1088.26 Q1214.82 1088.26 1214.41 1087.8 Q1214 1087.35 1214 1086.78 Q1214 1086 1214.57 1085.32 Q1215.14 1084.65 1216.01 1084.51 Q1215.16 1083.97 1213.91 1083.97 Q1213.09 1083.97 1212.38 1084.4 Q1211.68 1084.83 1211.25 1085.39 Q1210.84 1085.94 1210.47 1086.74 Q1210.12 1087.52 1209.98 1087.99 Q1209.86 1088.44 1209.75 1088.93 L1208.32 1094.67 Q1207.62 1097.4 1207.62 1098.36 Q1207.62 1099.55 1208.2 1100.35 Q1208.77 1101.13 1209.92 1101.13 Q1210.37 1101.13 1210.88 1101 Q1211.39 1100.86 1212.05 1100.49 Q1212.73 1100.1 1213.32 1099.53 Q1213.94 1098.93 1214.53 1097.93 Q1215.12 1096.92 1215.51 1095.63 Q1215.64 1095.18 1216.05 1095.18 Q1216.56 1095.18 1216.56 1095.59 Q1216.56 1095.94 1216.27 1096.68 Q1216.01 1097.4 1215.41 1098.34 Q1214.84 1099.26 1214.08 1100.1 Q1213.32 1100.92 1212.19 1101.5 Q1211.07 1102.07 1209.84 1102.07 Q1208.07 1102.07 1206.91 1101.13 Q1205.74 1100.18 1205.31 1098.87 Q1205.2 1099.06 1205.06 1099.3 Q1204.92 1099.55 1204.49 1100.1 Q1204.08 1100.63 1203.61 1101.04 Q1203.13 1101.43 1202.4 1101.74 Q1201.68 1102.07 1200.9 1102.07 Q1199.92 1102.07 1199.04 1101.78 Q1198.17 1101.5 1197.56 1100.84 Q1196.95 1100.18 1196.95 1099.28 Q1196.95 1098.28 1197.62 1097.58 Q1198.32 1096.86 1199.26 1096.86 Q1199.86 1096.86 1200.33 1097.21 Q1200.82 1097.56 1200.82 1098.32 Q1200.82 1099.16 1200.24 1099.79 Q1199.67 1100.43 1198.85 1100.59 Q1199.69 1101.13 1200.94 1101.13 Q1202.29 1101.13 1203.36 1099.94 Q1204.43 1098.75 1204.94 1096.76 Q1206.21 1091.99 1206.7 1089.85 Q1207.19 1087.7 1207.19 1086.78 Q1207.19 1085.92 1206.97 1085.32 Q1206.74 1084.73 1206.35 1084.46 Q1205.98 1084.18 1205.63 1084.07 Q1205.31 1083.97 1204.94 1083.97 Q1204.32 1083.97 1203.63 1084.22 Q1202.95 1084.46 1202.13 1085.04 Q1201.33 1085.59 1200.57 1086.74 Q1199.81 1087.89 1199.3 1089.46 Q1199.2 1089.94 1198.75 1089.94 Q1198.26 1089.92 1198.26 1089.51 Q1198.26 1089.16 1198.52 1088.44 Q1198.81 1087.7 1199.38 1086.78 Q1199.98 1085.86 1200.74 1085.04 Q1201.52 1084.2 1202.64 1083.62 Q1203.79 1083.05 1205.02 1083.05 Q1205.57 1083.05 1206.11 1083.17 Q1206.66 1083.28 1207.32 1083.58 Q1207.99 1083.89 1208.59 1084.57 Q1209.18 1085.24 1209.55 1086.23 Q1209.8 1085.76 1210.12 1085.3 Q1210.47 1084.85 1211 1084.3 Q1211.56 1083.73 1212.32 1083.4 Q1213.09 1083.05 1213.96 1083.05 Q1214.8 1083.05 1215.62 1083.28 Q1216.44 1083.48 1217.13 1084.16 Q1217.85 1084.81 1217.85 1085.82 Z\" fill=\"#000000\" fill-rule=\"nonzero\" fill-opacity=\"1\" /><path clip-path=\"url(#clip550)\" d=\"M1222.11 1096.92 L1222.11 1096.01 Q1225.64 1096.01 1227.46 1094.13 Q1227.97 1094.13 1228.05 1094.24 Q1228.14 1094.36 1228.14 1094.89 L1228.14 1111.37 Q1228.14 1112.25 1228.57 1112.52 Q1229 1112.79 1230.88 1112.79 L1231.81 1112.79 L1231.81 1113.7 Q1230.78 1113.61 1227.05 1113.61 Q1223.32 1113.61 1222.3 1113.7 L1222.3 1112.79 L1223.23 1112.79 Q1225.08 1112.79 1225.53 1112.53 Q1225.97 1112.26 1225.97 1111.37 L1225.97 1096.15 Q1224.44 1096.92 1222.11 1096.92 Z\" fill=\"#000000\" fill-rule=\"nonzero\" fill-opacity=\"1\" /><path clip-path=\"url(#clip550)\" d=\"M1456.58 1099.07 Q1455.94 1098.4 1455.94 1097.51 Q1455.94 1096.63 1456.58 1096 Q1457.22 1095.34 1458.18 1095.34 Q1459.1 1095.34 1459.72 1095.96 Q1460.35 1096.55 1460.35 1097.54 Q1460.35 1098.5 1459.67 1099.13 Q1459.02 1099.75 1458.18 1099.75 Q1457.22 1099.75 1456.58 1099.07 Z\" fill=\"#000000\" fill-rule=\"nonzero\" fill-opacity=\"1\" /><path clip-path=\"url(#clip550)\" d=\"M1474.15 1086.32 Q1474.15 1080.16 1475.7 1076.79 Q1477.88 1071.79 1483 1071.79 Q1484.09 1071.79 1485.21 1072.1 Q1486.36 1072.39 1487.8 1073.52 Q1489.25 1074.64 1490.13 1076.49 Q1491.81 1080.05 1491.81 1086.32 Q1491.81 1092.45 1490.26 1095.79 Q1487.98 1100.67 1482.96 1100.67 Q1481.07 1100.67 1479.15 1099.71 Q1477.24 1098.74 1476.03 1096.43 Q1474.15 1092.97 1474.15 1086.32 M1477.63 1085.81 Q1477.63 1092.15 1478.08 1094.67 Q1478.59 1097.39 1479.99 1098.58 Q1481.4 1099.75 1482.96 1099.75 Q1484.64 1099.75 1486.03 1098.5 Q1487.45 1097.23 1487.88 1094.5 Q1488.35 1091.82 1488.33 1085.81 Q1488.33 1079.97 1487.92 1077.64 Q1487.37 1074.91 1485.89 1073.82 Q1484.44 1072.72 1482.96 1072.72 Q1482.41 1072.72 1481.81 1072.88 Q1481.24 1073.04 1480.4 1073.52 Q1479.56 1073.99 1478.9 1075.16 Q1478.27 1076.32 1477.96 1078.09 Q1477.63 1080.36 1477.63 1085.81 Z\" fill=\"#000000\" fill-rule=\"nonzero\" fill-opacity=\"1\" /><path clip-path=\"url(#clip550)\" d=\"M1495.1 1086.32 Q1495.1 1080.16 1496.65 1076.79 Q1498.83 1071.79 1503.95 1071.79 Q1505.04 1071.79 1506.16 1072.1 Q1507.31 1072.39 1508.75 1073.52 Q1510.2 1074.64 1511.08 1076.49 Q1512.76 1080.05 1512.76 1086.32 Q1512.76 1092.45 1511.2 1095.79 Q1508.93 1100.67 1503.91 1100.67 Q1502.02 1100.67 1500.1 1099.71 Q1498.19 1098.74 1496.98 1096.43 Q1495.1 1092.97 1495.1 1086.32 M1498.58 1085.81 Q1498.58 1092.15 1499.03 1094.67 Q1499.54 1097.39 1500.94 1098.58 Q1502.35 1099.75 1503.91 1099.75 Q1505.59 1099.75 1506.98 1098.5 Q1508.4 1097.23 1508.83 1094.5 Q1509.3 1091.82 1509.28 1085.81 Q1509.28 1079.97 1508.87 1077.64 Q1508.32 1074.91 1506.84 1073.82 Q1505.38 1072.72 1503.91 1072.72 Q1503.36 1072.72 1502.76 1072.88 Q1502.19 1073.04 1501.35 1073.52 Q1500.51 1073.99 1499.85 1075.16 Q1499.22 1076.32 1498.91 1078.09 Q1498.58 1080.36 1498.58 1085.81 Z\" fill=\"#000000\" fill-rule=\"nonzero\" fill-opacity=\"1\" /><path clip-path=\"url(#clip550)\" d=\"M1516.05 1092.99 Q1516.05 1091.74 1516.72 1091.26 Q1517.4 1090.77 1518.12 1090.77 Q1519.08 1090.77 1519.63 1091.39 Q1520.21 1091.98 1520.21 1092.82 Q1520.21 1093.66 1519.63 1094.28 Q1519.08 1094.87 1518.12 1094.87 Q1517.64 1094.87 1517.4 1094.79 Q1517.95 1096.72 1519.63 1098.11 Q1521.33 1099.5 1523.57 1099.5 Q1526.37 1099.5 1528.06 1096.78 Q1529.06 1095.01 1529.06 1091.02 Q1529.06 1087.49 1528.3 1085.73 Q1527.13 1083.05 1524.74 1083.05 Q1521.33 1083.05 1519.32 1085.98 Q1519.08 1086.35 1518.79 1086.37 Q1518.38 1086.37 1518.28 1086.14 Q1518.2 1085.89 1518.2 1085.26 L1518.2 1072.84 Q1518.2 1071.84 1518.61 1071.84 Q1518.77 1071.84 1519.12 1071.96 Q1521.76 1073.13 1524.69 1073.15 Q1527.71 1073.15 1530.41 1071.92 Q1530.62 1071.79 1530.74 1071.79 Q1531.15 1071.79 1531.17 1072.27 Q1531.17 1072.43 1530.82 1072.92 Q1530.49 1073.39 1529.78 1074.03 Q1529.06 1074.64 1528.14 1075.24 Q1527.22 1075.83 1525.86 1076.24 Q1524.53 1076.63 1523.05 1076.63 Q1521.29 1076.63 1519.49 1076.08 L1519.49 1084.25 Q1521.66 1082.12 1524.82 1082.12 Q1528.18 1082.12 1530.49 1084.83 Q1532.81 1087.53 1532.81 1091.3 Q1532.81 1095.26 1530.06 1097.97 Q1527.34 1100.67 1523.65 1100.67 Q1520.29 1100.67 1518.16 1098.27 Q1516.05 1095.88 1516.05 1092.99 Z\" fill=\"#000000\" fill-rule=\"nonzero\" fill-opacity=\"1\" /><path clip-path=\"url(#clip550)\" d=\"M1557.73 1083.97 Q1557.73 1085.12 1557.01 1085.77 Q1556.3 1086.41 1555.48 1086.41 Q1554.7 1086.41 1554.29 1085.96 Q1553.88 1085.5 1553.88 1084.93 Q1553.88 1084.15 1554.45 1083.48 Q1555.03 1082.8 1555.89 1082.66 Q1555.05 1082.12 1553.8 1082.12 Q1552.98 1082.12 1552.26 1082.55 Q1551.56 1082.98 1551.13 1083.54 Q1550.72 1084.09 1550.35 1084.89 Q1550 1085.67 1549.86 1086.14 Q1549.74 1086.59 1549.64 1087.08 L1548.2 1092.82 Q1547.5 1095.55 1547.5 1096.51 Q1547.5 1097.7 1548.08 1098.5 Q1548.65 1099.28 1549.8 1099.28 Q1550.25 1099.28 1550.76 1099.15 Q1551.28 1099.01 1551.93 1098.64 Q1552.61 1098.25 1553.2 1097.68 Q1553.82 1097.08 1554.41 1096.08 Q1555.01 1095.08 1555.39 1093.78 Q1555.52 1093.33 1555.93 1093.33 Q1556.44 1093.33 1556.44 1093.74 Q1556.44 1094.09 1556.15 1094.83 Q1555.89 1095.55 1555.29 1096.49 Q1554.72 1097.41 1553.96 1098.25 Q1553.2 1099.07 1552.07 1099.65 Q1550.95 1100.22 1549.72 1100.22 Q1547.96 1100.22 1546.79 1099.28 Q1545.62 1098.33 1545.19 1097.02 Q1545.09 1097.21 1544.94 1097.45 Q1544.8 1097.7 1544.37 1098.25 Q1543.96 1098.79 1543.49 1099.2 Q1543.02 1099.58 1542.28 1099.89 Q1541.56 1100.22 1540.78 1100.22 Q1539.8 1100.22 1538.92 1099.93 Q1538.06 1099.65 1537.44 1098.99 Q1536.83 1098.33 1536.83 1097.43 Q1536.83 1096.43 1537.5 1095.73 Q1538.2 1095.01 1539.14 1095.01 Q1539.74 1095.01 1540.21 1095.36 Q1540.7 1095.71 1540.7 1096.47 Q1540.7 1097.31 1540.13 1097.95 Q1539.55 1098.58 1538.73 1098.74 Q1539.57 1099.28 1540.82 1099.28 Q1542.18 1099.28 1543.24 1098.09 Q1544.31 1096.9 1544.82 1094.91 Q1546.09 1090.14 1546.58 1088.01 Q1547.07 1085.85 1547.07 1084.93 Q1547.07 1084.07 1546.85 1083.48 Q1546.62 1082.88 1546.23 1082.62 Q1545.86 1082.33 1545.52 1082.23 Q1545.19 1082.12 1544.82 1082.12 Q1544.2 1082.12 1543.51 1082.37 Q1542.83 1082.62 1542.01 1083.19 Q1541.21 1083.74 1540.45 1084.89 Q1539.7 1086.04 1539.18 1087.62 Q1539.08 1088.09 1538.63 1088.09 Q1538.14 1088.07 1538.14 1087.66 Q1538.14 1087.31 1538.4 1086.59 Q1538.69 1085.85 1539.27 1084.93 Q1539.86 1084.01 1540.62 1083.19 Q1541.4 1082.35 1542.52 1081.77 Q1543.67 1081.2 1544.9 1081.2 Q1545.45 1081.2 1545.99 1081.32 Q1546.54 1081.43 1547.2 1081.73 Q1547.87 1082.04 1548.47 1082.72 Q1549.06 1083.39 1549.43 1084.38 Q1549.68 1083.91 1550 1083.46 Q1550.35 1083 1550.89 1082.45 Q1551.44 1081.88 1552.2 1081.55 Q1552.98 1081.2 1553.84 1081.2 Q1554.68 1081.2 1555.5 1081.43 Q1556.32 1081.63 1557.01 1082.31 Q1557.73 1082.96 1557.73 1083.97 Z\" fill=\"#000000\" fill-rule=\"nonzero\" fill-opacity=\"1\" /><path clip-path=\"url(#clip550)\" d=\"M1561.99 1111.85 Q1561.99 1111.32 1562.04 1111.16 Q1562.09 1111 1562.32 1110.76 L1567.96 1104.47 Q1571.05 1101 1571.05 1097.97 Q1571.05 1096.01 1570.01 1094.6 Q1569 1093.2 1567.12 1093.2 Q1565.82 1093.2 1564.73 1093.99 Q1563.64 1094.77 1563.14 1096.18 Q1563.23 1096.15 1563.53 1096.15 Q1564.26 1096.15 1564.66 1096.61 Q1565.08 1097.07 1565.08 1097.69 Q1565.08 1098.48 1564.56 1098.86 Q1564.06 1099.24 1563.56 1099.24 Q1563.36 1099.24 1563.08 1099.19 Q1562.83 1099.15 1562.41 1098.75 Q1561.99 1098.33 1561.99 1097.6 Q1561.99 1095.55 1563.54 1093.91 Q1565.11 1092.28 1567.49 1092.28 Q1570.19 1092.28 1571.95 1093.88 Q1573.73 1095.48 1573.73 1097.97 Q1573.73 1098.85 1573.46 1099.65 Q1573.2 1100.44 1572.84 1101.06 Q1572.5 1101.67 1571.55 1102.66 Q1570.6 1103.65 1569.84 1104.36 Q1569.08 1105.06 1567.37 1106.55 L1564.26 1109.58 L1569.55 1109.58 Q1572.14 1109.58 1572.34 1109.35 Q1572.62 1108.93 1572.98 1106.74 L1573.73 1106.74 L1572.9 1111.85 L1561.99 1111.85 Z\" fill=\"#000000\" fill-rule=\"nonzero\" fill-opacity=\"1\" /><path clip-path=\"url(#clip550)\" d=\"M1561.99 1087.2 Q1561.99 1086.67 1562.04 1086.52 Q1562.09 1086.36 1562.32 1086.11 L1567.96 1079.83 Q1571.05 1076.36 1571.05 1073.33 Q1571.05 1071.37 1570.01 1069.96 Q1569 1068.55 1567.12 1068.55 Q1565.82 1068.55 1564.73 1069.34 Q1563.64 1070.13 1563.14 1071.54 Q1563.23 1071.51 1563.53 1071.51 Q1564.26 1071.51 1564.66 1071.97 Q1565.08 1072.43 1565.08 1073.04 Q1565.08 1073.83 1564.56 1074.22 Q1564.06 1074.59 1563.56 1074.59 Q1563.36 1074.59 1563.08 1074.55 Q1562.83 1074.51 1562.41 1074.11 Q1561.99 1073.69 1561.99 1072.96 Q1561.99 1070.91 1563.54 1069.27 Q1565.11 1067.64 1567.49 1067.64 Q1570.19 1067.64 1571.95 1069.24 Q1573.73 1070.83 1573.73 1073.33 Q1573.73 1074.21 1573.46 1075.01 Q1573.2 1075.8 1572.84 1076.42 Q1572.5 1077.03 1571.55 1078.02 Q1570.6 1079.01 1569.84 1079.72 Q1569.08 1080.42 1567.37 1081.91 L1564.26 1084.94 L1569.55 1084.94 Q1572.14 1084.94 1572.34 1084.71 Q1572.62 1084.29 1572.98 1082.1 L1573.73 1082.1 L1572.9 1087.2 L1561.99 1087.2 Z\" fill=\"#000000\" fill-rule=\"nonzero\" fill-opacity=\"1\" /><path clip-path=\"url(#clip550)\" d=\"M1288.79 250.559 L1288.79 261.922 L1293.93 261.922 Q1296.79 261.922 1298.35 260.444 Q1299.91 258.965 1299.91 256.231 Q1299.91 253.517 1298.35 252.038 Q1296.79 250.559 1293.93 250.559 L1288.79 250.559 M1284.7 247.197 L1293.93 247.197 Q1299.02 247.197 1301.61 249.506 Q1304.22 251.795 1304.22 256.231 Q1304.22 260.707 1301.61 262.996 Q1299.02 265.284 1293.93 265.284 L1288.79 265.284 L1288.79 277.437 L1284.7 277.437 L1284.7 247.197 Z\" fill=\"#000000\" fill-rule=\"nonzero\" fill-opacity=\"1\" /><path clip-path=\"url(#clip550)\" d=\"M1309.55 245.921 L1313.27 245.921 L1313.27 277.437 L1309.55 277.437 L1309.55 245.921 Z\" fill=\"#000000\" fill-rule=\"nonzero\" fill-opacity=\"1\" /><path clip-path=\"url(#clip550)\" d=\"M1331.38 266.034 Q1326.87 266.034 1325.12 267.067 Q1323.38 268.1 1323.38 270.591 Q1323.38 272.576 1324.68 273.751 Q1325.99 274.905 1328.24 274.905 Q1331.34 274.905 1333.21 272.718 Q1335.09 270.51 1335.09 266.864 L1335.09 266.034 L1331.38 266.034 M1338.82 264.495 L1338.82 277.437 L1335.09 277.437 L1335.09 273.994 Q1333.81 276.06 1331.91 277.052 Q1330.01 278.025 1327.25 278.025 Q1323.77 278.025 1321.7 276.08 Q1319.66 274.115 1319.66 270.834 Q1319.66 267.006 1322.21 265.062 Q1324.78 263.117 1329.86 263.117 L1335.09 263.117 L1335.09 262.753 Q1335.09 260.18 1333.39 258.783 Q1331.71 257.365 1328.65 257.365 Q1326.7 257.365 1324.86 257.831 Q1323.02 258.297 1321.32 259.228 L1321.32 255.785 Q1323.36 254.995 1325.29 254.61 Q1327.21 254.205 1329.03 254.205 Q1333.95 254.205 1336.39 256.757 Q1338.82 259.309 1338.82 264.495 Z\" fill=\"#000000\" fill-rule=\"nonzero\" fill-opacity=\"1\" /><path clip-path=\"url(#clip550)\" d=\"M1365.35 263.745 L1365.35 277.437 L1361.62 277.437 L1361.62 263.867 Q1361.62 260.646 1360.37 259.046 Q1359.11 257.446 1356.6 257.446 Q1353.58 257.446 1351.84 259.37 Q1350.1 261.294 1350.1 264.616 L1350.1 277.437 L1346.35 277.437 L1346.35 254.752 L1350.1 254.752 L1350.1 258.276 Q1351.43 256.231 1353.24 255.218 Q1355.06 254.205 1357.43 254.205 Q1361.34 254.205 1363.34 256.636 Q1365.35 259.046 1365.35 263.745 Z\" fill=\"#000000\" fill-rule=\"nonzero\" fill-opacity=\"1\" /><path clip-path=\"url(#clip550)\" d=\"M1376.47 248.311 L1376.47 254.752 L1384.15 254.752 L1384.15 257.649 L1376.47 257.649 L1376.47 269.963 Q1376.47 272.738 1377.22 273.528 Q1377.99 274.318 1380.32 274.318 L1384.15 274.318 L1384.15 277.437 L1380.32 277.437 Q1376 277.437 1374.36 275.837 Q1372.72 274.217 1372.72 269.963 L1372.72 257.649 L1369.99 257.649 L1369.99 254.752 L1372.72 254.752 L1372.72 248.311 L1376.47 248.311 Z\" fill=\"#000000\" fill-rule=\"nonzero\" fill-opacity=\"1\" /><path clip-path=\"url(#clip550)\" d=\"M367.724 784.88 L371.815 784.88 L371.815 811.677 L386.54 811.677 L386.54 815.12 L367.724 815.12 L367.724 784.88 Z\" fill=\"#000000\" fill-rule=\"nonzero\" fill-opacity=\"1\" /><path clip-path=\"url(#clip550)\" d=\"M400.982 803.717 Q396.465 803.717 394.723 804.75 Q392.981 805.783 392.981 808.274 Q392.981 810.259 394.277 811.434 Q395.594 812.588 397.842 812.588 Q400.941 812.588 402.805 810.401 Q404.688 808.193 404.688 804.547 L404.688 803.717 L400.982 803.717 M408.415 802.177 L408.415 815.12 L404.688 815.12 L404.688 811.677 Q403.412 813.743 401.508 814.735 Q399.604 815.707 396.85 815.707 Q393.366 815.707 391.3 813.763 Q389.254 811.798 389.254 808.517 Q389.254 804.689 391.806 802.744 Q394.379 800.8 399.463 800.8 L404.688 800.8 L404.688 800.435 Q404.688 797.863 402.987 796.466 Q401.306 795.048 398.247 795.048 Q396.303 795.048 394.46 795.514 Q392.617 795.979 390.915 796.911 L390.915 793.468 Q392.961 792.678 394.885 792.293 Q396.809 791.888 398.632 791.888 Q403.554 791.888 405.985 794.44 Q408.415 796.992 408.415 802.177 Z\" fill=\"#000000\" fill-rule=\"nonzero\" fill-opacity=\"1\" /><path clip-path=\"url(#clip550)\" d=\"M434.949 801.428 L434.949 815.12 L431.222 815.12 L431.222 801.549 Q431.222 798.329 429.966 796.729 Q428.71 795.129 426.199 795.129 Q423.181 795.129 421.439 797.053 Q419.697 798.977 419.697 802.299 L419.697 815.12 L415.95 815.12 L415.95 792.435 L419.697 792.435 L419.697 795.959 Q421.034 793.914 422.836 792.901 Q424.659 791.888 427.029 791.888 Q430.938 791.888 432.943 794.319 Q434.949 796.729 434.949 801.428 Z\" fill=\"#000000\" fill-rule=\"nonzero\" fill-opacity=\"1\" /><path clip-path=\"url(#clip550)\" d=\"M457.31 795.878 L457.31 783.604 L461.036 783.604 L461.036 815.12 L457.31 815.12 L457.31 811.717 Q456.135 813.743 454.332 814.735 Q452.55 815.707 450.038 815.707 Q445.926 815.707 443.334 812.426 Q440.762 809.145 440.762 803.798 Q440.762 798.451 443.334 795.169 Q445.926 791.888 450.038 791.888 Q452.55 791.888 454.332 792.881 Q456.135 793.853 457.31 795.878 M444.61 803.798 Q444.61 807.909 446.291 810.259 Q447.992 812.588 450.95 812.588 Q453.907 812.588 455.608 810.259 Q457.31 807.909 457.31 803.798 Q457.31 799.686 455.608 797.357 Q453.907 795.007 450.95 795.007 Q447.992 795.007 446.291 797.357 Q444.61 799.686 444.61 803.798 Z\" fill=\"#000000\" fill-rule=\"nonzero\" fill-opacity=\"1\" /><path clip-path=\"url(#clip550)\" d=\"M477.868 784.88 L503.449 784.88 L503.449 788.323 L492.714 788.323 L492.714 815.12 L488.603 815.12 L488.603 788.323 L477.868 788.323 L477.868 784.88 Z\" fill=\"#000000\" fill-rule=\"nonzero\" fill-opacity=\"1\" /><path clip-path=\"url(#clip550)\" d=\"M514.285 795.919 Q513.658 795.554 512.908 795.392 Q512.179 795.21 511.288 795.21 Q508.128 795.21 506.427 797.276 Q504.746 799.321 504.746 803.17 L504.746 815.12 L500.999 815.12 L500.999 792.435 L504.746 792.435 L504.746 795.959 Q505.92 793.893 507.804 792.901 Q509.688 791.888 512.382 791.888 Q512.766 791.888 513.232 791.949 Q513.698 791.989 514.265 792.091 L514.285 795.919 Z\" fill=\"#000000\" fill-rule=\"nonzero\" fill-opacity=\"1\" /><path clip-path=\"url(#clip550)\" d=\"M536.687 802.846 L536.687 804.669 L519.552 804.669 Q519.795 808.517 521.861 810.542 Q523.947 812.548 527.653 812.548 Q529.8 812.548 531.806 812.021 Q533.831 811.494 535.816 810.441 L535.816 813.965 Q533.811 814.816 531.704 815.262 Q529.598 815.707 527.431 815.707 Q522.002 815.707 518.822 812.548 Q515.663 809.388 515.663 804 Q515.663 798.43 518.66 795.169 Q521.678 791.888 526.783 791.888 Q531.36 791.888 534.013 794.845 Q536.687 797.782 536.687 802.846 M532.96 801.752 Q532.92 798.694 531.239 796.871 Q529.578 795.048 526.823 795.048 Q523.704 795.048 521.82 796.81 Q519.957 798.572 519.673 801.772 L532.96 801.752 Z\" fill=\"#000000\" fill-rule=\"nonzero\" fill-opacity=\"1\" /><path clip-path=\"url(#clip550)\" d=\"M553.113 803.717 Q548.597 803.717 546.855 804.75 Q545.113 805.783 545.113 808.274 Q545.113 810.259 546.409 811.434 Q547.726 812.588 549.974 812.588 Q553.073 812.588 554.936 810.401 Q556.82 808.193 556.82 804.547 L556.82 803.717 L553.113 803.717 M560.547 802.177 L560.547 815.12 L556.82 815.12 L556.82 811.677 Q555.544 813.743 553.64 814.735 Q551.736 815.707 548.981 815.707 Q545.498 815.707 543.432 813.763 Q541.386 811.798 541.386 808.517 Q541.386 804.689 543.938 802.744 Q546.51 800.8 551.594 800.8 L556.82 800.8 L556.82 800.435 Q556.82 797.863 555.119 796.466 Q553.437 795.048 550.379 795.048 Q548.435 795.048 546.591 795.514 Q544.748 795.979 543.047 796.911 L543.047 793.468 Q545.093 792.678 547.017 792.293 Q548.941 791.888 550.764 791.888 Q555.686 791.888 558.116 794.44 Q560.547 796.992 560.547 802.177 Z\" fill=\"#000000\" fill-rule=\"nonzero\" fill-opacity=\"1\" /><path clip-path=\"url(#clip550)\" d=\"M571.91 785.994 L571.91 792.435 L579.586 792.435 L579.586 795.331 L571.91 795.331 L571.91 807.646 Q571.91 810.421 572.659 811.211 Q573.429 812.001 575.758 812.001 L579.586 812.001 L579.586 815.12 L575.758 815.12 Q571.444 815.12 569.803 813.52 Q568.163 811.9 568.163 807.646 L568.163 795.331 L565.428 795.331 L565.428 792.435 L568.163 792.435 L568.163 785.994 L571.91 785.994 Z\" fill=\"#000000\" fill-rule=\"nonzero\" fill-opacity=\"1\" /><path clip-path=\"url(#clip550)\" d=\"M602.15 796.79 Q603.547 794.278 605.492 793.083 Q607.436 791.888 610.069 791.888 Q613.614 791.888 615.538 794.379 Q617.462 796.85 617.462 801.428 L617.462 815.12 L613.715 815.12 L613.715 801.549 Q613.715 798.288 612.56 796.709 Q611.406 795.129 609.036 795.129 Q606.14 795.129 604.459 797.053 Q602.777 798.977 602.777 802.299 L602.777 815.12 L599.03 815.12 L599.03 801.549 Q599.03 798.268 597.876 796.709 Q596.721 795.129 594.311 795.129 Q591.455 795.129 589.774 797.073 Q588.093 798.997 588.093 802.299 L588.093 815.12 L584.346 815.12 L584.346 792.435 L588.093 792.435 L588.093 795.959 Q589.369 793.873 591.151 792.881 Q592.934 791.888 595.385 791.888 Q597.856 791.888 599.577 793.144 Q601.319 794.4 602.15 796.79 Z\" fill=\"#000000\" fill-rule=\"nonzero\" fill-opacity=\"1\" /><path clip-path=\"url(#clip550)\" d=\"M644.299 802.846 L644.299 804.669 L627.164 804.669 Q627.407 808.517 629.473 810.542 Q631.559 812.548 635.266 812.548 Q637.413 812.548 639.418 812.021 Q641.443 811.494 643.428 810.441 L643.428 813.965 Q641.423 814.816 639.317 815.262 Q637.21 815.707 635.043 815.707 Q629.615 815.707 626.435 812.548 Q623.275 809.388 623.275 804 Q623.275 798.43 626.273 795.169 Q629.291 791.888 634.395 791.888 Q638.972 791.888 641.626 794.845 Q644.299 797.782 644.299 802.846 M640.572 801.752 Q640.532 798.694 638.851 796.871 Q637.19 795.048 634.435 795.048 Q631.316 795.048 629.432 796.81 Q627.569 798.572 627.285 801.772 L640.572 801.752 Z\" fill=\"#000000\" fill-rule=\"nonzero\" fill-opacity=\"1\" /><path clip-path=\"url(#clip550)\" d=\"M669.273 801.428 L669.273 815.12 L665.546 815.12 L665.546 801.549 Q665.546 798.329 664.29 796.729 Q663.035 795.129 660.523 795.129 Q657.505 795.129 655.763 797.053 Q654.021 798.977 654.021 802.299 L654.021 815.12 L650.274 815.12 L650.274 792.435 L654.021 792.435 L654.021 795.959 Q655.358 793.914 657.161 792.901 Q658.984 791.888 661.354 791.888 Q665.263 791.888 667.268 794.319 Q669.273 796.729 669.273 801.428 Z\" fill=\"#000000\" fill-rule=\"nonzero\" fill-opacity=\"1\" /><path clip-path=\"url(#clip550)\" d=\"M680.393 785.994 L680.393 792.435 L688.069 792.435 L688.069 795.331 L680.393 795.331 L680.393 807.646 Q680.393 810.421 681.142 811.211 Q681.912 812.001 684.241 812.001 L688.069 812.001 L688.069 815.12 L684.241 815.12 Q679.927 815.12 678.286 813.52 Q676.646 811.9 676.646 807.646 L676.646 795.331 L673.911 795.331 L673.911 792.435 L676.646 792.435 L676.646 785.994 L680.393 785.994 Z\" fill=\"#000000\" fill-rule=\"nonzero\" fill-opacity=\"1\" /><path clip-path=\"url(#clip550)\" d=\"M1053.33 787.209 L1053.33 791.523 Q1051.26 789.599 1048.91 788.647 Q1046.58 787.695 1043.95 787.695 Q1038.76 787.695 1036.01 790.875 Q1033.25 794.035 1033.25 800.03 Q1033.25 806.005 1036.01 809.185 Q1038.76 812.345 1043.95 812.345 Q1046.58 812.345 1048.91 811.393 Q1051.26 810.441 1053.33 808.517 L1053.33 812.791 Q1051.18 814.249 1048.77 814.978 Q1046.38 815.707 1043.71 815.707 Q1036.84 815.707 1032.89 811.515 Q1028.94 807.302 1028.94 800.03 Q1028.94 792.739 1032.89 788.546 Q1036.84 784.333 1043.71 784.333 Q1046.42 784.333 1048.81 785.062 Q1051.22 785.771 1053.33 787.209 Z\" fill=\"#000000\" fill-rule=\"nonzero\" fill-opacity=\"1\" /><path clip-path=\"url(#clip550)\" d=\"M1078.34 801.428 L1078.34 815.12 L1074.61 815.12 L1074.61 801.549 Q1074.61 798.329 1073.36 796.729 Q1072.1 795.129 1069.59 795.129 Q1066.57 795.129 1064.83 797.053 Q1063.09 798.977 1063.09 802.299 L1063.09 815.12 L1059.34 815.12 L1059.34 783.604 L1063.09 783.604 L1063.09 795.959 Q1064.43 793.914 1066.23 792.901 Q1068.05 791.888 1070.42 791.888 Q1074.33 791.888 1076.34 794.319 Q1078.34 796.729 1078.34 801.428 Z\" fill=\"#000000\" fill-rule=\"nonzero\" fill-opacity=\"1\" /><path clip-path=\"url(#clip550)\" d=\"M1105.18 802.846 L1105.18 804.669 L1088.04 804.669 Q1088.29 808.517 1090.35 810.542 Q1092.44 812.548 1096.14 812.548 Q1098.29 812.548 1100.3 812.021 Q1102.32 811.494 1104.31 810.441 L1104.31 813.965 Q1102.3 814.816 1100.2 815.262 Q1098.09 815.707 1095.92 815.707 Q1090.49 815.707 1087.31 812.548 Q1084.15 809.388 1084.15 804 Q1084.15 798.43 1087.15 795.169 Q1090.17 791.888 1095.27 791.888 Q1099.85 791.888 1102.5 794.845 Q1105.18 797.782 1105.18 802.846 M1101.45 801.752 Q1101.41 798.694 1099.73 796.871 Q1098.07 795.048 1095.31 795.048 Q1092.2 795.048 1090.31 796.81 Q1088.45 798.572 1088.16 801.772 L1101.45 801.752 Z\" fill=\"#000000\" fill-rule=\"nonzero\" fill-opacity=\"1\" /><path clip-path=\"url(#clip550)\" d=\"M1128.96 796.79 Q1130.35 794.278 1132.3 793.083 Q1134.24 791.888 1136.88 791.888 Q1140.42 791.888 1142.35 794.379 Q1144.27 796.85 1144.27 801.428 L1144.27 815.12 L1140.52 815.12 L1140.52 801.549 Q1140.52 798.288 1139.37 796.709 Q1138.21 795.129 1135.84 795.129 Q1132.95 795.129 1131.27 797.053 Q1129.59 798.977 1129.59 802.299 L1129.59 815.12 L1125.84 815.12 L1125.84 801.549 Q1125.84 798.268 1124.68 796.709 Q1123.53 795.129 1121.12 795.129 Q1118.26 795.129 1116.58 797.073 Q1114.9 798.997 1114.9 802.299 L1114.9 815.12 L1111.15 815.12 L1111.15 792.435 L1114.9 792.435 L1114.9 795.959 Q1116.18 793.873 1117.96 792.881 Q1119.74 791.888 1122.19 791.888 Q1124.66 791.888 1126.38 793.144 Q1128.13 794.4 1128.96 796.79 Z\" fill=\"#000000\" fill-rule=\"nonzero\" fill-opacity=\"1\" /><path clip-path=\"url(#clip550)\" d=\"M1160.86 784.88 L1186.44 784.88 L1186.44 788.323 L1175.7 788.323 L1175.7 815.12 L1171.59 815.12 L1171.59 788.323 L1160.86 788.323 L1160.86 784.88 Z\" fill=\"#000000\" fill-rule=\"nonzero\" fill-opacity=\"1\" /><path clip-path=\"url(#clip550)\" d=\"M1197.28 795.919 Q1196.65 795.554 1195.9 795.392 Q1195.17 795.21 1194.28 795.21 Q1191.12 795.21 1189.42 797.276 Q1187.74 799.321 1187.74 803.17 L1187.74 815.12 L1183.99 815.12 L1183.99 792.435 L1187.74 792.435 L1187.74 795.959 Q1188.91 793.893 1190.79 792.901 Q1192.68 791.888 1195.37 791.888 Q1195.76 791.888 1196.22 791.949 Q1196.69 791.989 1197.26 792.091 L1197.28 795.919 Z\" fill=\"#000000\" fill-rule=\"nonzero\" fill-opacity=\"1\" /><path clip-path=\"url(#clip550)\" d=\"M1219.68 802.846 L1219.68 804.669 L1202.54 804.669 Q1202.78 808.517 1204.85 810.542 Q1206.94 812.548 1210.64 812.548 Q1212.79 812.548 1214.8 812.021 Q1216.82 811.494 1218.81 810.441 L1218.81 813.965 Q1216.8 814.816 1214.69 815.262 Q1212.59 815.707 1210.42 815.707 Q1204.99 815.707 1201.81 812.548 Q1198.65 809.388 1198.65 804 Q1198.65 798.43 1201.65 795.169 Q1204.67 791.888 1209.77 791.888 Q1214.35 791.888 1217 794.845 Q1219.68 797.782 1219.68 802.846 M1215.95 801.752 Q1215.91 798.694 1214.23 796.871 Q1212.57 795.048 1209.81 795.048 Q1206.69 795.048 1204.81 796.81 Q1202.95 798.572 1202.66 801.772 L1215.95 801.752 Z\" fill=\"#000000\" fill-rule=\"nonzero\" fill-opacity=\"1\" /><path clip-path=\"url(#clip550)\" d=\"M1236.1 803.717 Q1231.59 803.717 1229.85 804.75 Q1228.1 805.783 1228.1 808.274 Q1228.1 810.259 1229.4 811.434 Q1230.72 812.588 1232.96 812.588 Q1236.06 812.588 1237.93 810.401 Q1239.81 808.193 1239.81 804.547 L1239.81 803.717 L1236.1 803.717 M1243.54 802.177 L1243.54 815.12 L1239.81 815.12 L1239.81 811.677 Q1238.53 813.743 1236.63 814.735 Q1234.73 815.707 1231.97 815.707 Q1228.49 815.707 1226.42 813.763 Q1224.38 811.798 1224.38 808.517 Q1224.38 804.689 1226.93 802.744 Q1229.5 800.8 1234.58 800.8 L1239.81 800.8 L1239.81 800.435 Q1239.81 797.863 1238.11 796.466 Q1236.43 795.048 1233.37 795.048 Q1231.42 795.048 1229.58 795.514 Q1227.74 795.979 1226.04 796.911 L1226.04 793.468 Q1228.08 792.678 1230.01 792.293 Q1231.93 791.888 1233.75 791.888 Q1238.68 791.888 1241.11 794.44 Q1243.54 796.992 1243.54 802.177 Z\" fill=\"#000000\" fill-rule=\"nonzero\" fill-opacity=\"1\" /><path clip-path=\"url(#clip550)\" d=\"M1254.9 785.994 L1254.9 792.435 L1262.58 792.435 L1262.58 795.331 L1254.9 795.331 L1254.9 807.646 Q1254.9 810.421 1255.65 811.211 Q1256.42 812.001 1258.75 812.001 L1262.58 812.001 L1262.58 815.12 L1258.75 815.12 Q1254.43 815.12 1252.79 813.52 Q1251.15 811.9 1251.15 807.646 L1251.15 795.331 L1248.42 795.331 L1248.42 792.435 L1251.15 792.435 L1251.15 785.994 L1254.9 785.994 Z\" fill=\"#000000\" fill-rule=\"nonzero\" fill-opacity=\"1\" /><path clip-path=\"url(#clip550)\" d=\"M1285.14 796.79 Q1286.54 794.278 1288.48 793.083 Q1290.43 791.888 1293.06 791.888 Q1296.6 791.888 1298.53 794.379 Q1300.45 796.85 1300.45 801.428 L1300.45 815.12 L1296.71 815.12 L1296.71 801.549 Q1296.71 798.288 1295.55 796.709 Q1294.4 795.129 1292.03 795.129 Q1289.13 795.129 1287.45 797.053 Q1285.77 798.977 1285.77 802.299 L1285.77 815.12 L1282.02 815.12 L1282.02 801.549 Q1282.02 798.268 1280.87 796.709 Q1279.71 795.129 1277.3 795.129 Q1274.45 795.129 1272.76 797.073 Q1271.08 798.997 1271.08 802.299 L1271.08 815.12 L1267.34 815.12 L1267.34 792.435 L1271.08 792.435 L1271.08 795.959 Q1272.36 793.873 1274.14 792.881 Q1275.92 791.888 1278.37 791.888 Q1280.85 791.888 1282.57 793.144 Q1284.31 794.4 1285.14 796.79 Z\" fill=\"#000000\" fill-rule=\"nonzero\" fill-opacity=\"1\" /><path clip-path=\"url(#clip550)\" d=\"M1327.29 802.846 L1327.29 804.669 L1310.15 804.669 Q1310.4 808.517 1312.46 810.542 Q1314.55 812.548 1318.26 812.548 Q1320.4 812.548 1322.41 812.021 Q1324.43 811.494 1326.42 810.441 L1326.42 813.965 Q1324.41 814.816 1322.31 815.262 Q1320.2 815.707 1318.03 815.707 Q1312.61 815.707 1309.43 812.548 Q1306.27 809.388 1306.27 804 Q1306.27 798.43 1309.26 795.169 Q1312.28 791.888 1317.39 791.888 Q1321.96 791.888 1324.62 794.845 Q1327.29 797.782 1327.29 802.846 M1323.56 801.752 Q1323.52 798.694 1321.84 796.871 Q1320.18 795.048 1317.43 795.048 Q1314.31 795.048 1312.42 796.81 Q1310.56 798.572 1310.28 801.772 L1323.56 801.752 Z\" fill=\"#000000\" fill-rule=\"nonzero\" fill-opacity=\"1\" /><path clip-path=\"url(#clip550)\" d=\"M1352.26 801.428 L1352.26 815.12 L1348.54 815.12 L1348.54 801.549 Q1348.54 798.329 1347.28 796.729 Q1346.02 795.129 1343.51 795.129 Q1340.5 795.129 1338.75 797.053 Q1337.01 798.977 1337.01 802.299 L1337.01 815.12 L1333.26 815.12 L1333.26 792.435 L1337.01 792.435 L1337.01 795.959 Q1338.35 793.914 1340.15 792.901 Q1341.97 791.888 1344.34 791.888 Q1348.25 791.888 1350.26 794.319 Q1352.26 796.729 1352.26 801.428 Z\" fill=\"#000000\" fill-rule=\"nonzero\" fill-opacity=\"1\" /><path clip-path=\"url(#clip550)\" d=\"M1363.38 785.994 L1363.38 792.435 L1371.06 792.435 L1371.06 795.331 L1363.38 795.331 L1363.38 807.646 Q1363.38 810.421 1364.13 811.211 Q1364.9 812.001 1367.23 812.001 L1371.06 812.001 L1371.06 815.12 L1367.23 815.12 Q1362.92 815.12 1361.28 813.52 Q1359.64 811.9 1359.64 807.646 L1359.64 795.331 L1356.9 795.331 L1356.9 792.435 L1359.64 792.435 L1359.64 785.994 L1363.38 785.994 Z\" fill=\"#000000\" fill-rule=\"nonzero\" fill-opacity=\"1\" /><path clip-path=\"url(#clip550)\" d=\"M1734.97 1325.93 L1734.97 1337.29 L1740.11 1337.29 Q1742.97 1337.29 1744.53 1335.81 Q1746.09 1334.33 1746.09 1331.6 Q1746.09 1328.88 1744.53 1327.4 Q1742.97 1325.93 1740.11 1325.93 L1734.97 1325.93 M1730.88 1322.56 L1740.11 1322.56 Q1745.2 1322.56 1747.79 1324.87 Q1750.4 1327.16 1750.4 1331.6 Q1750.4 1336.07 1747.79 1338.36 Q1745.2 1340.65 1740.11 1340.65 L1734.97 1340.65 L1734.97 1352.8 L1730.88 1352.8 L1730.88 1322.56 Z\" fill=\"#000000\" fill-rule=\"nonzero\" fill-opacity=\"1\" /><path clip-path=\"url(#clip550)\" d=\"M1768.15 1333.6 Q1767.52 1333.24 1766.77 1333.07 Q1766.04 1332.89 1765.15 1332.89 Q1761.99 1332.89 1760.29 1334.96 Q1758.61 1337 1758.61 1340.85 L1758.61 1352.8 L1754.86 1352.8 L1754.86 1330.12 L1758.61 1330.12 L1758.61 1333.64 Q1759.78 1331.58 1761.67 1330.58 Q1763.55 1329.57 1766.24 1329.57 Q1766.63 1329.57 1767.09 1329.63 Q1767.56 1329.67 1768.13 1329.77 L1768.15 1333.6 Z\" fill=\"#000000\" fill-rule=\"nonzero\" fill-opacity=\"1\" /><path clip-path=\"url(#clip550)\" d=\"M1772.06 1330.12 L1775.78 1330.12 L1775.78 1352.8 L1772.06 1352.8 L1772.06 1330.12 M1772.06 1321.29 L1775.78 1321.29 L1775.78 1326.01 L1772.06 1326.01 L1772.06 1321.29 Z\" fill=\"#000000\" fill-rule=\"nonzero\" fill-opacity=\"1\" /><path clip-path=\"url(#clip550)\" d=\"M1798.04 1330.79 L1798.04 1334.31 Q1796.46 1333.5 1794.76 1333.1 Q1793.06 1332.69 1791.24 1332.69 Q1788.46 1332.69 1787.06 1333.54 Q1785.69 1334.39 1785.69 1336.09 Q1785.69 1337.39 1786.68 1338.14 Q1787.67 1338.87 1790.67 1339.54 L1791.95 1339.82 Q1795.92 1340.67 1797.58 1342.23 Q1799.26 1343.77 1799.26 1346.54 Q1799.26 1349.7 1796.75 1351.55 Q1794.26 1353.39 1789.88 1353.39 Q1788.06 1353.39 1786.07 1353.03 Q1784.11 1352.68 1781.92 1351.97 L1781.92 1348.12 Q1783.99 1349.2 1785.99 1349.74 Q1788 1350.27 1789.96 1350.27 Q1792.59 1350.27 1794.01 1349.38 Q1795.43 1348.47 1795.43 1346.83 Q1795.43 1345.31 1794.4 1344.5 Q1793.38 1343.69 1789.92 1342.94 L1788.62 1342.64 Q1785.16 1341.91 1783.62 1340.41 Q1782.08 1338.89 1782.08 1336.25 Q1782.08 1333.05 1784.35 1331.31 Q1786.62 1329.57 1790.79 1329.57 Q1792.86 1329.57 1794.68 1329.87 Q1796.5 1330.18 1798.04 1330.79 Z\" fill=\"#000000\" fill-rule=\"nonzero\" fill-opacity=\"1\" /><path clip-path=\"url(#clip550)\" d=\"M1808.88 1323.68 L1808.88 1330.12 L1816.56 1330.12 L1816.56 1333.01 L1808.88 1333.01 L1808.88 1345.33 Q1808.88 1348.1 1809.63 1348.89 Q1810.4 1349.68 1812.73 1349.68 L1816.56 1349.68 L1816.56 1352.8 L1812.73 1352.8 Q1808.41 1352.8 1806.77 1351.2 Q1805.13 1349.58 1805.13 1345.33 L1805.13 1333.01 L1802.4 1333.01 L1802.4 1330.12 L1805.13 1330.12 L1805.13 1323.68 L1808.88 1323.68 Z\" fill=\"#000000\" fill-rule=\"nonzero\" fill-opacity=\"1\" /><path clip-path=\"url(#clip550)\" d=\"M1821.46 1330.12 L1825.18 1330.12 L1825.18 1352.8 L1821.46 1352.8 L1821.46 1330.12 M1821.46 1321.29 L1825.18 1321.29 L1825.18 1326.01 L1821.46 1326.01 L1821.46 1321.29 Z\" fill=\"#000000\" fill-rule=\"nonzero\" fill-opacity=\"1\" /><path clip-path=\"url(#clip550)\" d=\"M1851.84 1339.11 L1851.84 1352.8 L1848.11 1352.8 L1848.11 1339.23 Q1848.11 1336.01 1846.86 1334.41 Q1845.6 1332.81 1843.09 1332.81 Q1840.07 1332.81 1838.33 1334.74 Q1836.59 1336.66 1836.59 1339.98 L1836.59 1352.8 L1832.84 1352.8 L1832.84 1330.12 L1836.59 1330.12 L1836.59 1333.64 Q1837.92 1331.6 1839.73 1330.58 Q1841.55 1329.57 1843.92 1329.57 Q1847.83 1329.57 1849.83 1332 Q1851.84 1334.41 1851.84 1339.11 Z\" fill=\"#000000\" fill-rule=\"nonzero\" fill-opacity=\"1\" /><path clip-path=\"url(#clip550)\" d=\"M1878.68 1340.53 L1878.68 1342.35 L1861.54 1342.35 Q1861.78 1346.2 1863.85 1348.23 Q1865.94 1350.23 1869.64 1350.23 Q1871.79 1350.23 1873.79 1349.7 Q1875.82 1349.18 1877.81 1348.12 L1877.81 1351.65 Q1875.8 1352.5 1873.69 1352.94 Q1871.59 1353.39 1869.42 1353.39 Q1863.99 1353.39 1860.81 1350.23 Q1857.65 1347.07 1857.65 1341.68 Q1857.65 1336.11 1860.65 1332.85 Q1863.67 1329.57 1868.77 1329.57 Q1873.35 1329.57 1876 1332.53 Q1878.68 1335.46 1878.68 1340.53 M1874.95 1339.43 Q1874.91 1336.38 1873.23 1334.55 Q1871.57 1332.73 1868.81 1332.73 Q1865.69 1332.73 1863.81 1334.49 Q1861.95 1336.25 1861.66 1339.46 L1874.95 1339.43 Z\" fill=\"#000000\" fill-rule=\"nonzero\" fill-opacity=\"1\" /><path clip-path=\"url(#clip550)\" d=\"M1902.23 1338.36 L1902.23 1349.44 L1908.79 1349.44 Q1912.1 1349.44 1913.68 1348.08 Q1915.28 1346.71 1915.28 1343.89 Q1915.28 1341.06 1913.68 1339.72 Q1912.1 1338.36 1908.79 1338.36 L1902.23 1338.36 M1902.23 1325.93 L1902.23 1335.04 L1908.29 1335.04 Q1911.29 1335.04 1912.74 1333.93 Q1914.22 1332.79 1914.22 1330.48 Q1914.22 1328.19 1912.74 1327.06 Q1911.29 1325.93 1908.29 1325.93 L1902.23 1325.93 M1898.14 1322.56 L1908.59 1322.56 Q1913.27 1322.56 1915.8 1324.51 Q1918.33 1326.45 1918.33 1330.04 Q1918.33 1332.81 1917.04 1334.45 Q1915.74 1336.09 1913.23 1336.5 Q1916.25 1337.15 1917.91 1339.21 Q1919.59 1341.26 1919.59 1344.34 Q1919.59 1348.39 1916.84 1350.6 Q1914.08 1352.8 1909 1352.8 L1898.14 1352.8 L1898.14 1322.56 Z\" fill=\"#000000\" fill-rule=\"nonzero\" fill-opacity=\"1\" /><path clip-path=\"url(#clip550)\" d=\"M1939.58 1333.6 Q1938.95 1333.24 1938.2 1333.07 Q1937.47 1332.89 1936.58 1332.89 Q1933.42 1332.89 1931.72 1334.96 Q1930.04 1337 1930.04 1340.85 L1930.04 1352.8 L1926.29 1352.8 L1926.29 1330.12 L1930.04 1330.12 L1930.04 1333.64 Q1931.22 1331.58 1933.1 1330.58 Q1934.98 1329.57 1937.68 1329.57 Q1938.06 1329.57 1938.53 1329.63 Q1938.99 1329.67 1939.56 1329.77 L1939.58 1333.6 Z\" fill=\"#000000\" fill-rule=\"nonzero\" fill-opacity=\"1\" /><path clip-path=\"url(#clip550)\" d=\"M1951.37 1332.73 Q1948.37 1332.73 1946.63 1335.08 Q1944.89 1337.41 1944.89 1341.48 Q1944.89 1345.55 1946.61 1347.9 Q1948.35 1350.23 1951.37 1350.23 Q1954.35 1350.23 1956.09 1347.88 Q1957.83 1345.53 1957.83 1341.48 Q1957.83 1337.45 1956.09 1335.1 Q1954.35 1332.73 1951.37 1332.73 M1951.37 1329.57 Q1956.23 1329.57 1959.01 1332.73 Q1961.78 1335.89 1961.78 1341.48 Q1961.78 1347.05 1959.01 1350.23 Q1956.23 1353.39 1951.37 1353.39 Q1946.49 1353.39 1943.71 1350.23 Q1940.96 1347.05 1940.96 1341.48 Q1940.96 1335.89 1943.71 1332.73 Q1946.49 1329.57 1951.37 1329.57 Z\" fill=\"#000000\" fill-rule=\"nonzero\" fill-opacity=\"1\" /><path clip-path=\"url(#clip550)\" d=\"M1976.75 1332.73 Q1973.75 1332.73 1972.01 1335.08 Q1970.27 1337.41 1970.27 1341.48 Q1970.27 1345.55 1971.99 1347.9 Q1973.73 1350.23 1976.75 1350.23 Q1979.73 1350.23 1981.47 1347.88 Q1983.21 1345.53 1983.21 1341.48 Q1983.21 1337.45 1981.47 1335.1 Q1979.73 1332.73 1976.75 1332.73 M1976.75 1329.57 Q1981.61 1329.57 1984.38 1332.73 Q1987.16 1335.89 1987.16 1341.48 Q1987.16 1347.05 1984.38 1350.23 Q1981.61 1353.39 1976.75 1353.39 Q1971.87 1353.39 1969.09 1350.23 Q1966.34 1347.05 1966.34 1341.48 Q1966.34 1335.89 1969.09 1332.73 Q1971.87 1329.57 1976.75 1329.57 Z\" fill=\"#000000\" fill-rule=\"nonzero\" fill-opacity=\"1\" /><path clip-path=\"url(#clip550)\" d=\"M1993.2 1321.29 L1996.94 1321.29 L1996.94 1339.9 L2008.06 1330.12 L2012.82 1330.12 L2000.79 1340.73 L2013.33 1352.8 L2008.47 1352.8 L1996.94 1341.72 L1996.94 1352.8 L1993.2 1352.8 L1993.2 1321.29 Z\" fill=\"#000000\" fill-rule=\"nonzero\" fill-opacity=\"1\" /></svg>\n"
            ]
          },
          "metadata": {},
          "output_type": "display_data"
        }
      ],
      "source": [
        "A = [0 1 1 1;\n",
        "    0 0 0 1;\n",
        "    0 0 0 1;\n",
        "    0 0 0 0]\n",
        "\n",
        "names = [\"Plant\", \"Land Treatment\", \"Chem Treatment\", \"Pristine Brook\"]\n",
        "# modify this dictionary to add labels\n",
        "edge_labels = Dict((1, 2) => L\"x_1\", (1,3) => L\"x_2\", (1, 4) => L\"x_3\",(2, 4) => L\"0.2x_1\",(3, 4) => L\".005x_2^2\")\n",
        "shapes=[:hexagon, :rect, :rect, :hexagon]\n",
        "xpos = [0, -1.5, -0.25, 1]\n",
        "ypos = [1, 0, 0, -1]\n",
        "\n",
        "p = graphplot(A, names=names,edgelabel=edge_labels, markersize=0.15, markershapes=shapes, markercolor=:white, x=xpos, y=ypos)\n",
        "display(p)"
      ]
    },
    {
      "cell_type": "markdown",
      "id": "35a80f6a-0862-4469-bd1d-e57f3e7762d3",
      "metadata": {},
      "source": [
        "**In this problem**:\n",
        "\n",
        "-   Formulate a mathematical model for the treatment cost and the amount\n",
        "    of YUK that will be discharged into Pristine Brook based on the\n",
        "    wastewater allocations. This is best done with some equations and\n",
        "    supporting text explaining the derivation. Make sure you include, as\n",
        "    additional equations in the model, any needed constraints on\n",
        "    relevant values. You can find some basics on writing mathematical\n",
        "    equations using the LaTeX typesetting syntax\n",
        "    [here](https://viveks.me/environmental-systems-analysis/tutorials/latex-notebook.qmd),\n",
        "    and a cheatsheet with LaTeX commands can be found on the course\n",
        "    website’s [Resources\n",
        "    page](https://viveks.me/environmental-systems-analysis/resources/markdown.qmd).\n",
        "\n",
        "-   Implement your systems model as a Julia function which computes the\n",
        "    resulting YUK concentration and cost for a particular treatment\n",
        "    plan. You can return multiple values from a function with a\n",
        "    [tuple](https://docs.julialang.org/en/v1/manual/functions/#Tuples-1),\n",
        "    as in:\n",
        "\n",
        "    ``` {julia}\n",
        "    function multiple_return_values(x, y)\n",
        "        return (x+y, x*y)\n",
        "    end\n",
        "\n",
        "    a, b = multiple_return_values(2, 5)\n",
        "    @show a;\n",
        "    @show b;\n",
        "    ```\n",
        "\n",
        "    To evalute the function over vectors of inputs, you can *broadcast*\n",
        "    the function by adding a decimal `.` before the function arguments\n",
        "    and accessing the resulting values by writing a *comprehension* to\n",
        "    loop over the individual outputs in the vector:\n",
        "\n",
        "    ``` {julia}\n",
        "    x = [1, 2, 3, 4, 5]\n",
        "    y = [6, 7, 8, 9, 10]\n",
        "\n",
        "    output = multiple_return_values.(x, y)\n",
        "    a = [out[1] for out in output]\n",
        "    b = [out[2] for out in output]\n",
        "    @show a;\n",
        "    @show b;\n",
        "    ```\n",
        "\n",
        "    Make sure you comment your code appropriately to make it clear what\n",
        "    is going on and why.\n",
        "\n",
        "-   Use your function to experiment with some different combinations of\n",
        "    wastewater discharge and treatment and plot the results of these\n",
        "    experiments. Can you find one that satisfies the YUK effluent\n",
        "    standard (plot this as well as a dashed red line)? What was the\n",
        "    cost? What can you say about the tradeoff between treatment cost and\n",
        "    YUK concentration? You don’t have to find an “optimal” solution to\n",
        "    this problem, but what do you think would be needed to find a better\n",
        "    solution?\n"
      ]
    },
    {
      "cell_type": "code",
      "execution_count": 143,
      "id": "f85dba67",
      "metadata": {},
      "outputs": [
        {
          "data": {
            "text/plain": [
              "82.5"
            ]
          },
          "metadata": {},
          "output_type": "display_data"
        }
      ],
      "source": [
        "\n",
        "\n"
      ]
    },
    {
      "cell_type": "markdown",
      "id": "93111227",
      "metadata": {},
      "source": [
        "\n",
        "### Problem 5 (10 points)\n",
        "\n",
        "**This problem is only required for students in BEE 5750**."
      ]
    },
    {
      "cell_type": "markdown",
      "id": "c860071d-9605-44fd-9824-08feaa19071c",
      "metadata": {},
      "source": [
        "#### Problem 5.1\n",
        "\n",
        "Using a\n",
        "[comprehension](https://viveks.me/environmental-systems-analysis/tutorials/julia-basics.html#comprehensions),\n",
        "count the number of odd numbers between 0 and 149."
      ]
    },
    {
      "cell_type": "markdown",
      "id": "bbad418b-b1e1-4bc1-9236-4dc7d5e0a6bb",
      "metadata": {},
      "source": [
        "> **Hint**\n",
        ">\n",
        "> `iseven()` returns `true` for even numbers and `false` for odd\n",
        "> numbers."
      ]
    },
    {
      "cell_type": "markdown",
      "id": "ab678985-748c-45a4-9154-8fd5765df1ce",
      "metadata": {},
      "source": [
        "#### Problem 5.2\n",
        "\n",
        "Write a function `polynomial(x, a)` which calculates the polynomial\n",
        "$$p(x) = \\sum_{i=1}^n a_i x^i$$\n",
        "\n",
        "based on a point `x` and a coefficient vector `a` of length `n` using a\n",
        "loop. Test your function by computing $$p(x) = 2x^3 - x^2 + 1$$ at\n",
        "$x=2$."
      ]
    },
    {
      "cell_type": "markdown",
      "id": "47b1b47a-d0c6-4812-b7a5-fbecebddd3f9",
      "metadata": {},
      "source": [
        "## References\n",
        "\n",
        "List any external references consulted, including classmates."
      ]
    }
  ],
  "metadata": {
    "kernel_info": {
      "name": "julia"
    },
    "kernelspec": {
      "display_name": "Julia 1.10.5",
      "language": "julia",
      "name": "julia-1.10"
    },
    "language_info": {
      "file_extension": ".jl",
      "mimetype": "application/julia",
      "name": "julia",
      "version": "1.10.5"
    }
  },
  "nbformat": 4,
  "nbformat_minor": 5
}
